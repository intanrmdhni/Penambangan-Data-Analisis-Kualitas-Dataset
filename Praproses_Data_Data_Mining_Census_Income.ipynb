{
  "nbformat": 4,
  "nbformat_minor": 0,
  "metadata": {
    "colab": {
      "name": "Praproses Data - Data Mining - Census Income.ipynb",
      "provenance": [],
      "collapsed_sections": [
        "22lklELJv2XZ",
        "TFIrvSoa1sxr",
        "R3KiT4j71WbQ",
        "tgjgkLwPL8gh",
        "kdygEq94kd9c",
        "kqhWqpw8L1Ui",
        "jr5mkVTtMD8E"
      ]
    },
    "kernelspec": {
      "name": "python3",
      "display_name": "Python 3"
    },
    "language_info": {
      "name": "python"
    }
  },
  "cells": [
    {
      "cell_type": "markdown",
      "metadata": {
        "id": "u5T5FGIYi5Qn"
      },
      "source": [
        "#TUGAS DATASET ADULT"
      ]
    },
    {
      "cell_type": "code",
      "metadata": {
        "id": "7vAuMDm0hZ3T"
      },
      "source": [
        "import pandas as pd\n",
        "import numpy as np\n",
        "import matplotlib.pyplot as plt\n",
        "import matplotlib as mpl\n",
        "import seaborn as sns\n",
        "from scipy import stats "
      ],
      "execution_count": null,
      "outputs": []
    },
    {
      "cell_type": "code",
      "metadata": {
        "colab": {
          "base_uri": "https://localhost:8080/",
          "height": 307
        },
        "id": "mtIP0v-Ji97S",
        "outputId": "386335bf-e818-46f9-ecb4-fb407a5d95a3"
      },
      "source": [
        "df_adult = pd.read_csv(\"adult.csv\") \n",
        "df_adult.tail()"
      ],
      "execution_count": null,
      "outputs": [
        {
          "output_type": "execute_result",
          "data": {
            "text/html": [
              "<div>\n",
              "<style scoped>\n",
              "    .dataframe tbody tr th:only-of-type {\n",
              "        vertical-align: middle;\n",
              "    }\n",
              "\n",
              "    .dataframe tbody tr th {\n",
              "        vertical-align: top;\n",
              "    }\n",
              "\n",
              "    .dataframe thead th {\n",
              "        text-align: right;\n",
              "    }\n",
              "</style>\n",
              "<table border=\"1\" class=\"dataframe\">\n",
              "  <thead>\n",
              "    <tr style=\"text-align: right;\">\n",
              "      <th></th>\n",
              "      <th>age</th>\n",
              "      <th>workclass</th>\n",
              "      <th>fnlwgt</th>\n",
              "      <th>education</th>\n",
              "      <th>education.num</th>\n",
              "      <th>marital.status</th>\n",
              "      <th>occupation</th>\n",
              "      <th>relationship</th>\n",
              "      <th>race</th>\n",
              "      <th>sex</th>\n",
              "      <th>capital.gain</th>\n",
              "      <th>capital.loss</th>\n",
              "      <th>hours.per.week</th>\n",
              "      <th>native.country</th>\n",
              "      <th>income</th>\n",
              "    </tr>\n",
              "  </thead>\n",
              "  <tbody>\n",
              "    <tr>\n",
              "      <th>32556</th>\n",
              "      <td>22</td>\n",
              "      <td>Private</td>\n",
              "      <td>310152</td>\n",
              "      <td>Some-college</td>\n",
              "      <td>10</td>\n",
              "      <td>Never-married</td>\n",
              "      <td>Protective-serv</td>\n",
              "      <td>Not-in-family</td>\n",
              "      <td>White</td>\n",
              "      <td>Male</td>\n",
              "      <td>0</td>\n",
              "      <td>0</td>\n",
              "      <td>40</td>\n",
              "      <td>United-States</td>\n",
              "      <td>&lt;=50K</td>\n",
              "    </tr>\n",
              "    <tr>\n",
              "      <th>32557</th>\n",
              "      <td>27</td>\n",
              "      <td>Private</td>\n",
              "      <td>257302</td>\n",
              "      <td>Assoc-acdm</td>\n",
              "      <td>12</td>\n",
              "      <td>Married-civ-spouse</td>\n",
              "      <td>Tech-support</td>\n",
              "      <td>Wife</td>\n",
              "      <td>White</td>\n",
              "      <td>Female</td>\n",
              "      <td>0</td>\n",
              "      <td>0</td>\n",
              "      <td>38</td>\n",
              "      <td>United-States</td>\n",
              "      <td>&lt;=50K</td>\n",
              "    </tr>\n",
              "    <tr>\n",
              "      <th>32558</th>\n",
              "      <td>40</td>\n",
              "      <td>Private</td>\n",
              "      <td>154374</td>\n",
              "      <td>HS-grad</td>\n",
              "      <td>9</td>\n",
              "      <td>Married-civ-spouse</td>\n",
              "      <td>Machine-op-inspct</td>\n",
              "      <td>Husband</td>\n",
              "      <td>White</td>\n",
              "      <td>Male</td>\n",
              "      <td>0</td>\n",
              "      <td>0</td>\n",
              "      <td>40</td>\n",
              "      <td>United-States</td>\n",
              "      <td>&gt;50K</td>\n",
              "    </tr>\n",
              "    <tr>\n",
              "      <th>32559</th>\n",
              "      <td>58</td>\n",
              "      <td>Private</td>\n",
              "      <td>151910</td>\n",
              "      <td>HS-grad</td>\n",
              "      <td>9</td>\n",
              "      <td>Widowed</td>\n",
              "      <td>Adm-clerical</td>\n",
              "      <td>Unmarried</td>\n",
              "      <td>White</td>\n",
              "      <td>Female</td>\n",
              "      <td>0</td>\n",
              "      <td>0</td>\n",
              "      <td>40</td>\n",
              "      <td>United-States</td>\n",
              "      <td>&lt;=50K</td>\n",
              "    </tr>\n",
              "    <tr>\n",
              "      <th>32560</th>\n",
              "      <td>22</td>\n",
              "      <td>Private</td>\n",
              "      <td>201490</td>\n",
              "      <td>HS-grad</td>\n",
              "      <td>9</td>\n",
              "      <td>Never-married</td>\n",
              "      <td>Adm-clerical</td>\n",
              "      <td>Own-child</td>\n",
              "      <td>White</td>\n",
              "      <td>Male</td>\n",
              "      <td>0</td>\n",
              "      <td>0</td>\n",
              "      <td>20</td>\n",
              "      <td>United-States</td>\n",
              "      <td>&lt;=50K</td>\n",
              "    </tr>\n",
              "  </tbody>\n",
              "</table>\n",
              "</div>"
            ],
            "text/plain": [
              "       age workclass  fnlwgt  ... hours.per.week  native.country income\n",
              "32556   22   Private  310152  ...             40   United-States  <=50K\n",
              "32557   27   Private  257302  ...             38   United-States  <=50K\n",
              "32558   40   Private  154374  ...             40   United-States   >50K\n",
              "32559   58   Private  151910  ...             40   United-States  <=50K\n",
              "32560   22   Private  201490  ...             20   United-States  <=50K\n",
              "\n",
              "[5 rows x 15 columns]"
            ]
          },
          "metadata": {},
          "execution_count": 2
        }
      ]
    },
    {
      "cell_type": "code",
      "metadata": {
        "colab": {
          "base_uri": "https://localhost:8080/"
        },
        "id": "1tqqxJuC62ZQ",
        "outputId": "c86fec3c-3b3e-4b41-f108-b2675f704d05"
      },
      "source": [
        "df_adult.shape"
      ],
      "execution_count": null,
      "outputs": [
        {
          "output_type": "execute_result",
          "data": {
            "text/plain": [
              "(32561, 15)"
            ]
          },
          "metadata": {},
          "execution_count": 3
        }
      ]
    },
    {
      "cell_type": "code",
      "metadata": {
        "colab": {
          "base_uri": "https://localhost:8080/"
        },
        "id": "NjpY1F9_1Km3",
        "outputId": "7b67e54f-f04b-4ea1-e8b1-708cbd353a63"
      },
      "source": [
        "df_adult.info()"
      ],
      "execution_count": null,
      "outputs": [
        {
          "output_type": "stream",
          "name": "stdout",
          "text": [
            "<class 'pandas.core.frame.DataFrame'>\n",
            "RangeIndex: 32561 entries, 0 to 32560\n",
            "Data columns (total 15 columns):\n",
            " #   Column          Non-Null Count  Dtype \n",
            "---  ------          --------------  ----- \n",
            " 0   age             32561 non-null  int64 \n",
            " 1   workclass       32561 non-null  object\n",
            " 2   fnlwgt          32561 non-null  int64 \n",
            " 3   education       32561 non-null  object\n",
            " 4   education.num   32561 non-null  int64 \n",
            " 5   marital.status  32561 non-null  object\n",
            " 6   occupation      32561 non-null  object\n",
            " 7   relationship    32561 non-null  object\n",
            " 8   race            32561 non-null  object\n",
            " 9   sex             32561 non-null  object\n",
            " 10  capital.gain    32561 non-null  int64 \n",
            " 11  capital.loss    32561 non-null  int64 \n",
            " 12  hours.per.week  32561 non-null  int64 \n",
            " 13  native.country  32561 non-null  object\n",
            " 14  income          32561 non-null  object\n",
            "dtypes: int64(6), object(9)\n",
            "memory usage: 3.7+ MB\n"
          ]
        }
      ]
    },
    {
      "cell_type": "markdown",
      "metadata": {
        "id": "22lklELJv2XZ"
      },
      "source": [
        "# Check The Data Quality"
      ]
    },
    {
      "cell_type": "code",
      "metadata": {
        "id": "GbxrDSRrrsIT",
        "colab": {
          "base_uri": "https://localhost:8080/"
        },
        "outputId": "32cea5b1-9a8c-48c9-e392-3e69bdbfa349"
      },
      "source": [
        "#look for null values in dataframe\n",
        "df_adult.isnull().sum()"
      ],
      "execution_count": null,
      "outputs": [
        {
          "output_type": "execute_result",
          "data": {
            "text/plain": [
              "age               0\n",
              "workclass         0\n",
              "fnlwgt            0\n",
              "education         0\n",
              "education.num     0\n",
              "marital.status    0\n",
              "occupation        0\n",
              "relationship      0\n",
              "race              0\n",
              "sex               0\n",
              "capital.gain      0\n",
              "capital.loss      0\n",
              "hours.per.week    0\n",
              "native.country    0\n",
              "income            0\n",
              "dtype: int64"
            ]
          },
          "metadata": {},
          "execution_count": 5
        }
      ]
    },
    {
      "cell_type": "code",
      "metadata": {
        "colab": {
          "base_uri": "https://localhost:8080/"
        },
        "id": "DEgxSdLB2WND",
        "outputId": "445b7c0e-8f7a-4906-84e4-0b97d13e73f6"
      },
      "source": [
        "# Check uniqe values\n",
        "print((df_adult['age'].unique()))\n",
        "print((df_adult['workclass'].unique()))\n",
        "print((df_adult['fnlwgt'].unique()))\n",
        "print((df_adult['education'].unique()))\n",
        "print((df_adult['education.num'].unique()))\n",
        "print((df_adult['marital.status'].unique()))\n",
        "print((df_adult['occupation'].unique()))\n",
        "print((df_adult['relationship'].unique()))\n",
        "print((df_adult['race'].unique()))\n",
        "print((df_adult['sex'].unique()))\n",
        "print((df_adult['capital.gain'].unique()))\n",
        "print((df_adult['capital.loss'].unique()))\n",
        "print((df_adult['hours.per.week'].unique()))\n",
        "print((df_adult['native.country'].unique()))\n",
        "print((df_adult['income'].unique()))"
      ],
      "execution_count": null,
      "outputs": [
        {
          "output_type": "stream",
          "name": "stdout",
          "text": [
            "[90 82 66 54 41 34 38 74 68 45 52 32 51 46 57 22 37 29 61 21 33 49 23 59\n",
            " 60 63 53 44 43 71 48 73 67 40 50 42 39 55 47 31 58 62 36 72 78 83 26 70\n",
            " 27 35 81 65 25 28 56 69 20 30 24 64 75 19 77 80 18 17 76 79 88 84 85 86\n",
            " 87]\n",
            "['?' 'Private' 'State-gov' 'Federal-gov' 'Self-emp-not-inc' 'Self-emp-inc'\n",
            " 'Local-gov' 'Without-pay' 'Never-worked']\n",
            "[ 77053 132870 186061 ...  34066  84661 257302]\n",
            "['HS-grad' 'Some-college' '7th-8th' '10th' 'Doctorate' 'Prof-school'\n",
            " 'Bachelors' 'Masters' '11th' 'Assoc-acdm' 'Assoc-voc' '1st-4th' '5th-6th'\n",
            " '12th' '9th' 'Preschool']\n",
            "[ 9 10  4  6 16 15 13 14  7 12 11  2  3  8  5  1]\n",
            "['Widowed' 'Divorced' 'Separated' 'Never-married' 'Married-civ-spouse'\n",
            " 'Married-spouse-absent' 'Married-AF-spouse']\n",
            "['?' 'Exec-managerial' 'Machine-op-inspct' 'Prof-specialty'\n",
            " 'Other-service' 'Adm-clerical' 'Craft-repair' 'Transport-moving'\n",
            " 'Handlers-cleaners' 'Sales' 'Farming-fishing' 'Tech-support'\n",
            " 'Protective-serv' 'Armed-Forces' 'Priv-house-serv']\n",
            "['Not-in-family' 'Unmarried' 'Own-child' 'Other-relative' 'Husband' 'Wife']\n",
            "['White' 'Black' 'Asian-Pac-Islander' 'Other' 'Amer-Indian-Eskimo']\n",
            "['Female' 'Male']\n",
            "[    0 99999 41310 34095 27828 25236 25124 22040 20051 18481 15831 15024\n",
            " 15020 14344 14084 13550 11678 10605 10566 10520  9562  9386  8614  7978\n",
            "  7896  7688  7443  7430  7298  6849  6767  6723  6514  6497  6418  6360\n",
            "  6097  5721  5556  5455  5178  5060  5013  4934  4931  4865  4787  4687\n",
            "  4650  4508  4416  4386  4101  4064  3942  3908  3887  3818  3781  3674\n",
            "  3471  3464  3456  3432  3418  3411  3325  3273  3137  3103  2993  2977\n",
            "  2964  2961  2936  2907  2885  2829  2653  2635  2597  2580  2538  2463\n",
            "  2414  2407  2387  2354  2346  2329  2290  2228  2202  2176  2174  2105\n",
            "  2062  2050  2036  2009  1848  1831  1797  1639  1506  1471  1455  1424\n",
            "  1409  1173  1151  1111  1086  1055   991   914   594   401   114]\n",
            "[4356 3900 3770 3683 3004 2824 2754 2603 2559 2547 2489 2472 2467 2457\n",
            " 2444 2415 2392 2377 2352 2339 2282 2267 2258 2246 2238 2231 2206 2205\n",
            " 2201 2179 2174 2163 2149 2129 2080 2057 2051 2042 2002 2001 1980 1977\n",
            " 1974 1944 1902 1887 1876 1848 1844 1825 1816 1762 1755 1741 1740 1735\n",
            " 1726 1721 1719 1672 1669 1668 1651 1648 1628 1617 1602 1594 1590 1579\n",
            " 1573 1564 1539 1504 1485 1411 1408 1380 1340 1258 1138 1092  974  880\n",
            "  810  653  625  419  323  213  155    0]\n",
            "[40 18 45 20 60 35 55 76 50 42 25 32 90 48 15 70 52 72 39  6 65 12 80 67\n",
            " 99 30 75 26 36 10 84 38 62 44  8 28 59  5 24 57 34 37 46 56 41 98 43 63\n",
            "  1 47 68 54  2 16  9  3  4 33 23 22 64 51 19 58 53 96 66 21  7 13 27 11\n",
            " 14 77 31 78 49 17 85 87 88 73 89 97 94 29 82 86 91 81 92 61 74 95]\n",
            "['United-States' '?' 'Mexico' 'Greece' 'Vietnam' 'China' 'Taiwan' 'India'\n",
            " 'Philippines' 'Trinadad&Tobago' 'Canada' 'South' 'Holand-Netherlands'\n",
            " 'Puerto-Rico' 'Poland' 'Iran' 'England' 'Germany' 'Italy' 'Japan' 'Hong'\n",
            " 'Honduras' 'Cuba' 'Ireland' 'Cambodia' 'Peru' 'Nicaragua'\n",
            " 'Dominican-Republic' 'Haiti' 'El-Salvador' 'Hungary' 'Columbia'\n",
            " 'Guatemala' 'Jamaica' 'Ecuador' 'France' 'Yugoslavia' 'Scotland'\n",
            " 'Portugal' 'Laos' 'Thailand' 'Outlying-US(Guam-USVI-etc)']\n",
            "['<=50K' '>50K']\n"
          ]
        }
      ]
    },
    {
      "cell_type": "markdown",
      "metadata": {
        "id": "RGkHqUU3bMih"
      },
      "source": [
        "### Replacing \"?\" with mean & modus"
      ]
    },
    {
      "cell_type": "code",
      "metadata": {
        "colab": {
          "base_uri": "https://localhost:8080/"
        },
        "id": "E7x02CvpbREI",
        "outputId": "f29b0352-cfb5-4660-e116-01ff31ee2208"
      },
      "source": [
        "#replace '?' pada fitur age dengan nilai mean\n",
        "mean = df_adult['age'].mean()\n",
        "df_adult['age'] = df_adult['age'].replace(['?'],mean)\n",
        "mean"
      ],
      "execution_count": null,
      "outputs": [
        {
          "output_type": "execute_result",
          "data": {
            "text/plain": [
              "38.58164675532078"
            ]
          },
          "metadata": {},
          "execution_count": 7
        }
      ]
    },
    {
      "cell_type": "code",
      "metadata": {
        "colab": {
          "base_uri": "https://localhost:8080/",
          "height": 35
        },
        "id": "taUX8l3mbWR4",
        "outputId": "472705f9-ff5c-4607-f8d6-00a5821e78b8"
      },
      "source": [
        "#replace '?' pada fitur workclass dengan nilai modus\n",
        "mode = df_adult['workclass'].mode().values[0]\n",
        "df_adult['workclass'] = df_adult['workclass'].replace(['?'],mode)\n",
        "mode"
      ],
      "execution_count": null,
      "outputs": [
        {
          "output_type": "execute_result",
          "data": {
            "application/vnd.google.colaboratory.intrinsic+json": {
              "type": "string"
            },
            "text/plain": [
              "'Private'"
            ]
          },
          "metadata": {},
          "execution_count": 8
        }
      ]
    },
    {
      "cell_type": "code",
      "metadata": {
        "colab": {
          "base_uri": "https://localhost:8080/"
        },
        "id": "t-tMwLy7bgGE",
        "outputId": "35495890-ec2c-44e5-e07e-16f0aaae8cd5"
      },
      "source": [
        "#replace '?' pada fitur fnlwgt dengan nilai mean\n",
        "mean = df_adult['fnlwgt'].mean()\n",
        "df_adult['fnlwgt'] = df_adult['fnlwgt'].replace(['?'],mean)\n",
        "mean"
      ],
      "execution_count": null,
      "outputs": [
        {
          "output_type": "execute_result",
          "data": {
            "text/plain": [
              "189778.36651208502"
            ]
          },
          "metadata": {},
          "execution_count": 9
        }
      ]
    },
    {
      "cell_type": "code",
      "metadata": {
        "colab": {
          "base_uri": "https://localhost:8080/",
          "height": 35
        },
        "id": "ME-aDas_bhkB",
        "outputId": "1bda5cf5-19a1-49e4-e54f-8608b198dcf2"
      },
      "source": [
        "#replace '?' pada fitur education dengan nilai modus\n",
        "mode = df_adult['education'].mode().values[0]\n",
        "df_adult['education'] = df_adult['education'].replace(['?'],mode)\n",
        "mode"
      ],
      "execution_count": null,
      "outputs": [
        {
          "output_type": "execute_result",
          "data": {
            "application/vnd.google.colaboratory.intrinsic+json": {
              "type": "string"
            },
            "text/plain": [
              "'HS-grad'"
            ]
          },
          "metadata": {},
          "execution_count": 10
        }
      ]
    },
    {
      "cell_type": "code",
      "metadata": {
        "colab": {
          "base_uri": "https://localhost:8080/"
        },
        "id": "SzDFiow6bj0y",
        "outputId": "e560800b-40a6-4465-82e5-e70eccaf073c"
      },
      "source": [
        "#replace '?' pada fitur education.num dengan nilai mean\n",
        "mean = df_adult['education.num'].mean()\n",
        "df_adult['education.num'] = df_adult['education.num'].replace(['?'],mean)\n",
        "mean"
      ],
      "execution_count": null,
      "outputs": [
        {
          "output_type": "execute_result",
          "data": {
            "text/plain": [
              "10.0806793403151"
            ]
          },
          "metadata": {},
          "execution_count": 11
        }
      ]
    },
    {
      "cell_type": "code",
      "metadata": {
        "colab": {
          "base_uri": "https://localhost:8080/",
          "height": 35
        },
        "id": "M8WYcUEgblDa",
        "outputId": "b1a1d736-5a44-4571-a0c5-c1faa89f227f"
      },
      "source": [
        "#replace '?' pada fitur marital.status dengan nilai modus\n",
        "mode = df_adult['marital.status'].mode().values[0]\n",
        "df_adult['marital.status'] = df_adult['marital.status'].replace(['?'],mode)\n",
        "mode"
      ],
      "execution_count": null,
      "outputs": [
        {
          "output_type": "execute_result",
          "data": {
            "application/vnd.google.colaboratory.intrinsic+json": {
              "type": "string"
            },
            "text/plain": [
              "'Married-civ-spouse'"
            ]
          },
          "metadata": {},
          "execution_count": 12
        }
      ]
    },
    {
      "cell_type": "code",
      "metadata": {
        "colab": {
          "base_uri": "https://localhost:8080/",
          "height": 35
        },
        "id": "aYvaUnQ2bmjS",
        "outputId": "3e349063-2fb7-400e-b569-b7b80c2a7550"
      },
      "source": [
        "#replace '?' pada fitur occupation dengan nilai modus\n",
        "mode = df_adult['occupation'].mode().values[0]\n",
        "df_adult['occupation'] = df_adult['occupation'].replace(['?'],mode)\n",
        "mode"
      ],
      "execution_count": null,
      "outputs": [
        {
          "output_type": "execute_result",
          "data": {
            "application/vnd.google.colaboratory.intrinsic+json": {
              "type": "string"
            },
            "text/plain": [
              "'Prof-specialty'"
            ]
          },
          "metadata": {},
          "execution_count": 13
        }
      ]
    },
    {
      "cell_type": "code",
      "metadata": {
        "colab": {
          "base_uri": "https://localhost:8080/",
          "height": 35
        },
        "id": "HOaNn8-7bn9G",
        "outputId": "684bdc91-aa37-47af-b222-da8b2ded4cac"
      },
      "source": [
        "#replace '?' pada fitur relationship dengan nilai modus\n",
        "mode = df_adult['relationship'].mode().values[0]\n",
        "df_adult['relationship'] = df_adult['relationship'].replace(['?'],mode)\n",
        "mode"
      ],
      "execution_count": null,
      "outputs": [
        {
          "output_type": "execute_result",
          "data": {
            "application/vnd.google.colaboratory.intrinsic+json": {
              "type": "string"
            },
            "text/plain": [
              "'Husband'"
            ]
          },
          "metadata": {},
          "execution_count": 14
        }
      ]
    },
    {
      "cell_type": "code",
      "metadata": {
        "colab": {
          "base_uri": "https://localhost:8080/",
          "height": 35
        },
        "id": "QkJVuMiBbpt0",
        "outputId": "b27d502e-ab41-477a-a21e-9d8c552ca33c"
      },
      "source": [
        "#replace '?' pada fitur race dengan nilai modus\n",
        "mode = df_adult['race'].mode().values[0]\n",
        "df_adult['race'] = df_adult['race'].replace(['?'],mode)\n",
        "mode"
      ],
      "execution_count": null,
      "outputs": [
        {
          "output_type": "execute_result",
          "data": {
            "application/vnd.google.colaboratory.intrinsic+json": {
              "type": "string"
            },
            "text/plain": [
              "'White'"
            ]
          },
          "metadata": {},
          "execution_count": 15
        }
      ]
    },
    {
      "cell_type": "code",
      "metadata": {
        "colab": {
          "base_uri": "https://localhost:8080/",
          "height": 35
        },
        "id": "EKMMZFrHbr-W",
        "outputId": "523c9615-5daf-4b31-8726-4b684a8a1bee"
      },
      "source": [
        "#replace '?' pada fitur sex dengan nilai modus\n",
        "mode = df_adult['sex'].mode().values[0]\n",
        "df_adult['sex'] = df_adult['sex'].replace(['?'],mode)\n",
        "mode"
      ],
      "execution_count": null,
      "outputs": [
        {
          "output_type": "execute_result",
          "data": {
            "application/vnd.google.colaboratory.intrinsic+json": {
              "type": "string"
            },
            "text/plain": [
              "'Male'"
            ]
          },
          "metadata": {},
          "execution_count": 16
        }
      ]
    },
    {
      "cell_type": "code",
      "metadata": {
        "colab": {
          "base_uri": "https://localhost:8080/"
        },
        "id": "oOaCaXuabtUC",
        "outputId": "eb2f965d-41fb-4112-8716-d79a0a487175"
      },
      "source": [
        "#replace '?' pada fitur capital.gain dengan nilai mean\n",
        "mean = df_adult['capital.gain'].mean()\n",
        "df_adult['capital.gain'] = df_adult['capital.gain'].replace(['?'],mean)\n",
        "mean"
      ],
      "execution_count": null,
      "outputs": [
        {
          "output_type": "execute_result",
          "data": {
            "text/plain": [
              "1077.6488437087312"
            ]
          },
          "metadata": {},
          "execution_count": 17
        }
      ]
    },
    {
      "cell_type": "code",
      "metadata": {
        "colab": {
          "base_uri": "https://localhost:8080/"
        },
        "id": "5J4kiAFlbuko",
        "outputId": "b47ed19a-f50e-4cd3-c0c4-39e9d8d614c6"
      },
      "source": [
        "#replace '?' pada fitur capital.loss dengan nilai mean\n",
        "mean = df_adult['capital.loss'].mean()\n",
        "df_adult['capital.loss'] = df_adult['capital.loss'].replace(['?'],mean)\n",
        "mean"
      ],
      "execution_count": null,
      "outputs": [
        {
          "output_type": "execute_result",
          "data": {
            "text/plain": [
              "87.303829734959"
            ]
          },
          "metadata": {},
          "execution_count": 18
        }
      ]
    },
    {
      "cell_type": "code",
      "metadata": {
        "colab": {
          "base_uri": "https://localhost:8080/"
        },
        "id": "8a5ozKaPbxQf",
        "outputId": "8df7c88a-32a3-407e-98ce-85688eed7014"
      },
      "source": [
        "#replace '?' dan NaN pada fitur hours.per.week dengan nilai mean\n",
        "mean = df_adult['hours.per.week'].mean()\n",
        "df_adult['hours.per.week'] = df_adult['hours.per.week'].replace(['?', np.nan],mean)\n",
        "mean"
      ],
      "execution_count": null,
      "outputs": [
        {
          "output_type": "execute_result",
          "data": {
            "text/plain": [
              "40.437455852092995"
            ]
          },
          "metadata": {},
          "execution_count": 19
        }
      ]
    },
    {
      "cell_type": "code",
      "metadata": {
        "colab": {
          "base_uri": "https://localhost:8080/",
          "height": 35
        },
        "id": "4mgRZsPSbyrM",
        "outputId": "8d457c62-036d-4a3a-dced-afd62b687650"
      },
      "source": [
        "#replace '?' dan NaN pada fitur native.country dengan nilai modus\n",
        "mode = df_adult['native.country'].mode().values[0]\n",
        "df_adult['native.country'] = df_adult['native.country'].replace(['?', np.nan],mode)\n",
        "mode"
      ],
      "execution_count": null,
      "outputs": [
        {
          "output_type": "execute_result",
          "data": {
            "application/vnd.google.colaboratory.intrinsic+json": {
              "type": "string"
            },
            "text/plain": [
              "'United-States'"
            ]
          },
          "metadata": {},
          "execution_count": 20
        }
      ]
    },
    {
      "cell_type": "code",
      "metadata": {
        "colab": {
          "base_uri": "https://localhost:8080/",
          "height": 35
        },
        "id": "tKWFQyj0b41y",
        "outputId": "c7039ca7-ab90-4fba-dd02-90db712441df"
      },
      "source": [
        "#replace '?' dan NaN pada fitur income dengan nilai modus\n",
        "mode = df_adult['income'].mode().values[0]\n",
        "df_adult['income'] = df_adult['income'].replace(['?', np.nan],mode)\n",
        "mode"
      ],
      "execution_count": null,
      "outputs": [
        {
          "output_type": "execute_result",
          "data": {
            "application/vnd.google.colaboratory.intrinsic+json": {
              "type": "string"
            },
            "text/plain": [
              "'<=50K'"
            ]
          },
          "metadata": {},
          "execution_count": 21
        }
      ]
    },
    {
      "cell_type": "markdown",
      "metadata": {
        "id": "rEQXyvE8usPd"
      },
      "source": [
        "### Duplicates Data"
      ]
    },
    {
      "cell_type": "code",
      "metadata": {
        "id": "lUGfjE8zuPgf",
        "colab": {
          "base_uri": "https://localhost:8080/"
        },
        "outputId": "5bb6ccc2-636a-4b70-b799-e517193861f8"
      },
      "source": [
        "#look for duplicate rows based on all coulumns\n",
        "df_adult[df_adult.duplicated()].shape"
      ],
      "execution_count": null,
      "outputs": [
        {
          "output_type": "execute_result",
          "data": {
            "text/plain": [
              "(24, 15)"
            ]
          },
          "metadata": {},
          "execution_count": 22
        }
      ]
    },
    {
      "cell_type": "code",
      "metadata": {
        "colab": {
          "base_uri": "https://localhost:8080/"
        },
        "id": "HANnmVrVLTTW",
        "outputId": "7ccb0862-65fd-468f-b3c3-fc2ffe00c4d8"
      },
      "source": [
        "# Handling Duplicates Data\n",
        "df_adult.drop_duplicates(inplace=True)\n",
        "df_adult[df_adult.duplicated()].any()"
      ],
      "execution_count": null,
      "outputs": [
        {
          "output_type": "execute_result",
          "data": {
            "text/plain": [
              "age               False\n",
              "workclass         False\n",
              "fnlwgt            False\n",
              "education         False\n",
              "education.num     False\n",
              "marital.status    False\n",
              "occupation        False\n",
              "relationship      False\n",
              "race              False\n",
              "sex               False\n",
              "capital.gain      False\n",
              "capital.loss      False\n",
              "hours.per.week    False\n",
              "native.country    False\n",
              "income            False\n",
              "dtype: bool"
            ]
          },
          "metadata": {},
          "execution_count": 23
        }
      ]
    },
    {
      "cell_type": "markdown",
      "metadata": {
        "id": "aa8K5CDnc1qB"
      },
      "source": [
        "### Look for Outliers"
      ]
    },
    {
      "cell_type": "code",
      "metadata": {
        "id": "REVM1xbW7Iz1"
      },
      "source": [
        "col_numeric = ['age', 'fnlwgt', 'education.num', 'capital.gain', 'capital.loss', 'hours.per.week']"
      ],
      "execution_count": null,
      "outputs": []
    },
    {
      "cell_type": "code",
      "metadata": {
        "colab": {
          "base_uri": "https://localhost:8080/",
          "height": 1000
        },
        "id": "OL77E5dd8GB5",
        "outputId": "db408091-eccf-49f5-df95-a410eee8ed43"
      },
      "source": [
        "#Mendeskripsikan fitur yang memiliki nilai outlier\n",
        "fig = plt.figure(figsize=(20, 30))\n",
        "\n",
        "for i in range(1, len(col_numeric)+1):\n",
        "    ax = fig.add_subplot(9,1,i)\n",
        "    sns.set_style('whitegrid')\n",
        "    sns.boxplot(df_adult[col_numeric[i-1]], orient='h')\n",
        "    plt.tight_layout()"
      ],
      "execution_count": null,
      "outputs": [
        {
          "output_type": "stream",
          "name": "stderr",
          "text": [
            "/usr/local/lib/python3.7/dist-packages/seaborn/_decorators.py:43: FutureWarning: Pass the following variable as a keyword arg: x. From version 0.12, the only valid positional argument will be `data`, and passing other arguments without an explicit keyword will result in an error or misinterpretation.\n",
            "  FutureWarning\n",
            "/usr/local/lib/python3.7/dist-packages/seaborn/_decorators.py:43: FutureWarning: Pass the following variable as a keyword arg: x. From version 0.12, the only valid positional argument will be `data`, and passing other arguments without an explicit keyword will result in an error or misinterpretation.\n",
            "  FutureWarning\n",
            "/usr/local/lib/python3.7/dist-packages/seaborn/_decorators.py:43: FutureWarning: Pass the following variable as a keyword arg: x. From version 0.12, the only valid positional argument will be `data`, and passing other arguments without an explicit keyword will result in an error or misinterpretation.\n",
            "  FutureWarning\n",
            "/usr/local/lib/python3.7/dist-packages/seaborn/_decorators.py:43: FutureWarning: Pass the following variable as a keyword arg: x. From version 0.12, the only valid positional argument will be `data`, and passing other arguments without an explicit keyword will result in an error or misinterpretation.\n",
            "  FutureWarning\n",
            "/usr/local/lib/python3.7/dist-packages/seaborn/_decorators.py:43: FutureWarning: Pass the following variable as a keyword arg: x. From version 0.12, the only valid positional argument will be `data`, and passing other arguments without an explicit keyword will result in an error or misinterpretation.\n",
            "  FutureWarning\n",
            "/usr/local/lib/python3.7/dist-packages/seaborn/_decorators.py:43: FutureWarning: Pass the following variable as a keyword arg: x. From version 0.12, the only valid positional argument will be `data`, and passing other arguments without an explicit keyword will result in an error or misinterpretation.\n",
            "  FutureWarning\n"
          ]
        },
        {
          "output_type": "display_data",
          "data": {
            "image/png": "[encoded data removed]",
            "text/plain": [
              "<Figure size 1440x2160 with 6 Axes>"
            ]
          },
          "metadata": {
            "needs_background": "light"
          }
        }
      ]
    },
    {
      "cell_type": "code",
      "metadata": {
        "colab": {
          "base_uri": "https://localhost:8080/"
        },
        "id": "I3a8TquWwIns",
        "outputId": "1966413b-0be1-459e-cabf-c2b5a290cb06"
      },
      "source": [
        "#Cari nilai IQR AGE\n",
        "Q1_age = df_adult['age'].quantile(0.25)\n",
        "Q3_age = df_adult['age'].quantile(0.75)\n",
        "iqr_age = Q3_age - Q1_age\n",
        "\n",
        "#Cari nilai IQR fnlwgt\n",
        "Q1_fnlwgt = df_adult['fnlwgt'].quantile(0.25)\n",
        "Q3_fnlwgt = df_adult['fnlwgt'].quantile(0.75)\n",
        "iqr_fnlwgt = Q3_fnlwgt - Q1_fnlwgt\n",
        "\n",
        "#Cari nilai IQR education.num\n",
        "Q1_education = df_adult['education.num'].quantile(0.25)\n",
        "Q3_education = df_adult['education.num'].quantile(0.75)\n",
        "iqr_education = Q3_education - Q1_education\n",
        "\n",
        "#Cari nilai IQR capital.gain\n",
        "Q1_gain = df_adult['capital.gain'].quantile(0.25)\n",
        "Q3_gain = df_adult['capital.gain'].quantile(0.75)\n",
        "iqr_gain = Q3_gain - Q1_gain\n",
        "\n",
        "#Cari nilai IQR capital.loss\n",
        "Q1_loss = df_adult['capital.loss'].quantile(0.25)\n",
        "Q3_loss = df_adult['capital.loss'].quantile(0.75)\n",
        "iqr_loss = Q3_loss - Q1_loss\n",
        "\n",
        "#Cari nilai IQR hours.per.week\n",
        "Q1_hoursperweek = df_adult['hours.per.week'].quantile(0.25)\n",
        "Q3_hoursperweek = df_adult['hours.per.week'].quantile(0.75)\n",
        "iqr_hoursperweek= Q3_hoursperweek - Q1_hoursperweek\n",
        "\n",
        "\n",
        "print(iqr_age)\n",
        "print(iqr_fnlwgt)\n",
        "print(iqr_education)\n",
        "print(iqr_gain)\n",
        "print(iqr_loss)\n",
        "print(iqr_hoursperweek)"
      ],
      "execution_count": null,
      "outputs": [
        {
          "output_type": "stream",
          "name": "stdout",
          "text": [
            "20.0\n",
            "119166.0\n",
            "3.0\n",
            "0.0\n",
            "0.0\n",
            "5.0\n"
          ]
        }
      ]
    },
    {
      "cell_type": "code",
      "metadata": {
        "id": "UOv9y-VwxzY3"
      },
      "source": [
        "#cari nilai minmax age\n",
        "upper_limit_age = Q3_age + 1.5 * iqr_age\n",
        "lower_limit_age = Q1_age - 1.5 * iqr_age\n",
        "\n",
        "#cari nilai minmax fnlwgt\n",
        "upper_limit_fnlwgt = Q3_fnlwgt + 1.5 * iqr_fnlwgt\n",
        "lower_limit_fnlwgt = Q1_fnlwgt - 1.5 * iqr_fnlwgt\n",
        "\n",
        "#cari nilai minmax education.num\n",
        "upper_limit_education = Q3_education+ 1.5 * iqr_education\n",
        "lower_limit_education = Q1_education - 1.5 * iqr_education\n",
        "\n",
        "#cari nilai minmax capital.gain\n",
        "upper_limit_gain = Q3_gain + 1.5 * iqr_gain\n",
        "lower_limit_gain = Q1_gain - 1.5 * iqr_gain\n",
        "\n",
        "#cari nilai minmax capital.loss\n",
        "upper_limit_loss = Q3_loss + 1.5 * iqr_loss\n",
        "lower_limit_loss = Q1_loss - 1.5 * iqr_loss\n",
        "\n",
        "#cari nilai minmax hours.per.week\n",
        "upper_limit_hoursperweek = Q3_hoursperweek + 1.5 * iqr_hoursperweek\n",
        "lower_limit_hoursperweek = Q1_hoursperweek - 1.5 * iqr_hoursperweek"
      ],
      "execution_count": null,
      "outputs": []
    },
    {
      "cell_type": "markdown",
      "metadata": {
        "id": "TFIrvSoa1sxr"
      },
      "source": [
        "## Data Cleaning"
      ]
    },
    {
      "cell_type": "code",
      "metadata": {
        "id": "G8bAPFJM-82m"
      },
      "source": [
        "#Menghilangkan outliers age\n",
        "new_df_cap = df_adult.copy()\n",
        "new_df_cap['age'] = np.where(\n",
        "    new_df_cap['age'] > upper_limit_age,\n",
        "    upper_limit_age,\n",
        "    np.where(\n",
        "        new_df_cap['age'] < lower_limit_age,\n",
        "        lower_limit_age,\n",
        "        new_df_cap['age']\n",
        "    )\n",
        ")\n",
        "\n",
        "#Menghilangkan outliers fnlwgt\n",
        "new_df_cap['fnlwgt'] = np.where(\n",
        "    new_df_cap['fnlwgt'] > upper_limit_fnlwgt,\n",
        "    upper_limit_fnlwgt,\n",
        "    np.where(\n",
        "        new_df_cap['fnlwgt'] < lower_limit_fnlwgt,\n",
        "        lower_limit_fnlwgt,\n",
        "        new_df_cap['fnlwgt']\n",
        "    )\n",
        ")\n",
        "\n",
        "#Menghilangkan outliers education.num\n",
        "new_df_cap['education.num'] = np.where(\n",
        "    new_df_cap['education.num'] > upper_limit_education,\n",
        "    upper_limit_education,\n",
        "    np.where(\n",
        "        new_df_cap['education.num'] < lower_limit_education,\n",
        "        lower_limit_education,\n",
        "        new_df_cap['education.num']\n",
        "    )\n",
        ")\n",
        "\n",
        "#Menghilangkan outliers capital.gain\n",
        "new_df_cap['capital.gain'] = np.where(\n",
        "    new_df_cap['capital.gain'] > upper_limit_gain,\n",
        "    upper_limit_gain,\n",
        "    np.where(\n",
        "        new_df_cap['capital.gain'] < lower_limit_gain,\n",
        "        lower_limit_gain,\n",
        "        new_df_cap['capital.gain']\n",
        "    )\n",
        ")\n",
        "\n",
        "#Menghilangkan outliers capital.loss\n",
        "new_df_cap['capital.loss'] = np.where(\n",
        "    new_df_cap['capital.loss'] > upper_limit_loss,\n",
        "    upper_limit_loss,\n",
        "    np.where(\n",
        "        new_df_cap['capital.loss'] < lower_limit_loss,\n",
        "        lower_limit_loss,\n",
        "        new_df_cap['capital.loss']\n",
        "    )\n",
        ")\n",
        "\n",
        "#Menghilangkan outliers 'hours.per.week'\n",
        "new_df_cap['hours.per.week'] = np.where(\n",
        "    new_df_cap['hours.per.week'] > upper_limit_hoursperweek,\n",
        "    upper_limit_hoursperweek,\n",
        "    np.where(\n",
        "        new_df_cap['hours.per.week'] < lower_limit_hoursperweek,\n",
        "        lower_limit_hoursperweek,\n",
        "        new_df_cap['hours.per.week']\n",
        "    )\n",
        ")"
      ],
      "execution_count": null,
      "outputs": []
    },
    {
      "cell_type": "code",
      "metadata": {
        "id": "7s1XZPNyjYIx"
      },
      "source": [
        "col_numeric2 = ['age', 'fnlwgt', 'education.num', 'capital.gain', 'capital.loss', 'hours.per.week']"
      ],
      "execution_count": null,
      "outputs": []
    },
    {
      "cell_type": "code",
      "metadata": {
        "id": "zCJ0pB2XbNDq",
        "colab": {
          "base_uri": "https://localhost:8080/",
          "height": 1000
        },
        "outputId": "3c366517-2e93-4faa-ee5d-059798727bf5"
      },
      "source": [
        "#Mengecek fitur yang memiliki nilai outlier\n",
        "fig = plt.figure(figsize=(10, 30))\n",
        "\n",
        "for i in range(1, len(col_numeric2)+1):\n",
        "    ax = fig.add_subplot(9,1,i)\n",
        "    sns.set_style('whitegrid')\n",
        "    sns.boxplot(new_df_cap[col_numeric2[i-1]], orient='h')\n",
        "    plt.tight_layout()"
      ],
      "execution_count": null,
      "outputs": [
        {
          "output_type": "stream",
          "name": "stderr",
          "text": [
            "/usr/local/lib/python3.7/dist-packages/seaborn/_decorators.py:43: FutureWarning: Pass the following variable as a keyword arg: x. From version 0.12, the only valid positional argument will be `data`, and passing other arguments without an explicit keyword will result in an error or misinterpretation.\n",
            "  FutureWarning\n",
            "/usr/local/lib/python3.7/dist-packages/seaborn/_decorators.py:43: FutureWarning: Pass the following variable as a keyword arg: x. From version 0.12, the only valid positional argument will be `data`, and passing other arguments without an explicit keyword will result in an error or misinterpretation.\n",
            "  FutureWarning\n",
            "/usr/local/lib/python3.7/dist-packages/seaborn/_decorators.py:43: FutureWarning: Pass the following variable as a keyword arg: x. From version 0.12, the only valid positional argument will be `data`, and passing other arguments without an explicit keyword will result in an error or misinterpretation.\n",
            "  FutureWarning\n",
            "/usr/local/lib/python3.7/dist-packages/seaborn/_decorators.py:43: FutureWarning: Pass the following variable as a keyword arg: x. From version 0.12, the only valid positional argument will be `data`, and passing other arguments without an explicit keyword will result in an error or misinterpretation.\n",
            "  FutureWarning\n",
            "/usr/local/lib/python3.7/dist-packages/seaborn/_decorators.py:43: FutureWarning: Pass the following variable as a keyword arg: x. From version 0.12, the only valid positional argument will be `data`, and passing other arguments without an explicit keyword will result in an error or misinterpretation.\n",
            "  FutureWarning\n",
            "/usr/local/lib/python3.7/dist-packages/seaborn/_decorators.py:43: FutureWarning: Pass the following variable as a keyword arg: x. From version 0.12, the only valid positional argument will be `data`, and passing other arguments without an explicit keyword will result in an error or misinterpretation.\n",
            "  FutureWarning\n"
          ]
        },
        {
          "output_type": "display_data",
          "data": {
            "image/png": "[encoded data removed]",
            "text/plain": [
              "<Figure size 720x2160 with 6 Axes>"
            ]
          },
          "metadata": {}
        }
      ]
    },
    {
      "cell_type": "markdown",
      "metadata": {
        "id": "R3KiT4j71WbQ"
      },
      "source": [
        "# Eksplorasi Data"
      ]
    },
    {
      "cell_type": "markdown",
      "metadata": {
        "id": "tgjgkLwPL8gh"
      },
      "source": [
        "## Summary Statistics"
      ]
    },
    {
      "cell_type": "markdown",
      "metadata": {
        "id": "ps3CitrCl51q"
      },
      "source": [
        "```\n",
        " #   Column          Non-Null Count  Dtype \n",
        "---  ------          --------------  ----- \n",
        " 0   age             32561 non-null  int64 \n",
        " 1   workclass       32561 non-null  object\n",
        " 2   fnlwgt          32561 non-null  int64 \n",
        " 3   education       32561 non-null  object\n",
        " 4   education.num   32561 non-null  int64 \n",
        " 5   marital.status  32561 non-null  object\n",
        " 6   occupation      32561 non-null  object\n",
        " 7   relationship    32561 non-null  object\n",
        " 8   race            32561 non-null  object\n",
        " 9   sex             32561 non-null  object\n",
        " 10  capital.gain    32561 non-null  int64 \n",
        " 11  capital.loss    32561 non-null  int64 \n",
        " 12  hours.per.week  32561 non-null  int64 \n",
        " 13  native.country  32561 non-null  object\n",
        " 14  income          32561 non-null  object\n",
        "```"
      ]
    },
    {
      "cell_type": "code",
      "metadata": {
        "id": "LI5cClzIx9YD"
      },
      "source": [
        "df_num = df_adult[['age', 'fnlwgt', 'education.num', 'capital.gain', 'capital.loss', 'hours.per.week']]"
      ],
      "execution_count": null,
      "outputs": []
    },
    {
      "cell_type": "code",
      "metadata": {
        "colab": {
          "base_uri": "https://localhost:8080/"
        },
        "id": "WVufMMg6xr6p",
        "outputId": "d9955f94-3c9c-407e-86a6-803899f39f44"
      },
      "source": [
        "df_adult.describe()"
      ],
      "execution_count": null,
      "outputs": [
        {
          "output_type": "execute_result",
          "data": {
            "text/html": [
              "<div>\n",
              "<style scoped>\n",
              "    .dataframe tbody tr th:only-of-type {\n",
              "        vertical-align: middle;\n",
              "    }\n",
              "\n",
              "    .dataframe tbody tr th {\n",
              "        vertical-align: top;\n",
              "    }\n",
              "\n",
              "    .dataframe thead th {\n",
              "        text-align: right;\n",
              "    }\n",
              "</style>\n",
              "<table border=\"1\" class=\"dataframe\">\n",
              "  <thead>\n",
              "    <tr style=\"text-align: right;\">\n",
              "      <th></th>\n",
              "      <th>age</th>\n",
              "      <th>fnlwgt</th>\n",
              "      <th>education.num</th>\n",
              "      <th>capital.gain</th>\n",
              "      <th>capital.loss</th>\n",
              "      <th>hours.per.week</th>\n",
              "    </tr>\n",
              "  </thead>\n",
              "  <tbody>\n",
              "    <tr>\n",
              "      <th>count</th>\n",
              "      <td>32537.000000</td>\n",
              "      <td>3.253700e+04</td>\n",
              "      <td>32537.000000</td>\n",
              "      <td>32537.000000</td>\n",
              "      <td>32537.000000</td>\n",
              "      <td>32537.000000</td>\n",
              "    </tr>\n",
              "    <tr>\n",
              "      <th>mean</th>\n",
              "      <td>38.585549</td>\n",
              "      <td>1.897808e+05</td>\n",
              "      <td>10.081815</td>\n",
              "      <td>1078.443741</td>\n",
              "      <td>87.368227</td>\n",
              "      <td>40.440329</td>\n",
              "    </tr>\n",
              "    <tr>\n",
              "      <th>std</th>\n",
              "      <td>13.637984</td>\n",
              "      <td>1.055565e+05</td>\n",
              "      <td>2.571633</td>\n",
              "      <td>7387.957424</td>\n",
              "      <td>403.101833</td>\n",
              "      <td>12.346889</td>\n",
              "    </tr>\n",
              "    <tr>\n",
              "      <th>min</th>\n",
              "      <td>17.000000</td>\n",
              "      <td>1.228500e+04</td>\n",
              "      <td>1.000000</td>\n",
              "      <td>0.000000</td>\n",
              "      <td>0.000000</td>\n",
              "      <td>1.000000</td>\n",
              "    </tr>\n",
              "    <tr>\n",
              "      <th>25%</th>\n",
              "      <td>28.000000</td>\n",
              "      <td>1.178270e+05</td>\n",
              "      <td>9.000000</td>\n",
              "      <td>0.000000</td>\n",
              "      <td>0.000000</td>\n",
              "      <td>40.000000</td>\n",
              "    </tr>\n",
              "    <tr>\n",
              "      <th>50%</th>\n",
              "      <td>37.000000</td>\n",
              "      <td>1.783560e+05</td>\n",
              "      <td>10.000000</td>\n",
              "      <td>0.000000</td>\n",
              "      <td>0.000000</td>\n",
              "      <td>40.000000</td>\n",
              "    </tr>\n",
              "    <tr>\n",
              "      <th>75%</th>\n",
              "      <td>48.000000</td>\n",
              "      <td>2.369930e+05</td>\n",
              "      <td>12.000000</td>\n",
              "      <td>0.000000</td>\n",
              "      <td>0.000000</td>\n",
              "      <td>45.000000</td>\n",
              "    </tr>\n",
              "    <tr>\n",
              "      <th>max</th>\n",
              "      <td>90.000000</td>\n",
              "      <td>1.484705e+06</td>\n",
              "      <td>16.000000</td>\n",
              "      <td>99999.000000</td>\n",
              "      <td>4356.000000</td>\n",
              "      <td>99.000000</td>\n",
              "    </tr>\n",
              "  </tbody>\n",
              "</table>\n",
              "</div>"
            ],
            "text/plain": [
              "                age        fnlwgt  ...  capital.loss  hours.per.week\n",
              "count  32537.000000  3.253700e+04  ...  32537.000000    32537.000000\n",
              "mean      38.585549  1.897808e+05  ...     87.368227       40.440329\n",
              "std       13.637984  1.055565e+05  ...    403.101833       12.346889\n",
              "min       17.000000  1.228500e+04  ...      0.000000        1.000000\n",
              "25%       28.000000  1.178270e+05  ...      0.000000       40.000000\n",
              "50%       37.000000  1.783560e+05  ...      0.000000       40.000000\n",
              "75%       48.000000  2.369930e+05  ...      0.000000       45.000000\n",
              "max       90.000000  1.484705e+06  ...   4356.000000       99.000000\n",
              "\n",
              "[8 rows x 6 columns]"
            ]
          },
          "metadata": {},
          "execution_count": 32
        }
      ]
    },
    {
      "cell_type": "markdown",
      "metadata": {
        "id": "mBBYa6zjf8L-"
      },
      "source": [
        "### Frekuensi"
      ]
    },
    {
      "cell_type": "code",
      "metadata": {
        "id": "fpzp_UhKMHwk",
        "colab": {
          "base_uri": "https://localhost:8080/"
        },
        "outputId": "d3b07114-8b62-43c7-b5e2-ea35d5fcefd2"
      },
      "source": [
        "#Workclass\n",
        "df_adult_workclass = df_adult['workclass']\n",
        "df_adult_workclass.value_counts()"
      ],
      "execution_count": null,
      "outputs": [
        {
          "output_type": "execute_result",
          "data": {
            "text/plain": [
              "Private             24509\n",
              "Self-emp-not-inc     2540\n",
              "Local-gov            2093\n",
              "State-gov            1298\n",
              "Self-emp-inc         1116\n",
              "Federal-gov           960\n",
              "Without-pay            14\n",
              "Never-worked            7\n",
              "Name: workclass, dtype: int64"
            ]
          },
          "metadata": {},
          "execution_count": 33
        }
      ]
    },
    {
      "cell_type": "code",
      "metadata": {
        "colab": {
          "base_uri": "https://localhost:8080/"
        },
        "id": "SvH9zT2zkCxM",
        "outputId": "af2a30c7-6c3e-4615-d7f1-8de2b1d85529"
      },
      "source": [
        "#education\n",
        "df_adult_education = df_adult['education']\n",
        "df_adult_education.value_counts()"
      ],
      "execution_count": null,
      "outputs": [
        {
          "output_type": "execute_result",
          "data": {
            "text/plain": [
              "HS-grad         10494\n",
              "Some-college     7282\n",
              "Bachelors        5353\n",
              "Masters          1722\n",
              "Assoc-voc        1382\n",
              "11th             1175\n",
              "Assoc-acdm       1067\n",
              "10th              933\n",
              "7th-8th           645\n",
              "Prof-school       576\n",
              "9th               514\n",
              "12th              433\n",
              "Doctorate         413\n",
              "5th-6th           332\n",
              "1st-4th           166\n",
              "Preschool          50\n",
              "Name: education, dtype: int64"
            ]
          },
          "metadata": {},
          "execution_count": 34
        }
      ]
    },
    {
      "cell_type": "code",
      "metadata": {
        "colab": {
          "base_uri": "https://localhost:8080/"
        },
        "id": "hgJkscL-kO7f",
        "outputId": "99ebbb6d-b50a-40f9-be15-f2c4cbd18468"
      },
      "source": [
        "#marital.status\n",
        "df_adult_marita_status = df_adult['marital.status']\n",
        "df_adult_marita_status.value_counts()"
      ],
      "execution_count": null,
      "outputs": [
        {
          "output_type": "execute_result",
          "data": {
            "text/plain": [
              "Married-civ-spouse       14970\n",
              "Never-married            10667\n",
              "Divorced                  4441\n",
              "Separated                 1025\n",
              "Widowed                    993\n",
              "Married-spouse-absent      418\n",
              "Married-AF-spouse           23\n",
              "Name: marital.status, dtype: int64"
            ]
          },
          "metadata": {},
          "execution_count": 35
        }
      ]
    },
    {
      "cell_type": "code",
      "metadata": {
        "colab": {
          "base_uri": "https://localhost:8080/"
        },
        "id": "MntMLFiakOxw",
        "outputId": "fff7607d-5a94-4730-e358-e0beb97c97dd"
      },
      "source": [
        "#occupation\n",
        "df_adult_occupation = df_adult['occupation']\n",
        "df_adult_occupation.value_counts()"
      ],
      "execution_count": null,
      "outputs": [
        {
          "output_type": "execute_result",
          "data": {
            "text/plain": [
              "Prof-specialty       5979\n",
              "Craft-repair         4094\n",
              "Exec-managerial      4065\n",
              "Adm-clerical         3768\n",
              "Sales                3650\n",
              "Other-service        3291\n",
              "Machine-op-inspct    2000\n",
              "Transport-moving     1597\n",
              "Handlers-cleaners    1369\n",
              "Farming-fishing       992\n",
              "Tech-support          927\n",
              "Protective-serv       649\n",
              "Priv-house-serv       147\n",
              "Armed-Forces            9\n",
              "Name: occupation, dtype: int64"
            ]
          },
          "metadata": {},
          "execution_count": 36
        }
      ]
    },
    {
      "cell_type": "code",
      "metadata": {
        "colab": {
          "base_uri": "https://localhost:8080/"
        },
        "id": "Bk6vdpmtkOoD",
        "outputId": "5d0915b5-2493-4603-a194-3549b957ea36"
      },
      "source": [
        "#relationship\n",
        "df_adult_relationship = df_adult['relationship']\n",
        "df_adult_relationship.value_counts()"
      ],
      "execution_count": null,
      "outputs": [
        {
          "output_type": "execute_result",
          "data": {
            "text/plain": [
              "Husband           13187\n",
              "Not-in-family      8292\n",
              "Own-child          5064\n",
              "Unmarried          3445\n",
              "Wife               1568\n",
              "Other-relative      981\n",
              "Name: relationship, dtype: int64"
            ]
          },
          "metadata": {},
          "execution_count": 37
        }
      ]
    },
    {
      "cell_type": "code",
      "metadata": {
        "colab": {
          "base_uri": "https://localhost:8080/"
        },
        "id": "YuN1mHxdkOeC",
        "outputId": "d93f282c-f24b-4753-a4da-b02eb2fc55a8"
      },
      "source": [
        "#race\n",
        "df_adult_race = df_adult['race']\n",
        "df_adult_race.value_counts()"
      ],
      "execution_count": null,
      "outputs": [
        {
          "output_type": "execute_result",
          "data": {
            "text/plain": [
              "White                 27795\n",
              "Black                  3122\n",
              "Asian-Pac-Islander     1038\n",
              "Amer-Indian-Eskimo      311\n",
              "Other                   271\n",
              "Name: race, dtype: int64"
            ]
          },
          "metadata": {},
          "execution_count": 38
        }
      ]
    },
    {
      "cell_type": "code",
      "metadata": {
        "colab": {
          "base_uri": "https://localhost:8080/"
        },
        "id": "c9zTM_8PkOTS",
        "outputId": "249b27f3-5179-4f7b-964d-7e386aef6eac"
      },
      "source": [
        "#sex\n",
        "df_adult_sex = df_adult['sex']\n",
        "df_adult_sex.value_counts()"
      ],
      "execution_count": null,
      "outputs": [
        {
          "output_type": "execute_result",
          "data": {
            "text/plain": [
              "Male      21775\n",
              "Female    10762\n",
              "Name: sex, dtype: int64"
            ]
          },
          "metadata": {},
          "execution_count": 39
        }
      ]
    },
    {
      "cell_type": "code",
      "metadata": {
        "colab": {
          "base_uri": "https://localhost:8080/"
        },
        "id": "dv3nxM4mkOIt",
        "outputId": "9f1583b4-2725-4264-81b8-df5b8d20e9c2"
      },
      "source": [
        "#native.country\n",
        "df_adult_native_country = df_adult['native.country']\n",
        "df_adult_native_country.value_counts()"
      ],
      "execution_count": null,
      "outputs": [
        {
          "output_type": "execute_result",
          "data": {
            "text/plain": [
              "United-States                 29735\n",
              "Mexico                          639\n",
              "Philippines                     198\n",
              "Germany                         137\n",
              "Canada                          121\n",
              "Puerto-Rico                     114\n",
              "El-Salvador                     106\n",
              "India                           100\n",
              "Cuba                             95\n",
              "England                          90\n",
              "Jamaica                          81\n",
              "South                            80\n",
              "China                            75\n",
              "Italy                            73\n",
              "Dominican-Republic               70\n",
              "Vietnam                          67\n",
              "Guatemala                        62\n",
              "Japan                            62\n",
              "Poland                           60\n",
              "Columbia                         59\n",
              "Taiwan                           51\n",
              "Haiti                            44\n",
              "Iran                             43\n",
              "Portugal                         37\n",
              "Nicaragua                        34\n",
              "Peru                             31\n",
              "Greece                           29\n",
              "France                           29\n",
              "Ecuador                          28\n",
              "Ireland                          24\n",
              "Hong                             20\n",
              "Trinadad&Tobago                  19\n",
              "Cambodia                         19\n",
              "Laos                             18\n",
              "Thailand                         18\n",
              "Yugoslavia                       16\n",
              "Outlying-US(Guam-USVI-etc)       14\n",
              "Hungary                          13\n",
              "Honduras                         13\n",
              "Scotland                         12\n",
              "Holand-Netherlands                1\n",
              "Name: native.country, dtype: int64"
            ]
          },
          "metadata": {},
          "execution_count": 40
        }
      ]
    },
    {
      "cell_type": "code",
      "metadata": {
        "colab": {
          "base_uri": "https://localhost:8080/"
        },
        "id": "qg9QRd4lkN9E",
        "outputId": "48f3db37-c231-467c-8685-3bc5e79863eb"
      },
      "source": [
        "#income\n",
        "df_adult_income = df_adult['income']\n",
        "df_adult_income.value_counts()"
      ],
      "execution_count": null,
      "outputs": [
        {
          "output_type": "execute_result",
          "data": {
            "text/plain": [
              "<=50K    24698\n",
              ">50K      7839\n",
              "Name: income, dtype: int64"
            ]
          },
          "metadata": {},
          "execution_count": 41
        }
      ]
    },
    {
      "cell_type": "markdown",
      "metadata": {
        "id": "FxYGUxsDLmYJ"
      },
      "source": [
        ""
      ]
    },
    {
      "cell_type": "markdown",
      "metadata": {
        "id": "stclR5AxkSKg"
      },
      "source": [
        "### Standar deviansi"
      ]
    },
    {
      "cell_type": "markdown",
      "metadata": {
        "id": "mYVG3YiY28s7"
      },
      "source": [
        "\n",
        "\n",
        "---\n",
        "\n",
        "\n",
        "numpy.std(arr, axis = None) : Compute the standard deviation of the given data (array elements) along the specified axis(if any)..\n",
        "\n",
        "Standard Deviation (SD) is measured as the spread of data distribution in the given data set.\n",
        "\n",
        "\n",
        "---\n",
        "\n"
      ]
    },
    {
      "cell_type": "markdown",
      "metadata": {
        "id": "CxBf5XjX20-g"
      },
      "source": [
        "![image.png](data:image/png;base64,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)"
      ]
    },
    {
      "cell_type": "code",
      "metadata": {
        "id": "eVMfnYOKM9QG",
        "colab": {
          "base_uri": "https://localhost:8080/"
        },
        "outputId": "7b18366b-0e3c-40fe-cfd7-d186b73a5b84"
      },
      "source": [
        "df_num.std()"
      ],
      "execution_count": null,
      "outputs": [
        {
          "output_type": "execute_result",
          "data": {
            "text/plain": [
              "age                   13.637984\n",
              "fnlwgt            105556.471009\n",
              "education.num          2.571633\n",
              "capital.gain        7387.957424\n",
              "capital.loss         403.101833\n",
              "hours.per.week        12.346889\n",
              "dtype: float64"
            ]
          },
          "metadata": {},
          "execution_count": 42
        }
      ]
    },
    {
      "cell_type": "markdown",
      "metadata": {
        "id": "kdygEq94kd9c"
      },
      "source": [
        "## EDA"
      ]
    },
    {
      "cell_type": "markdown",
      "metadata": {
        "id": "KoWmyro02Fps"
      },
      "source": [
        "### Univariate Analysis"
      ]
    },
    {
      "cell_type": "code",
      "metadata": {
        "colab": {
          "base_uri": "https://localhost:8080/"
        },
        "id": "1Sz4MS9_B1fg",
        "outputId": "5646adb3-8ad2-43ac-f84d-63de59cf5a2b"
      },
      "source": [
        "fig = plt.figure(figsize=(10,6))\n",
        "df_adult['age'].value_counts().sort_index().plot.line()"
      ],
      "execution_count": null,
      "outputs": [
        {
          "output_type": "execute_result",
          "data": {
            "text/plain": [
              "<matplotlib.axes._subplots.AxesSubplot at 0x7fd1322d1bd0>"
            ]
          },
          "metadata": {},
          "execution_count": 43
        },
        {
          "output_type": "display_data",
          "data": {
            "image/png": "[encoded data removed]",
            "text/plain": [
              "<Figure size 720x432 with 1 Axes>"
            ]
          },
          "metadata": {}
        }
      ]
    },
    {
      "cell_type": "code",
      "metadata": {
        "id": "tmSR6fRzyfGD",
        "colab": {
          "base_uri": "https://localhost:8080/"
        },
        "outputId": "2c0ca736-ed3c-4c20-d7c7-91e8545d7b05"
      },
      "source": [
        "fig = plt.figure(figsize=(10,6))\n",
        "df_adult['sex'].value_counts().plot.bar()"
      ],
      "execution_count": null,
      "outputs": [
        {
          "output_type": "execute_result",
          "data": {
            "text/plain": [
              "<matplotlib.axes._subplots.AxesSubplot at 0x7fd132214e10>"
            ]
          },
          "metadata": {},
          "execution_count": 44
        },
        {
          "output_type": "display_data",
          "data": {
            "image/png": "[encoded data removed]",
            "text/plain": [
              "<Figure size 720x432 with 1 Axes>"
            ]
          },
          "metadata": {}
        }
      ]
    },
    {
      "cell_type": "markdown",
      "metadata": {
        "id": "XmW0QBUb2OhN"
      },
      "source": [
        "### Bivariate Analysis"
      ]
    },
    {
      "cell_type": "code",
      "metadata": {
        "id": "ibe7em48hw-U"
      },
      "source": [
        "biv = df_adult.head(50)[['age','hours.per.week']]"
      ],
      "execution_count": null,
      "outputs": []
    },
    {
      "cell_type": "code",
      "metadata": {
        "colab": {
          "base_uri": "https://localhost:8080/"
        },
        "id": "CcsagXs5ejKo",
        "outputId": "9960763a-56b6-4576-ade8-1dae631d34cd"
      },
      "source": [
        "biv.plot.line()"
      ],
      "execution_count": null,
      "outputs": [
        {
          "output_type": "execute_result",
          "data": {
            "text/plain": [
              "<matplotlib.axes._subplots.AxesSubplot at 0x7fd1321dd910>"
            ]
          },
          "metadata": {},
          "execution_count": 46
        },
        {
          "output_type": "display_data",
          "data": {
            "image/png": "[encoded data removed]",
            "text/plain": [
              "<Figure size 432x288 with 1 Axes>"
            ]
          },
          "metadata": {}
        }
      ]
    },
    {
      "cell_type": "markdown",
      "metadata": {
        "id": "tdf5QbdL2Tq7"
      },
      "source": [
        "### Multivariate Analysis"
      ]
    },
    {
      "cell_type": "code",
      "metadata": {
        "id": "V3GuMhZtLyyq",
        "colab": {
          "base_uri": "https://localhost:8080/"
        },
        "outputId": "0c7f8d82-66e1-45de-d5f5-b65bfafffa90"
      },
      "source": [
        "fig = plt.figure(figsize=(12,8))\n",
        "f = df_num.corr()\n",
        "sns.heatmap(f, annot=True)"
      ],
      "execution_count": null,
      "outputs": [
        {
          "output_type": "execute_result",
          "data": {
            "text/plain": [
              "<matplotlib.axes._subplots.AxesSubplot at 0x7fd13217b390>"
            ]
          },
          "metadata": {},
          "execution_count": 47
        },
        {
          "output_type": "display_data",
          "data": {
            "image/png": "[encoded data removed]",
            "text/plain": [
              "<Figure size 864x576 with 2 Axes>"
            ]
          },
          "metadata": {}
        }
      ]
    },
    {
      "cell_type": "markdown",
      "metadata": {
        "id": "4CgHHXqkhPSM"
      },
      "source": [
        "\n",
        "\n",
        "---\n",
        "\n",
        "\n",
        "Each cell in this plot is the intersection of two variables; its color and label together indicate the amount of correlation between the two variables (how likely both variables are the increase or decrease at the same time). For example, in this dataset Agility and Acceleration are highly correlated, while Aggression and Balanced are very uncorrelated.\n",
        "\n",
        "A correlation plot is a specific kind of heatmap. A heatmap maps one particular fact (in this case, correlation) about every pair of variables you chose from a dataset.\n",
        "\n",
        "\n",
        "---\n",
        "\n"
      ]
    },
    {
      "cell_type": "markdown",
      "metadata": {
        "id": "kqhWqpw8L1Ui"
      },
      "source": [
        "#CATEGORICAL TO NUMERICAL"
      ]
    },
    {
      "cell_type": "code",
      "metadata": {
        "colab": {
          "base_uri": "https://localhost:8080/"
        },
        "id": "Eln89uhALz7h",
        "outputId": "bafa45ce-0386-487a-f2a4-dd1bf107d643"
      },
      "source": [
        "from sklearn.preprocessing import LabelEncoder\n",
        "# Convert feature/column 'workclass'\n",
        "LE = LabelEncoder()\n",
        "new_df_cap['workclass'] = LE.fit_transform(new_df_cap['workclass'])\n",
        "print(LE.classes_)\n",
        "print(np.sort(new_df_cap['workclass'].unique()))\n",
        "print('')"
      ],
      "execution_count": null,
      "outputs": [
        {
          "output_type": "stream",
          "name": "stdout",
          "text": [
            "['Federal-gov' 'Local-gov' 'Never-worked' 'Private' 'Self-emp-inc'\n",
            " 'Self-emp-not-inc' 'State-gov' 'Without-pay']\n",
            "[0 1 2 3 4 5 6 7]\n",
            "\n"
          ]
        }
      ]
    },
    {
      "cell_type": "code",
      "metadata": {
        "colab": {
          "base_uri": "https://localhost:8080/"
        },
        "id": "Z6afeu6BL4Nt",
        "outputId": "780cc6ae-7179-4afe-bbcf-49a95b45d763"
      },
      "source": [
        "from sklearn.preprocessing import LabelEncoder\n",
        "# Convert feature/column 'education'\n",
        "LE = LabelEncoder()\n",
        "new_df_cap['education'] = LE.fit_transform(new_df_cap['education'])\n",
        "print(LE.classes_)\n",
        "print(np.sort(new_df_cap['education'].unique()))\n",
        "print('')"
      ],
      "execution_count": null,
      "outputs": [
        {
          "output_type": "stream",
          "name": "stdout",
          "text": [
            "['10th' '11th' '12th' '1st-4th' '5th-6th' '7th-8th' '9th' 'Assoc-acdm'\n",
            " 'Assoc-voc' 'Bachelors' 'Doctorate' 'HS-grad' 'Masters' 'Preschool'\n",
            " 'Prof-school' 'Some-college']\n",
            "[ 0  1  2  3  4  5  6  7  8  9 10 11 12 13 14 15]\n",
            "\n"
          ]
        }
      ]
    },
    {
      "cell_type": "code",
      "metadata": {
        "colab": {
          "base_uri": "https://localhost:8080/"
        },
        "id": "Dz7JvVXsL52J",
        "outputId": "1457417e-b76b-4671-b031-7d7a9b8daee3"
      },
      "source": [
        "from sklearn.preprocessing import LabelEncoder\n",
        "# Convert feature/column 'marital.status'\n",
        "LE = LabelEncoder()\n",
        "new_df_cap['marital.status'] = LE.fit_transform(new_df_cap['marital.status'])\n",
        "print(LE.classes_)\n",
        "print(np.sort(new_df_cap['marital.status'].unique()))\n",
        "print('')"
      ],
      "execution_count": null,
      "outputs": [
        {
          "output_type": "stream",
          "name": "stdout",
          "text": [
            "['Divorced' 'Married-AF-spouse' 'Married-civ-spouse'\n",
            " 'Married-spouse-absent' 'Never-married' 'Separated' 'Widowed']\n",
            "[0 1 2 3 4 5 6]\n",
            "\n"
          ]
        }
      ]
    },
    {
      "cell_type": "code",
      "metadata": {
        "colab": {
          "base_uri": "https://localhost:8080/"
        },
        "id": "6XOxGp0pL7fH",
        "outputId": "5059421b-75cb-4983-8c91-4acb9ed10d60"
      },
      "source": [
        "from sklearn.preprocessing import LabelEncoder\n",
        "# Convert feature/column 'occupation'\n",
        "LE = LabelEncoder()\n",
        "new_df_cap['occupation'] = LE.fit_transform(new_df_cap['occupation'])\n",
        "print(LE.classes_)\n",
        "print(np.sort(new_df_cap['occupation'].unique()))\n",
        "print('')"
      ],
      "execution_count": null,
      "outputs": [
        {
          "output_type": "stream",
          "name": "stdout",
          "text": [
            "['Adm-clerical' 'Armed-Forces' 'Craft-repair' 'Exec-managerial'\n",
            " 'Farming-fishing' 'Handlers-cleaners' 'Machine-op-inspct' 'Other-service'\n",
            " 'Priv-house-serv' 'Prof-specialty' 'Protective-serv' 'Sales'\n",
            " 'Tech-support' 'Transport-moving']\n",
            "[ 0  1  2  3  4  5  6  7  8  9 10 11 12 13]\n",
            "\n"
          ]
        }
      ]
    },
    {
      "cell_type": "code",
      "metadata": {
        "colab": {
          "base_uri": "https://localhost:8080/"
        },
        "id": "-r-z4ln9L82O",
        "outputId": "6a9f5c2c-5219-41a8-8eeb-4742794839ee"
      },
      "source": [
        "from sklearn.preprocessing import LabelEncoder\n",
        "# Convert feature/column 'relationship'\n",
        "LE = LabelEncoder()\n",
        "new_df_cap['relationship'] = LE.fit_transform(new_df_cap['relationship'])\n",
        "print(LE.classes_)\n",
        "print(np.sort(new_df_cap['relationship'].unique()))\n",
        "print('')"
      ],
      "execution_count": null,
      "outputs": [
        {
          "output_type": "stream",
          "name": "stdout",
          "text": [
            "['Husband' 'Not-in-family' 'Other-relative' 'Own-child' 'Unmarried' 'Wife']\n",
            "[0 1 2 3 4 5]\n",
            "\n"
          ]
        }
      ]
    },
    {
      "cell_type": "code",
      "metadata": {
        "colab": {
          "base_uri": "https://localhost:8080/"
        },
        "id": "e8qkbCxcL-JU",
        "outputId": "e66c9909-a1d1-4f5f-dcbe-b2efd78c451f"
      },
      "source": [
        "from sklearn.preprocessing import LabelEncoder\n",
        "# Convert feature/column 'race'\n",
        "LE = LabelEncoder()\n",
        "new_df_cap['race'] = LE.fit_transform(new_df_cap['race'])\n",
        "print(LE.classes_)\n",
        "print(np.sort(new_df_cap['race'].unique()))\n",
        "print('')"
      ],
      "execution_count": null,
      "outputs": [
        {
          "output_type": "stream",
          "name": "stdout",
          "text": [
            "['Amer-Indian-Eskimo' 'Asian-Pac-Islander' 'Black' 'Other' 'White']\n",
            "[0 1 2 3 4]\n",
            "\n"
          ]
        }
      ]
    },
    {
      "cell_type": "code",
      "metadata": {
        "colab": {
          "base_uri": "https://localhost:8080/"
        },
        "id": "tNHXl-ufL_fU",
        "outputId": "0b2eb4d1-fbed-4c82-9cc6-0fd07e428ad5"
      },
      "source": [
        "from sklearn.preprocessing import LabelEncoder\n",
        "# Convert feature/column 'sex'\n",
        "LE = LabelEncoder()\n",
        "new_df_cap['sex'] = LE.fit_transform(new_df_cap['sex'])\n",
        "print(LE.classes_)\n",
        "print(np.sort(new_df_cap['sex'].unique()))\n",
        "print('')"
      ],
      "execution_count": null,
      "outputs": [
        {
          "output_type": "stream",
          "name": "stdout",
          "text": [
            "['Female' 'Male']\n",
            "[0 1]\n",
            "\n"
          ]
        }
      ]
    },
    {
      "cell_type": "code",
      "metadata": {
        "colab": {
          "base_uri": "https://localhost:8080/"
        },
        "id": "HX2AmLqRMA-K",
        "outputId": "0ccbed57-705b-4e20-cf2b-34429fa79952"
      },
      "source": [
        "from sklearn.preprocessing import LabelEncoder\n",
        "# Convert feature/column 'native.country'\n",
        "LE = LabelEncoder()\n",
        "new_df_cap['native.country'] = LE.fit_transform(new_df_cap['native.country'])\n",
        "print(LE.classes_)\n",
        "print(np.sort(new_df_cap['native.country'].unique()))\n",
        "print('')"
      ],
      "execution_count": null,
      "outputs": [
        {
          "output_type": "stream",
          "name": "stdout",
          "text": [
            "['Cambodia' 'Canada' 'China' 'Columbia' 'Cuba' 'Dominican-Republic'\n",
            " 'Ecuador' 'El-Salvador' 'England' 'France' 'Germany' 'Greece' 'Guatemala'\n",
            " 'Haiti' 'Holand-Netherlands' 'Honduras' 'Hong' 'Hungary' 'India' 'Iran'\n",
            " 'Ireland' 'Italy' 'Jamaica' 'Japan' 'Laos' 'Mexico' 'Nicaragua'\n",
            " 'Outlying-US(Guam-USVI-etc)' 'Peru' 'Philippines' 'Poland' 'Portugal'\n",
            " 'Puerto-Rico' 'Scotland' 'South' 'Taiwan' 'Thailand' 'Trinadad&Tobago'\n",
            " 'United-States' 'Vietnam' 'Yugoslavia']\n",
            "[ 0  1  2  3  4  5  6  7  8  9 10 11 12 13 14 15 16 17 18 19 20 21 22 23\n",
            " 24 25 26 27 28 29 30 31 32 33 34 35 36 37 38 39 40]\n",
            "\n"
          ]
        }
      ]
    },
    {
      "cell_type": "code",
      "metadata": {
        "colab": {
          "base_uri": "https://localhost:8080/"
        },
        "id": "aRK3zBnkMCQV",
        "outputId": "e5880b8b-4cb2-44b7-d8bb-5566bfb5c076"
      },
      "source": [
        "from sklearn.preprocessing import LabelEncoder\n",
        "# Convert feature/column 'income'\n",
        "LE = LabelEncoder()\n",
        "new_df_cap['income'] = LE.fit_transform(new_df_cap['income'])\n",
        "print(LE.classes_)\n",
        "print(np.sort(new_df_cap['income'].unique()))\n",
        "print('')"
      ],
      "execution_count": null,
      "outputs": [
        {
          "output_type": "stream",
          "name": "stdout",
          "text": [
            "['<=50K' '>50K']\n",
            "[0 1]\n",
            "\n"
          ]
        }
      ]
    },
    {
      "cell_type": "code",
      "metadata": {
        "colab": {
          "base_uri": "https://localhost:8080/"
        },
        "id": "zw5paRA7Qn61",
        "outputId": "a8d4b933-a713-48c1-b969-5cfb205ae264"
      },
      "source": [
        "new_df_cap.head()"
      ],
      "execution_count": null,
      "outputs": [
        {
          "output_type": "execute_result",
          "data": {
            "text/html": [
              "<div>\n",
              "<style scoped>\n",
              "    .dataframe tbody tr th:only-of-type {\n",
              "        vertical-align: middle;\n",
              "    }\n",
              "\n",
              "    .dataframe tbody tr th {\n",
              "        vertical-align: top;\n",
              "    }\n",
              "\n",
              "    .dataframe thead th {\n",
              "        text-align: right;\n",
              "    }\n",
              "</style>\n",
              "<table border=\"1\" class=\"dataframe\">\n",
              "  <thead>\n",
              "    <tr style=\"text-align: right;\">\n",
              "      <th></th>\n",
              "      <th>age</th>\n",
              "      <th>workclass</th>\n",
              "      <th>fnlwgt</th>\n",
              "      <th>education</th>\n",
              "      <th>education.num</th>\n",
              "      <th>marital.status</th>\n",
              "      <th>occupation</th>\n",
              "      <th>relationship</th>\n",
              "      <th>race</th>\n",
              "      <th>sex</th>\n",
              "      <th>capital.gain</th>\n",
              "      <th>capital.loss</th>\n",
              "      <th>hours.per.week</th>\n",
              "      <th>native.country</th>\n",
              "      <th>income</th>\n",
              "    </tr>\n",
              "  </thead>\n",
              "  <tbody>\n",
              "    <tr>\n",
              "      <th>0</th>\n",
              "      <td>78.0</td>\n",
              "      <td>3</td>\n",
              "      <td>77053.0</td>\n",
              "      <td>11</td>\n",
              "      <td>9.0</td>\n",
              "      <td>6</td>\n",
              "      <td>9</td>\n",
              "      <td>1</td>\n",
              "      <td>4</td>\n",
              "      <td>0</td>\n",
              "      <td>0.0</td>\n",
              "      <td>0.0</td>\n",
              "      <td>40.0</td>\n",
              "      <td>38</td>\n",
              "      <td>0</td>\n",
              "    </tr>\n",
              "    <tr>\n",
              "      <th>1</th>\n",
              "      <td>78.0</td>\n",
              "      <td>3</td>\n",
              "      <td>132870.0</td>\n",
              "      <td>11</td>\n",
              "      <td>9.0</td>\n",
              "      <td>6</td>\n",
              "      <td>3</td>\n",
              "      <td>1</td>\n",
              "      <td>4</td>\n",
              "      <td>0</td>\n",
              "      <td>0.0</td>\n",
              "      <td>0.0</td>\n",
              "      <td>32.5</td>\n",
              "      <td>38</td>\n",
              "      <td>0</td>\n",
              "    </tr>\n",
              "    <tr>\n",
              "      <th>2</th>\n",
              "      <td>66.0</td>\n",
              "      <td>3</td>\n",
              "      <td>186061.0</td>\n",
              "      <td>15</td>\n",
              "      <td>10.0</td>\n",
              "      <td>6</td>\n",
              "      <td>9</td>\n",
              "      <td>4</td>\n",
              "      <td>2</td>\n",
              "      <td>0</td>\n",
              "      <td>0.0</td>\n",
              "      <td>0.0</td>\n",
              "      <td>40.0</td>\n",
              "      <td>38</td>\n",
              "      <td>0</td>\n",
              "    </tr>\n",
              "    <tr>\n",
              "      <th>3</th>\n",
              "      <td>54.0</td>\n",
              "      <td>3</td>\n",
              "      <td>140359.0</td>\n",
              "      <td>5</td>\n",
              "      <td>4.5</td>\n",
              "      <td>0</td>\n",
              "      <td>6</td>\n",
              "      <td>4</td>\n",
              "      <td>4</td>\n",
              "      <td>0</td>\n",
              "      <td>0.0</td>\n",
              "      <td>0.0</td>\n",
              "      <td>40.0</td>\n",
              "      <td>38</td>\n",
              "      <td>0</td>\n",
              "    </tr>\n",
              "    <tr>\n",
              "      <th>4</th>\n",
              "      <td>41.0</td>\n",
              "      <td>3</td>\n",
              "      <td>264663.0</td>\n",
              "      <td>15</td>\n",
              "      <td>10.0</td>\n",
              "      <td>5</td>\n",
              "      <td>9</td>\n",
              "      <td>3</td>\n",
              "      <td>4</td>\n",
              "      <td>0</td>\n",
              "      <td>0.0</td>\n",
              "      <td>0.0</td>\n",
              "      <td>40.0</td>\n",
              "      <td>38</td>\n",
              "      <td>0</td>\n",
              "    </tr>\n",
              "  </tbody>\n",
              "</table>\n",
              "</div>"
            ],
            "text/plain": [
              "    age  workclass    fnlwgt  ...  hours.per.week  native.country  income\n",
              "0  78.0          3   77053.0  ...            40.0              38       0\n",
              "1  78.0          3  132870.0  ...            32.5              38       0\n",
              "2  66.0          3  186061.0  ...            40.0              38       0\n",
              "3  54.0          3  140359.0  ...            40.0              38       0\n",
              "4  41.0          3  264663.0  ...            40.0              38       0\n",
              "\n",
              "[5 rows x 15 columns]"
            ]
          },
          "metadata": {},
          "execution_count": 57
        }
      ]
    },
    {
      "cell_type": "markdown",
      "metadata": {
        "id": "jr5mkVTtMD8E"
      },
      "source": [
        "# NORMALISASI"
      ]
    },
    {
      "cell_type": "code",
      "metadata": {
        "colab": {
          "base_uri": "https://localhost:8080/"
        },
        "id": "7x1LyG7ES9n9",
        "outputId": "2fed8849-4de3-4e07-a59d-148776e8bfc8"
      },
      "source": [
        "from sklearn import preprocessing\n",
        "\n",
        "cols = new_df_cap.columns\n",
        "min_max_scaler = preprocessing.MinMaxScaler()\n",
        "np_scaled = min_max_scaler.fit_transform(new_df_cap)\n",
        "df_normalized = pd.DataFrame(np_scaled, columns = cols)\n",
        "df_normalized"
      ],
      "execution_count": null,
      "outputs": [
        {
          "output_type": "execute_result",
          "data": {
            "text/html": [
              "<div>\n",
              "<style scoped>\n",
              "    .dataframe tbody tr th:only-of-type {\n",
              "        vertical-align: middle;\n",
              "    }\n",
              "\n",
              "    .dataframe tbody tr th {\n",
              "        vertical-align: top;\n",
              "    }\n",
              "\n",
              "    .dataframe thead th {\n",
              "        text-align: right;\n",
              "    }\n",
              "</style>\n",
              "<table border=\"1\" class=\"dataframe\">\n",
              "  <thead>\n",
              "    <tr style=\"text-align: right;\">\n",
              "      <th></th>\n",
              "      <th>age</th>\n",
              "      <th>workclass</th>\n",
              "      <th>fnlwgt</th>\n",
              "      <th>education</th>\n",
              "      <th>education.num</th>\n",
              "      <th>marital.status</th>\n",
              "      <th>occupation</th>\n",
              "      <th>relationship</th>\n",
              "      <th>race</th>\n",
              "      <th>sex</th>\n",
              "      <th>capital.gain</th>\n",
              "      <th>capital.loss</th>\n",
              "      <th>hours.per.week</th>\n",
              "      <th>native.country</th>\n",
              "      <th>income</th>\n",
              "    </tr>\n",
              "  </thead>\n",
              "  <tbody>\n",
              "    <tr>\n",
              "      <th>0</th>\n",
              "      <td>1.000000</td>\n",
              "      <td>0.428571</td>\n",
              "      <td>0.160533</td>\n",
              "      <td>0.733333</td>\n",
              "      <td>0.391304</td>\n",
              "      <td>1.000000</td>\n",
              "      <td>0.692308</td>\n",
              "      <td>0.2</td>\n",
              "      <td>1.0</td>\n",
              "      <td>0.0</td>\n",
              "      <td>0.0</td>\n",
              "      <td>0.0</td>\n",
              "      <td>0.375</td>\n",
              "      <td>0.95</td>\n",
              "      <td>0.0</td>\n",
              "    </tr>\n",
              "    <tr>\n",
              "      <th>1</th>\n",
              "      <td>1.000000</td>\n",
              "      <td>0.428571</td>\n",
              "      <td>0.298879</td>\n",
              "      <td>0.733333</td>\n",
              "      <td>0.391304</td>\n",
              "      <td>1.000000</td>\n",
              "      <td>0.230769</td>\n",
              "      <td>0.2</td>\n",
              "      <td>1.0</td>\n",
              "      <td>0.0</td>\n",
              "      <td>0.0</td>\n",
              "      <td>0.0</td>\n",
              "      <td>0.000</td>\n",
              "      <td>0.95</td>\n",
              "      <td>0.0</td>\n",
              "    </tr>\n",
              "    <tr>\n",
              "      <th>2</th>\n",
              "      <td>0.803279</td>\n",
              "      <td>0.428571</td>\n",
              "      <td>0.430718</td>\n",
              "      <td>1.000000</td>\n",
              "      <td>0.478261</td>\n",
              "      <td>1.000000</td>\n",
              "      <td>0.692308</td>\n",
              "      <td>0.8</td>\n",
              "      <td>0.5</td>\n",
              "      <td>0.0</td>\n",
              "      <td>0.0</td>\n",
              "      <td>0.0</td>\n",
              "      <td>0.375</td>\n",
              "      <td>0.95</td>\n",
              "      <td>0.0</td>\n",
              "    </tr>\n",
              "    <tr>\n",
              "      <th>3</th>\n",
              "      <td>0.606557</td>\n",
              "      <td>0.428571</td>\n",
              "      <td>0.317442</td>\n",
              "      <td>0.333333</td>\n",
              "      <td>0.000000</td>\n",
              "      <td>0.000000</td>\n",
              "      <td>0.461538</td>\n",
              "      <td>0.8</td>\n",
              "      <td>1.0</td>\n",
              "      <td>0.0</td>\n",
              "      <td>0.0</td>\n",
              "      <td>0.0</td>\n",
              "      <td>0.375</td>\n",
              "      <td>0.95</td>\n",
              "      <td>0.0</td>\n",
              "    </tr>\n",
              "    <tr>\n",
              "      <th>4</th>\n",
              "      <td>0.393443</td>\n",
              "      <td>0.428571</td>\n",
              "      <td>0.625539</td>\n",
              "      <td>1.000000</td>\n",
              "      <td>0.478261</td>\n",
              "      <td>0.833333</td>\n",
              "      <td>0.692308</td>\n",
              "      <td>0.6</td>\n",
              "      <td>1.0</td>\n",
              "      <td>0.0</td>\n",
              "      <td>0.0</td>\n",
              "      <td>0.0</td>\n",
              "      <td>0.375</td>\n",
              "      <td>0.95</td>\n",
              "      <td>0.0</td>\n",
              "    </tr>\n",
              "    <tr>\n",
              "      <th>...</th>\n",
              "      <td>...</td>\n",
              "      <td>...</td>\n",
              "      <td>...</td>\n",
              "      <td>...</td>\n",
              "      <td>...</td>\n",
              "      <td>...</td>\n",
              "      <td>...</td>\n",
              "      <td>...</td>\n",
              "      <td>...</td>\n",
              "      <td>...</td>\n",
              "      <td>...</td>\n",
              "      <td>...</td>\n",
              "      <td>...</td>\n",
              "      <td>...</td>\n",
              "      <td>...</td>\n",
              "    </tr>\n",
              "    <tr>\n",
              "      <th>32532</th>\n",
              "      <td>0.081967</td>\n",
              "      <td>0.428571</td>\n",
              "      <td>0.738287</td>\n",
              "      <td>1.000000</td>\n",
              "      <td>0.478261</td>\n",
              "      <td>0.666667</td>\n",
              "      <td>0.769231</td>\n",
              "      <td>0.2</td>\n",
              "      <td>1.0</td>\n",
              "      <td>1.0</td>\n",
              "      <td>0.0</td>\n",
              "      <td>0.0</td>\n",
              "      <td>0.375</td>\n",
              "      <td>0.95</td>\n",
              "      <td>0.0</td>\n",
              "    </tr>\n",
              "    <tr>\n",
              "      <th>32533</th>\n",
              "      <td>0.163934</td>\n",
              "      <td>0.428571</td>\n",
              "      <td>0.607294</td>\n",
              "      <td>0.466667</td>\n",
              "      <td>0.652174</td>\n",
              "      <td>0.333333</td>\n",
              "      <td>0.923077</td>\n",
              "      <td>1.0</td>\n",
              "      <td>1.0</td>\n",
              "      <td>0.0</td>\n",
              "      <td>0.0</td>\n",
              "      <td>0.0</td>\n",
              "      <td>0.275</td>\n",
              "      <td>0.95</td>\n",
              "      <td>0.0</td>\n",
              "    </tr>\n",
              "    <tr>\n",
              "      <th>32534</th>\n",
              "      <td>0.377049</td>\n",
              "      <td>0.428571</td>\n",
              "      <td>0.352179</td>\n",
              "      <td>0.733333</td>\n",
              "      <td>0.391304</td>\n",
              "      <td>0.333333</td>\n",
              "      <td>0.461538</td>\n",
              "      <td>0.0</td>\n",
              "      <td>1.0</td>\n",
              "      <td>1.0</td>\n",
              "      <td>0.0</td>\n",
              "      <td>0.0</td>\n",
              "      <td>0.375</td>\n",
              "      <td>0.95</td>\n",
              "      <td>1.0</td>\n",
              "    </tr>\n",
              "    <tr>\n",
              "      <th>32535</th>\n",
              "      <td>0.672131</td>\n",
              "      <td>0.428571</td>\n",
              "      <td>0.346072</td>\n",
              "      <td>0.733333</td>\n",
              "      <td>0.391304</td>\n",
              "      <td>1.000000</td>\n",
              "      <td>0.000000</td>\n",
              "      <td>0.8</td>\n",
              "      <td>1.0</td>\n",
              "      <td>0.0</td>\n",
              "      <td>0.0</td>\n",
              "      <td>0.0</td>\n",
              "      <td>0.375</td>\n",
              "      <td>0.95</td>\n",
              "      <td>0.0</td>\n",
              "    </tr>\n",
              "    <tr>\n",
              "      <th>32536</th>\n",
              "      <td>0.081967</td>\n",
              "      <td>0.428571</td>\n",
              "      <td>0.468960</td>\n",
              "      <td>0.733333</td>\n",
              "      <td>0.391304</td>\n",
              "      <td>0.666667</td>\n",
              "      <td>0.000000</td>\n",
              "      <td>0.6</td>\n",
              "      <td>1.0</td>\n",
              "      <td>1.0</td>\n",
              "      <td>0.0</td>\n",
              "      <td>0.0</td>\n",
              "      <td>0.000</td>\n",
              "      <td>0.95</td>\n",
              "      <td>0.0</td>\n",
              "    </tr>\n",
              "  </tbody>\n",
              "</table>\n",
              "<p>32537 rows × 15 columns</p>\n",
              "</div>"
            ],
            "text/plain": [
              "            age  workclass    fnlwgt  ...  hours.per.week  native.country  income\n",
              "0      1.000000   0.428571  0.160533  ...           0.375            0.95     0.0\n",
              "1      1.000000   0.428571  0.298879  ...           0.000            0.95     0.0\n",
              "2      0.803279   0.428571  0.430718  ...           0.375            0.95     0.0\n",
              "3      0.606557   0.428571  0.317442  ...           0.375            0.95     0.0\n",
              "4      0.393443   0.428571  0.625539  ...           0.375            0.95     0.0\n",
              "...         ...        ...       ...  ...             ...             ...     ...\n",
              "32532  0.081967   0.428571  0.738287  ...           0.375            0.95     0.0\n",
              "32533  0.163934   0.428571  0.607294  ...           0.275            0.95     0.0\n",
              "32534  0.377049   0.428571  0.352179  ...           0.375            0.95     1.0\n",
              "32535  0.672131   0.428571  0.346072  ...           0.375            0.95     0.0\n",
              "32536  0.081967   0.428571  0.468960  ...           0.000            0.95     0.0\n",
              "\n",
              "[32537 rows x 15 columns]"
            ]
          },
          "metadata": {},
          "execution_count": 58
        }
      ]
    }
  ]
}