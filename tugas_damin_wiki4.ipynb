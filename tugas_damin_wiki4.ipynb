{
  "nbformat": 4,
  "nbformat_minor": 0,
  "metadata": {
    "colab": {
      "name": "tugas damin wiki4.ipynb",
      "provenance": [],
      "collapsed_sections": []
    },
    "kernelspec": {
      "name": "python3",
      "display_name": "Python 3"
    },
    "language_info": {
      "name": "python"
    }
  },
  "cells": [
    {
      "cell_type": "markdown",
      "metadata": {
        "id": "Nd81LG2jN7OA"
      },
      "source": [
        "# UNDERSAMPLING"
      ]
    },
    {
      "cell_type": "markdown",
      "metadata": {
        "id": "TlYCftF-Ny2e"
      },
      "source": [
        "## Import Library"
      ]
    },
    {
      "cell_type": "code",
      "metadata": {
        "id": "TMbugH2cEe_Z"
      },
      "source": [
        "import pandas as pd\n",
        "import numpy as np\n",
        "import matplotlib.pyplot as plt\n",
        "import matplotlib as mpl\n",
        "import seaborn as sns\n",
        "import random as rd\n",
        "import scipy.stats\n",
        "from sklearn.utils import resample"
      ],
      "execution_count": null,
      "outputs": []
    },
    {
      "cell_type": "markdown",
      "metadata": {
        "id": "k6m-ziIqOGsQ"
      },
      "source": [
        "## Load Data"
      ]
    },
    {
      "cell_type": "code",
      "metadata": {
        "colab": {
          "base_uri": "https://localhost:8080/"
        },
        "id": "CJNv6axDOKXO",
        "outputId": "fbe25204-73c1-48ac-9a63-ca52433b84fe"
      },
      "source": [
        "df_wiki = pd.read_csv(\"wiki.csv\") \n",
        "df_wiki"
      ],
      "execution_count": null,
      "outputs": [
        {
          "output_type": "execute_result",
          "data": {
            "text/html": [
              "<div>\n",
              "<style scoped>\n",
              "    .dataframe tbody tr th:only-of-type {\n",
              "        vertical-align: middle;\n",
              "    }\n",
              "\n",
              "    .dataframe tbody tr th {\n",
              "        vertical-align: top;\n",
              "    }\n",
              "\n",
              "    .dataframe thead th {\n",
              "        text-align: right;\n",
              "    }\n",
              "</style>\n",
              "<table border=\"1\" class=\"dataframe\">\n",
              "  <thead>\n",
              "    <tr style=\"text-align: right;\">\n",
              "      <th></th>\n",
              "      <th>AGE</th>\n",
              "      <th>GENDER</th>\n",
              "      <th>DOMAIN</th>\n",
              "      <th>PhD</th>\n",
              "      <th>YEARSEXP</th>\n",
              "      <th>UNIVERSITY</th>\n",
              "      <th>UOC_POSITION</th>\n",
              "      <th>OTHER_POSITION</th>\n",
              "      <th>OTHERSTATUS</th>\n",
              "      <th>USERWIKI</th>\n",
              "      <th>PU1</th>\n",
              "      <th>PU2</th>\n",
              "      <th>PU3</th>\n",
              "      <th>PEU1</th>\n",
              "      <th>PEU2</th>\n",
              "      <th>PEU3</th>\n",
              "      <th>ENJ1</th>\n",
              "      <th>ENJ2</th>\n",
              "      <th>Qu1</th>\n",
              "      <th>Qu2</th>\n",
              "      <th>Qu3</th>\n",
              "      <th>Qu4</th>\n",
              "      <th>Qu5</th>\n",
              "      <th>Vis1</th>\n",
              "      <th>Vis2</th>\n",
              "      <th>Vis3</th>\n",
              "      <th>Im1</th>\n",
              "      <th>Im2</th>\n",
              "      <th>Im3</th>\n",
              "      <th>SA1</th>\n",
              "      <th>SA2</th>\n",
              "      <th>SA3</th>\n",
              "      <th>Use1</th>\n",
              "      <th>Use2</th>\n",
              "      <th>Use3</th>\n",
              "      <th>Use4</th>\n",
              "      <th>Use5</th>\n",
              "      <th>Pf1</th>\n",
              "      <th>Pf2</th>\n",
              "      <th>Pf3</th>\n",
              "      <th>JR1</th>\n",
              "      <th>JR2</th>\n",
              "      <th>BI1</th>\n",
              "      <th>BI2</th>\n",
              "      <th>Inc1</th>\n",
              "      <th>Inc2</th>\n",
              "      <th>Inc3</th>\n",
              "      <th>Inc4</th>\n",
              "      <th>Exp1</th>\n",
              "      <th>Exp2</th>\n",
              "      <th>Exp3</th>\n",
              "      <th>Exp4</th>\n",
              "      <th>Exp5</th>\n",
              "    </tr>\n",
              "  </thead>\n",
              "  <tbody>\n",
              "    <tr>\n",
              "      <th>0</th>\n",
              "      <td>40</td>\n",
              "      <td>0</td>\n",
              "      <td>2</td>\n",
              "      <td>1</td>\n",
              "      <td>14</td>\n",
              "      <td>1</td>\n",
              "      <td>2</td>\n",
              "      <td>?</td>\n",
              "      <td>?</td>\n",
              "      <td>0</td>\n",
              "      <td>4</td>\n",
              "      <td>4</td>\n",
              "      <td>3</td>\n",
              "      <td>5</td>\n",
              "      <td>5</td>\n",
              "      <td>3</td>\n",
              "      <td>4</td>\n",
              "      <td>4</td>\n",
              "      <td>3</td>\n",
              "      <td>3</td>\n",
              "      <td>2</td>\n",
              "      <td>2</td>\n",
              "      <td>3</td>\n",
              "      <td>3</td>\n",
              "      <td>3</td>\n",
              "      <td>1</td>\n",
              "      <td>2</td>\n",
              "      <td>4</td>\n",
              "      <td>2</td>\n",
              "      <td>4</td>\n",
              "      <td>4</td>\n",
              "      <td>4</td>\n",
              "      <td>3</td>\n",
              "      <td>1</td>\n",
              "      <td>1</td>\n",
              "      <td>2</td>\n",
              "      <td>4</td>\n",
              "      <td>1</td>\n",
              "      <td>1</td>\n",
              "      <td>3</td>\n",
              "      <td>4</td>\n",
              "      <td>1</td>\n",
              "      <td>2</td>\n",
              "      <td>3</td>\n",
              "      <td>5</td>\n",
              "      <td>5</td>\n",
              "      <td>5</td>\n",
              "      <td>5</td>\n",
              "      <td>4</td>\n",
              "      <td>4</td>\n",
              "      <td>4</td>\n",
              "      <td>1</td>\n",
              "      <td>2</td>\n",
              "    </tr>\n",
              "    <tr>\n",
              "      <th>1</th>\n",
              "      <td>42</td>\n",
              "      <td>0</td>\n",
              "      <td>5</td>\n",
              "      <td>1</td>\n",
              "      <td>18</td>\n",
              "      <td>1</td>\n",
              "      <td>2</td>\n",
              "      <td>?</td>\n",
              "      <td>?</td>\n",
              "      <td>0</td>\n",
              "      <td>2</td>\n",
              "      <td>3</td>\n",
              "      <td>3</td>\n",
              "      <td>4</td>\n",
              "      <td>4</td>\n",
              "      <td>3</td>\n",
              "      <td>3</td>\n",
              "      <td>4</td>\n",
              "      <td>4</td>\n",
              "      <td>4</td>\n",
              "      <td>3</td>\n",
              "      <td>3</td>\n",
              "      <td>2</td>\n",
              "      <td>3</td>\n",
              "      <td>3</td>\n",
              "      <td>1</td>\n",
              "      <td>1</td>\n",
              "      <td>2</td>\n",
              "      <td>1</td>\n",
              "      <td>4</td>\n",
              "      <td>4</td>\n",
              "      <td>4</td>\n",
              "      <td>2</td>\n",
              "      <td>2</td>\n",
              "      <td>1</td>\n",
              "      <td>1</td>\n",
              "      <td>2</td>\n",
              "      <td>1</td>\n",
              "      <td>1</td>\n",
              "      <td>1</td>\n",
              "      <td>4</td>\n",
              "      <td>3</td>\n",
              "      <td>2</td>\n",
              "      <td>2</td>\n",
              "      <td>4</td>\n",
              "      <td>4</td>\n",
              "      <td>3</td>\n",
              "      <td>4</td>\n",
              "      <td>2</td>\n",
              "      <td>2</td>\n",
              "      <td>4</td>\n",
              "      <td>2</td>\n",
              "      <td>4</td>\n",
              "    </tr>\n",
              "    <tr>\n",
              "      <th>2</th>\n",
              "      <td>37</td>\n",
              "      <td>0</td>\n",
              "      <td>4</td>\n",
              "      <td>1</td>\n",
              "      <td>13</td>\n",
              "      <td>1</td>\n",
              "      <td>3</td>\n",
              "      <td>?</td>\n",
              "      <td>?</td>\n",
              "      <td>0</td>\n",
              "      <td>2</td>\n",
              "      <td>2</td>\n",
              "      <td>2</td>\n",
              "      <td>4</td>\n",
              "      <td>4</td>\n",
              "      <td>3</td>\n",
              "      <td>3</td>\n",
              "      <td>3</td>\n",
              "      <td>2</td>\n",
              "      <td>2</td>\n",
              "      <td>2</td>\n",
              "      <td>5</td>\n",
              "      <td>3</td>\n",
              "      <td>2</td>\n",
              "      <td>3</td>\n",
              "      <td>2</td>\n",
              "      <td>2</td>\n",
              "      <td>4</td>\n",
              "      <td>3</td>\n",
              "      <td>4</td>\n",
              "      <td>2</td>\n",
              "      <td>4</td>\n",
              "      <td>1</td>\n",
              "      <td>1</td>\n",
              "      <td>1</td>\n",
              "      <td>1</td>\n",
              "      <td>1</td>\n",
              "      <td>3</td>\n",
              "      <td>3</td>\n",
              "      <td>3</td>\n",
              "      <td>4</td>\n",
              "      <td>3</td>\n",
              "      <td>1</td>\n",
              "      <td>1</td>\n",
              "      <td>5</td>\n",
              "      <td>3</td>\n",
              "      <td>5</td>\n",
              "      <td>5</td>\n",
              "      <td>2</td>\n",
              "      <td>2</td>\n",
              "      <td>2</td>\n",
              "      <td>1</td>\n",
              "      <td>3</td>\n",
              "    </tr>\n",
              "    <tr>\n",
              "      <th>3</th>\n",
              "      <td>40</td>\n",
              "      <td>0</td>\n",
              "      <td>4</td>\n",
              "      <td>0</td>\n",
              "      <td>13</td>\n",
              "      <td>1</td>\n",
              "      <td>3</td>\n",
              "      <td>?</td>\n",
              "      <td>?</td>\n",
              "      <td>0</td>\n",
              "      <td>3</td>\n",
              "      <td>3</td>\n",
              "      <td>4</td>\n",
              "      <td>3</td>\n",
              "      <td>3</td>\n",
              "      <td>3</td>\n",
              "      <td>4</td>\n",
              "      <td>3</td>\n",
              "      <td>3</td>\n",
              "      <td>4</td>\n",
              "      <td>3</td>\n",
              "      <td>3</td>\n",
              "      <td>3</td>\n",
              "      <td>3</td>\n",
              "      <td>4</td>\n",
              "      <td>3</td>\n",
              "      <td>2</td>\n",
              "      <td>2</td>\n",
              "      <td>3</td>\n",
              "      <td>5</td>\n",
              "      <td>5</td>\n",
              "      <td>5</td>\n",
              "      <td>3</td>\n",
              "      <td>3</td>\n",
              "      <td>3</td>\n",
              "      <td>3</td>\n",
              "      <td>3</td>\n",
              "      <td>4</td>\n",
              "      <td>4</td>\n",
              "      <td>4</td>\n",
              "      <td>5</td>\n",
              "      <td>4</td>\n",
              "      <td>3</td>\n",
              "      <td>3</td>\n",
              "      <td>3</td>\n",
              "      <td>4</td>\n",
              "      <td>4</td>\n",
              "      <td>3</td>\n",
              "      <td>4</td>\n",
              "      <td>4</td>\n",
              "      <td>3</td>\n",
              "      <td>3</td>\n",
              "      <td>4</td>\n",
              "    </tr>\n",
              "    <tr>\n",
              "      <th>4</th>\n",
              "      <td>51</td>\n",
              "      <td>0</td>\n",
              "      <td>6</td>\n",
              "      <td>0</td>\n",
              "      <td>8</td>\n",
              "      <td>1</td>\n",
              "      <td>3</td>\n",
              "      <td>?</td>\n",
              "      <td>?</td>\n",
              "      <td>1</td>\n",
              "      <td>4</td>\n",
              "      <td>3</td>\n",
              "      <td>5</td>\n",
              "      <td>5</td>\n",
              "      <td>4</td>\n",
              "      <td>3</td>\n",
              "      <td>4</td>\n",
              "      <td>4</td>\n",
              "      <td>4</td>\n",
              "      <td>5</td>\n",
              "      <td>4</td>\n",
              "      <td>3</td>\n",
              "      <td>4</td>\n",
              "      <td>4</td>\n",
              "      <td>4</td>\n",
              "      <td>4</td>\n",
              "      <td>3</td>\n",
              "      <td>2</td>\n",
              "      <td>3</td>\n",
              "      <td>5</td>\n",
              "      <td>5</td>\n",
              "      <td>5</td>\n",
              "      <td>3</td>\n",
              "      <td>3</td>\n",
              "      <td>5</td>\n",
              "      <td>5</td>\n",
              "      <td>5</td>\n",
              "      <td>5</td>\n",
              "      <td>5</td>\n",
              "      <td>5</td>\n",
              "      <td>3</td>\n",
              "      <td>3</td>\n",
              "      <td>5</td>\n",
              "      <td>5</td>\n",
              "      <td>5</td>\n",
              "      <td>5</td>\n",
              "      <td>4</td>\n",
              "      <td>4</td>\n",
              "      <td>5</td>\n",
              "      <td>5</td>\n",
              "      <td>5</td>\n",
              "      <td>4</td>\n",
              "      <td>4</td>\n",
              "    </tr>\n",
              "    <tr>\n",
              "      <th>...</th>\n",
              "      <td>...</td>\n",
              "      <td>...</td>\n",
              "      <td>...</td>\n",
              "      <td>...</td>\n",
              "      <td>...</td>\n",
              "      <td>...</td>\n",
              "      <td>...</td>\n",
              "      <td>...</td>\n",
              "      <td>...</td>\n",
              "      <td>...</td>\n",
              "      <td>...</td>\n",
              "      <td>...</td>\n",
              "      <td>...</td>\n",
              "      <td>...</td>\n",
              "      <td>...</td>\n",
              "      <td>...</td>\n",
              "      <td>...</td>\n",
              "      <td>...</td>\n",
              "      <td>...</td>\n",
              "      <td>...</td>\n",
              "      <td>...</td>\n",
              "      <td>...</td>\n",
              "      <td>...</td>\n",
              "      <td>...</td>\n",
              "      <td>...</td>\n",
              "      <td>...</td>\n",
              "      <td>...</td>\n",
              "      <td>...</td>\n",
              "      <td>...</td>\n",
              "      <td>...</td>\n",
              "      <td>...</td>\n",
              "      <td>...</td>\n",
              "      <td>...</td>\n",
              "      <td>...</td>\n",
              "      <td>...</td>\n",
              "      <td>...</td>\n",
              "      <td>...</td>\n",
              "      <td>...</td>\n",
              "      <td>...</td>\n",
              "      <td>...</td>\n",
              "      <td>...</td>\n",
              "      <td>...</td>\n",
              "      <td>...</td>\n",
              "      <td>...</td>\n",
              "      <td>...</td>\n",
              "      <td>...</td>\n",
              "      <td>...</td>\n",
              "      <td>...</td>\n",
              "      <td>...</td>\n",
              "      <td>...</td>\n",
              "      <td>...</td>\n",
              "      <td>...</td>\n",
              "      <td>...</td>\n",
              "    </tr>\n",
              "    <tr>\n",
              "      <th>908</th>\n",
              "      <td>43</td>\n",
              "      <td>0</td>\n",
              "      <td>5</td>\n",
              "      <td>1</td>\n",
              "      <td>21</td>\n",
              "      <td>2</td>\n",
              "      <td>?</td>\n",
              "      <td>?</td>\n",
              "      <td>2</td>\n",
              "      <td>0</td>\n",
              "      <td>3</td>\n",
              "      <td>3</td>\n",
              "      <td>3</td>\n",
              "      <td>5</td>\n",
              "      <td>5</td>\n",
              "      <td>2</td>\n",
              "      <td>4</td>\n",
              "      <td>5</td>\n",
              "      <td>3</td>\n",
              "      <td>3</td>\n",
              "      <td>4</td>\n",
              "      <td>5</td>\n",
              "      <td>2</td>\n",
              "      <td>2</td>\n",
              "      <td>2</td>\n",
              "      <td>1</td>\n",
              "      <td>2</td>\n",
              "      <td>2</td>\n",
              "      <td>2</td>\n",
              "      <td>3</td>\n",
              "      <td>3</td>\n",
              "      <td>4</td>\n",
              "      <td>?</td>\n",
              "      <td>?</td>\n",
              "      <td>2</td>\n",
              "      <td>2</td>\n",
              "      <td>2</td>\n",
              "      <td>1</td>\n",
              "      <td>2</td>\n",
              "      <td>1</td>\n",
              "      <td>5</td>\n",
              "      <td>4</td>\n",
              "      <td>2</td>\n",
              "      <td>2</td>\n",
              "      <td>2</td>\n",
              "      <td>2</td>\n",
              "      <td>2</td>\n",
              "      <td>2</td>\n",
              "      <td>?</td>\n",
              "      <td>?</td>\n",
              "      <td>?</td>\n",
              "      <td>?</td>\n",
              "      <td>?</td>\n",
              "    </tr>\n",
              "    <tr>\n",
              "      <th>909</th>\n",
              "      <td>53</td>\n",
              "      <td>0</td>\n",
              "      <td>6</td>\n",
              "      <td>0</td>\n",
              "      <td>25</td>\n",
              "      <td>2</td>\n",
              "      <td>?</td>\n",
              "      <td>?</td>\n",
              "      <td>6</td>\n",
              "      <td>0</td>\n",
              "      <td>3</td>\n",
              "      <td>3</td>\n",
              "      <td>4</td>\n",
              "      <td>5</td>\n",
              "      <td>4</td>\n",
              "      <td>3</td>\n",
              "      <td>4</td>\n",
              "      <td>4</td>\n",
              "      <td>4</td>\n",
              "      <td>4</td>\n",
              "      <td>4</td>\n",
              "      <td>3</td>\n",
              "      <td>3</td>\n",
              "      <td>2</td>\n",
              "      <td>3</td>\n",
              "      <td>3</td>\n",
              "      <td>2</td>\n",
              "      <td>?</td>\n",
              "      <td>2</td>\n",
              "      <td>?</td>\n",
              "      <td>4</td>\n",
              "      <td>5</td>\n",
              "      <td>3</td>\n",
              "      <td>2</td>\n",
              "      <td>3</td>\n",
              "      <td>3</td>\n",
              "      <td>5</td>\n",
              "      <td>2</td>\n",
              "      <td>2</td>\n",
              "      <td>4</td>\n",
              "      <td>3</td>\n",
              "      <td>3</td>\n",
              "      <td>4</td>\n",
              "      <td>4</td>\n",
              "      <td>4</td>\n",
              "      <td>3</td>\n",
              "      <td>3</td>\n",
              "      <td>4</td>\n",
              "      <td>4</td>\n",
              "      <td>4</td>\n",
              "      <td>4</td>\n",
              "      <td>1</td>\n",
              "      <td>1</td>\n",
              "    </tr>\n",
              "    <tr>\n",
              "      <th>910</th>\n",
              "      <td>39</td>\n",
              "      <td>0</td>\n",
              "      <td>5</td>\n",
              "      <td>1</td>\n",
              "      <td>9</td>\n",
              "      <td>2</td>\n",
              "      <td>?</td>\n",
              "      <td>?</td>\n",
              "      <td>4</td>\n",
              "      <td>0</td>\n",
              "      <td>3</td>\n",
              "      <td>3</td>\n",
              "      <td>3</td>\n",
              "      <td>5</td>\n",
              "      <td>4</td>\n",
              "      <td>3</td>\n",
              "      <td>3</td>\n",
              "      <td>4</td>\n",
              "      <td>3</td>\n",
              "      <td>3</td>\n",
              "      <td>2</td>\n",
              "      <td>5</td>\n",
              "      <td>2</td>\n",
              "      <td>2</td>\n",
              "      <td>4</td>\n",
              "      <td>1</td>\n",
              "      <td>1</td>\n",
              "      <td>2</td>\n",
              "      <td>?</td>\n",
              "      <td>4</td>\n",
              "      <td>5</td>\n",
              "      <td>4</td>\n",
              "      <td>3</td>\n",
              "      <td>1</td>\n",
              "      <td>1</td>\n",
              "      <td>1</td>\n",
              "      <td>3</td>\n",
              "      <td>5</td>\n",
              "      <td>5</td>\n",
              "      <td>3</td>\n",
              "      <td>3</td>\n",
              "      <td>1</td>\n",
              "      <td>2</td>\n",
              "      <td>2</td>\n",
              "      <td>5</td>\n",
              "      <td>4</td>\n",
              "      <td>3</td>\n",
              "      <td>?</td>\n",
              "      <td>5</td>\n",
              "      <td>5</td>\n",
              "      <td>5</td>\n",
              "      <td>4</td>\n",
              "      <td>1</td>\n",
              "    </tr>\n",
              "    <tr>\n",
              "      <th>911</th>\n",
              "      <td>40</td>\n",
              "      <td>0</td>\n",
              "      <td>3</td>\n",
              "      <td>1</td>\n",
              "      <td>10</td>\n",
              "      <td>2</td>\n",
              "      <td>?</td>\n",
              "      <td>?</td>\n",
              "      <td>2</td>\n",
              "      <td>0</td>\n",
              "      <td>3</td>\n",
              "      <td>3</td>\n",
              "      <td>5</td>\n",
              "      <td>5</td>\n",
              "      <td>4</td>\n",
              "      <td>2</td>\n",
              "      <td>4</td>\n",
              "      <td>4</td>\n",
              "      <td>4</td>\n",
              "      <td>4</td>\n",
              "      <td>3</td>\n",
              "      <td>2</td>\n",
              "      <td>5</td>\n",
              "      <td>3</td>\n",
              "      <td>2</td>\n",
              "      <td>5</td>\n",
              "      <td>4</td>\n",
              "      <td>5</td>\n",
              "      <td>4</td>\n",
              "      <td>5</td>\n",
              "      <td>5</td>\n",
              "      <td>5</td>\n",
              "      <td>3</td>\n",
              "      <td>1</td>\n",
              "      <td>5</td>\n",
              "      <td>5</td>\n",
              "      <td>?</td>\n",
              "      <td>1</td>\n",
              "      <td>2</td>\n",
              "      <td>4</td>\n",
              "      <td>4</td>\n",
              "      <td>2</td>\n",
              "      <td>5</td>\n",
              "      <td>5</td>\n",
              "      <td>1</td>\n",
              "      <td>5</td>\n",
              "      <td>2</td>\n",
              "      <td>2</td>\n",
              "      <td>4</td>\n",
              "      <td>4</td>\n",
              "      <td>2</td>\n",
              "      <td>1</td>\n",
              "      <td>1</td>\n",
              "    </tr>\n",
              "    <tr>\n",
              "      <th>912</th>\n",
              "      <td>41</td>\n",
              "      <td>1</td>\n",
              "      <td>3</td>\n",
              "      <td>1</td>\n",
              "      <td>12</td>\n",
              "      <td>2</td>\n",
              "      <td>?</td>\n",
              "      <td>?</td>\n",
              "      <td>2</td>\n",
              "      <td>0</td>\n",
              "      <td>3</td>\n",
              "      <td>4</td>\n",
              "      <td>3</td>\n",
              "      <td>5</td>\n",
              "      <td>5</td>\n",
              "      <td>?</td>\n",
              "      <td>4</td>\n",
              "      <td>4</td>\n",
              "      <td>3</td>\n",
              "      <td>3</td>\n",
              "      <td>3</td>\n",
              "      <td>2</td>\n",
              "      <td>3</td>\n",
              "      <td>2</td>\n",
              "      <td>3</td>\n",
              "      <td>1</td>\n",
              "      <td>3</td>\n",
              "      <td>5</td>\n",
              "      <td>4</td>\n",
              "      <td>4</td>\n",
              "      <td>4</td>\n",
              "      <td>4</td>\n",
              "      <td>2</td>\n",
              "      <td>1</td>\n",
              "      <td>3</td>\n",
              "      <td>3</td>\n",
              "      <td>3</td>\n",
              "      <td>1</td>\n",
              "      <td>1</td>\n",
              "      <td>4</td>\n",
              "      <td>4</td>\n",
              "      <td>4</td>\n",
              "      <td>3</td>\n",
              "      <td>3</td>\n",
              "      <td>3</td>\n",
              "      <td>?</td>\n",
              "      <td>3</td>\n",
              "      <td>3</td>\n",
              "      <td>2</td>\n",
              "      <td>3</td>\n",
              "      <td>3</td>\n",
              "      <td>1</td>\n",
              "      <td>1</td>\n",
              "    </tr>\n",
              "  </tbody>\n",
              "</table>\n",
              "<p>913 rows × 53 columns</p>\n",
              "</div>"
            ],
            "text/plain": [
              "     AGE  GENDER DOMAIN  PhD YEARSEXP  UNIVERSITY  ... Inc4 Exp1 Exp2 Exp3 Exp4 Exp5\n",
              "0     40       0      2    1       14           1  ...    5    4    4    4    1    2\n",
              "1     42       0      5    1       18           1  ...    4    2    2    4    2    4\n",
              "2     37       0      4    1       13           1  ...    5    2    2    2    1    3\n",
              "3     40       0      4    0       13           1  ...    3    4    4    3    3    4\n",
              "4     51       0      6    0        8           1  ...    4    5    5    5    4    4\n",
              "..   ...     ...    ...  ...      ...         ...  ...  ...  ...  ...  ...  ...  ...\n",
              "908   43       0      5    1       21           2  ...    2    ?    ?    ?    ?    ?\n",
              "909   53       0      6    0       25           2  ...    4    4    4    4    1    1\n",
              "910   39       0      5    1        9           2  ...    ?    5    5    5    4    1\n",
              "911   40       0      3    1       10           2  ...    2    4    4    2    1    1\n",
              "912   41       1      3    1       12           2  ...    3    2    3    3    1    1\n",
              "\n",
              "[913 rows x 53 columns]"
            ]
          },
          "metadata": {},
          "execution_count": 2
        }
      ]
    },
    {
      "cell_type": "code",
      "metadata": {
        "colab": {
          "base_uri": "https://localhost:8080/"
        },
        "id": "eEfAr9Z7SEYE",
        "outputId": "9bec8467-f3c9-40ec-a22a-25626d32d373"
      },
      "source": [
        "#mengetahui jumlah baris dan kolom\n",
        "df_wiki[df_wiki.duplicated()].shape"
      ],
      "execution_count": null,
      "outputs": [
        {
          "output_type": "execute_result",
          "data": {
            "text/plain": [
              "(0, 53)"
            ]
          },
          "metadata": {},
          "execution_count": 3
        }
      ]
    },
    {
      "cell_type": "code",
      "metadata": {
        "colab": {
          "base_uri": "https://localhost:8080/"
        },
        "id": "FS2pmfT90IeF",
        "outputId": "746c0a0d-af3a-4c76-f7ce-bae39c079141"
      },
      "source": [
        "df_wiki.info()"
      ],
      "execution_count": null,
      "outputs": [
        {
          "output_type": "stream",
          "name": "stdout",
          "text": [
            "<class 'pandas.core.frame.DataFrame'>\n",
            "RangeIndex: 913 entries, 0 to 912\n",
            "Data columns (total 53 columns):\n",
            " #   Column          Non-Null Count  Dtype \n",
            "---  ------          --------------  ----- \n",
            " 0   AGE             913 non-null    int64 \n",
            " 1   GENDER          913 non-null    int64 \n",
            " 2   DOMAIN          913 non-null    object\n",
            " 3   PhD             913 non-null    int64 \n",
            " 4   YEARSEXP        913 non-null    object\n",
            " 5   UNIVERSITY      913 non-null    int64 \n",
            " 6   UOC_POSITION    913 non-null    object\n",
            " 7   OTHER_POSITION  913 non-null    object\n",
            " 8   OTHERSTATUS     913 non-null    object\n",
            " 9   USERWIKI        913 non-null    object\n",
            " 10  PU1             913 non-null    object\n",
            " 11  PU2             913 non-null    object\n",
            " 12  PU3             913 non-null    object\n",
            " 13  PEU1            913 non-null    object\n",
            " 14  PEU2            913 non-null    object\n",
            " 15  PEU3            913 non-null    object\n",
            " 16  ENJ1            913 non-null    object\n",
            " 17  ENJ2            913 non-null    object\n",
            " 18  Qu1             913 non-null    object\n",
            " 19  Qu2             913 non-null    object\n",
            " 20  Qu3             913 non-null    object\n",
            " 21  Qu4             913 non-null    object\n",
            " 22  Qu5             913 non-null    object\n",
            " 23  Vis1            913 non-null    object\n",
            " 24  Vis2            913 non-null    object\n",
            " 25  Vis3            913 non-null    object\n",
            " 26  Im1             913 non-null    object\n",
            " 27  Im2             913 non-null    object\n",
            " 28  Im3             913 non-null    object\n",
            " 29  SA1             913 non-null    object\n",
            " 30  SA2             913 non-null    object\n",
            " 31  SA3             913 non-null    object\n",
            " 32  Use1            913 non-null    object\n",
            " 33  Use2            913 non-null    object\n",
            " 34  Use3            913 non-null    object\n",
            " 35  Use4            913 non-null    object\n",
            " 36  Use5            913 non-null    object\n",
            " 37  Pf1             913 non-null    object\n",
            " 38  Pf2             913 non-null    object\n",
            " 39  Pf3             913 non-null    object\n",
            " 40  JR1             913 non-null    object\n",
            " 41  JR2             913 non-null    object\n",
            " 42  BI1             913 non-null    object\n",
            " 43  BI2             913 non-null    object\n",
            " 44  Inc1            913 non-null    object\n",
            " 45  Inc2            913 non-null    object\n",
            " 46  Inc3            913 non-null    object\n",
            " 47  Inc4            913 non-null    object\n",
            " 48  Exp1            913 non-null    object\n",
            " 49  Exp2            913 non-null    object\n",
            " 50  Exp3            913 non-null    object\n",
            " 51  Exp4            913 non-null    object\n",
            " 52  Exp5            913 non-null    object\n",
            "dtypes: int64(4), object(49)\n",
            "memory usage: 378.2+ KB\n"
          ]
        }
      ]
    },
    {
      "cell_type": "markdown",
      "metadata": {
        "id": "5AiqZfsySJvL"
      },
      "source": [
        "# Replacing \"?\" with mean & modus"
      ]
    },
    {
      "cell_type": "code",
      "metadata": {
        "colab": {
          "base_uri": "https://localhost:8080/"
        },
        "id": "H37qWGUMSMQ4",
        "outputId": "31e056e6-84e7-49ce-9a96-c03ecc79dceb"
      },
      "source": [
        "#Cek apakah ada data yang kosong atau tidak\n",
        "df_wiki.isnull().sum()"
      ],
      "execution_count": null,
      "outputs": [
        {
          "output_type": "execute_result",
          "data": {
            "text/plain": [
              "AGE               0\n",
              "GENDER            0\n",
              "DOMAIN            0\n",
              "PhD               0\n",
              "YEARSEXP          0\n",
              "UNIVERSITY        0\n",
              "UOC_POSITION      0\n",
              "OTHER_POSITION    0\n",
              "OTHERSTATUS       0\n",
              "USERWIKI          0\n",
              "PU1               0\n",
              "PU2               0\n",
              "PU3               0\n",
              "PEU1              0\n",
              "PEU2              0\n",
              "PEU3              0\n",
              "ENJ1              0\n",
              "ENJ2              0\n",
              "Qu1               0\n",
              "Qu2               0\n",
              "Qu3               0\n",
              "Qu4               0\n",
              "Qu5               0\n",
              "Vis1              0\n",
              "Vis2              0\n",
              "Vis3              0\n",
              "Im1               0\n",
              "Im2               0\n",
              "Im3               0\n",
              "SA1               0\n",
              "SA2               0\n",
              "SA3               0\n",
              "Use1              0\n",
              "Use2              0\n",
              "Use3              0\n",
              "Use4              0\n",
              "Use5              0\n",
              "Pf1               0\n",
              "Pf2               0\n",
              "Pf3               0\n",
              "JR1               0\n",
              "JR2               0\n",
              "BI1               0\n",
              "BI2               0\n",
              "Inc1              0\n",
              "Inc2              0\n",
              "Inc3              0\n",
              "Inc4              0\n",
              "Exp1              0\n",
              "Exp2              0\n",
              "Exp3              0\n",
              "Exp4              0\n",
              "Exp5              0\n",
              "dtype: int64"
            ]
          },
          "metadata": {},
          "execution_count": 5
        }
      ]
    },
    {
      "cell_type": "code",
      "metadata": {
        "colab": {
          "base_uri": "https://localhost:8080/"
        },
        "id": "WCnGYhmpXLGM",
        "outputId": "6315896a-1d6e-43f8-b4ea-c445b83e0003"
      },
      "source": [
        "#Mengecek missing value berupa ?,NaN,-,dsb yang pada tiap kolom\n",
        "print(\"AGE: \",(df_wiki['AGE'].unique()))\n",
        "print(\"GENDER: \",(df_wiki['GENDER'].unique()))\n",
        "print(\"PhD: \",(df_wiki['PhD'].unique()))\n",
        "print(\"YEARSEXP: \",(df_wiki['YEARSEXP'].unique()))\n",
        "print(\"UNIVERSITY: \",(df_wiki['UNIVERSITY'].unique()))\n",
        "print(\"UOC_POSITION: \",(df_wiki['UOC_POSITION'].unique()))\n",
        "print(\"OTHER_POSITION: \",(df_wiki['OTHER_POSITION'].unique()))\n",
        "print(\"OTHERSTATUS: \",(df_wiki['OTHERSTATUS'].unique()))\n",
        "print(\"USERWIKI: \",(df_wiki['USERWIKI'].unique()))\n",
        "print(\"PU1: \",(df_wiki['PU1'].unique()))\n",
        "print(\"PU2: \",(df_wiki['PU2'].unique()))\n",
        "print(\"PU3: \",(df_wiki['PU3'].unique()))\n",
        "print(\"PEU1: \",(df_wiki['PEU1'].unique()))\n",
        "print(\"PEU2: \",(df_wiki['PEU2'].unique()))\n",
        "print(\"PEU3: \",(df_wiki['PEU3'].unique()))\n",
        "print(\"ENJ1: \",(df_wiki['ENJ1'].unique()))\n",
        "print(\"ENJ2: \",(df_wiki['ENJ2'].unique()))\n",
        "print(\"Qu1: \",(df_wiki['Qu1'].unique()))\n",
        "print(\"Qu2: \",(df_wiki['Qu2'].unique()))\n",
        "print(\"Qu3: \",(df_wiki['Qu3'].unique()))\n",
        "print(\"Qu4: \",(df_wiki['Qu4'].unique()))\n",
        "print(\"Qu5: \",(df_wiki['Qu5'].unique()))\n",
        "print(\"Vis1: \",(df_wiki['Vis1'].unique()))\n",
        "print(\"Vis2: \",(df_wiki['Vis2'].unique()))\n",
        "print(\"Vis3: \",(df_wiki['Vis3'].unique()))\n",
        "print(\"Im1: \",(df_wiki['Im1'].unique()))\n",
        "print(\"Im2: \",(df_wiki['Im2'].unique()))\n",
        "print(\"Im3: \",(df_wiki['Im3'].unique()))\n",
        "print(\"SA1: \",(df_wiki['SA1'].unique()))\n",
        "print(\"SA2: \",(df_wiki['SA2'].unique()))\n",
        "print(\"SA3: \",(df_wiki['SA3'].unique()))\n",
        "print(\"Use1: \",(df_wiki['Use1'].unique()))\n",
        "print(\"Use2: \",(df_wiki['Use2'].unique()))\n",
        "print(\"Use3: \",(df_wiki['Use3'].unique()))\n",
        "print(\"Use4: \",(df_wiki['Use4'].unique()))\n",
        "print(\"Use5: \",(df_wiki['Use5'].unique()))\n",
        "print(\"Pf1: \",(df_wiki['Pf1'].unique()))\n",
        "print(\"Pf2: \",(df_wiki['Pf2'].unique()))\n",
        "print(\"Pf3: \",(df_wiki['Pf3'].unique()))\n",
        "print(\"JR1: \",(df_wiki['JR1'].unique()))\n",
        "print(\"JR2: \",(df_wiki['JR2'].unique()))\n",
        "print(\"BT1: \",(df_wiki['BI1'].unique()))\n",
        "print(\"BT2: \",(df_wiki['BI2'].unique()))\n",
        "print(\"Inc1: \",(df_wiki['Inc1'].unique()))\n",
        "print(\"Inc2: \",(df_wiki['Inc2'].unique()))\n",
        "print(\"Inc3: \",(df_wiki['Inc3'].unique()))\n",
        "print(\"Inc4: \",(df_wiki['Inc4'].unique()))\n",
        "print(\"Exp1: \",(df_wiki['Exp1'].unique()))\n",
        "print(\"Exp2: \",(df_wiki['Exp2'].unique()))\n",
        "print(\"Exp3: \",(df_wiki['Exp3'].unique()))\n",
        "print(\"Exp4: \",(df_wiki['Exp4'].unique()))\n",
        "print(\"Exp5: \",(df_wiki['Exp5'].unique()))"
      ],
      "execution_count": null,
      "outputs": [
        {
          "output_type": "stream",
          "name": "stdout",
          "text": [
            "AGE:  [40 42 37 51 47 43 55 54 50 48 38 56 44 39 33 36 45 35 41 49 46 34 59 32\n",
            " 52 31 62 53 29 30 57 58 63 68 69 24 28 60 26 64 67 65 27 23 25 61]\n",
            "GENDER:  [0 1]\n",
            "PhD:  [1 0]\n",
            "YEARSEXP:  ['14' '18' '13' '8' '17' '11' '12' '25' '15' '20' '5' '10' '9' '6' '?' '7'\n",
            " '36' '19' '4' '2' '23' '16' '3' '22' '24' '21' '1' '35' '27' '26' '30'\n",
            " '28' '0' '37' '43' '31' '39']\n",
            "UNIVERSITY:  [1 2]\n",
            "UOC_POSITION:  ['2' '3' '4' '5' '1' '6' '?']\n",
            "OTHER_POSITION:  ['?' '2' '1']\n",
            "OTHERSTATUS:  ['?' '7' '3' '2' '6' '4' '1' '5']\n",
            "USERWIKI:  ['0' '1' '?']\n",
            "PU1:  ['4' '2' '3' '5' '1' '?']\n",
            "PU2:  ['4' '3' '2' '5' '1' '?']\n",
            "PU3:  ['3' '2' '4' '5' '1' '?']\n",
            "PEU1:  ['5' '4' '3' '2' '?' '1']\n",
            "PEU2:  ['5' '4' '3' '?' '1' '2']\n",
            "PEU3:  ['3' '5' '4' '?' '2' '1']\n",
            "ENJ1:  ['4' '3' '5' '2' '1' '?']\n",
            "ENJ2:  ['4' '3' '5' '2' '?' '1']\n",
            "Qu1:  ['3' '4' '2' '5' '?' '1']\n",
            "Qu2:  ['3' '4' '2' '5' '1' '?']\n",
            "Qu3:  ['2' '3' '4' '?' '5' '1']\n",
            "Qu4:  ['2' '3' '5' '4' '?' '1']\n",
            "Qu5:  ['3' '2' '4' '5' '1' '?']\n",
            "Vis1:  ['3' '2' '4' '?' '5' '1']\n",
            "Vis2:  ['3' '4' '?' '2' '5' '1']\n",
            "Vis3:  ['1' '2' '3' '4' '5' '?']\n",
            "Im1:  ['2' '1' '3' '4' '?' '5']\n",
            "Im2:  ['4' '2' '5' '3' '1' '?']\n",
            "Im3:  ['2' '1' '3' '4' '5' '?']\n",
            "SA1:  ['4' '5' '2' '1' '3' '?']\n",
            "SA2:  ['4' '2' '5' '1' '3' '?']\n",
            "SA3:  ['4' '5' '3' '1' '2' '?']\n",
            "Use1:  ['3' '2' '1' '4' '5' '?']\n",
            "Use2:  ['1' '2' '3' '4' '5' '?']\n",
            "Use3:  ['1' '3' '5' '4' '2' '?']\n",
            "Use4:  ['2' '1' '3' '5' '4' '?']\n",
            "Use5:  ['4' '2' '1' '3' '5' '?']\n",
            "Pf1:  ['1' '3' '4' '5' '2' '?']\n",
            "Pf2:  ['1' '3' '4' '5' '2' '?']\n",
            "Pf3:  ['3' '1' '4' '5' '2' '?']\n",
            "JR1:  ['4' '5' '3' '1' '2' '?']\n",
            "JR2:  ['1' '3' '4' '2' '5' '?']\n",
            "BT1:  ['2' '1' '3' '5' '4' '?']\n",
            "BT2:  ['3' '2' '1' '5' '4' '?']\n",
            "Inc1:  ['5' '4' '3' '1' '2' '?']\n",
            "Inc2:  ['5' '4' '3' '2' '1' '?']\n",
            "Inc3:  ['5' '3' '4' '2' '1' '?']\n",
            "Inc4:  ['5' '4' '3' '1' '2' '?']\n",
            "Exp1:  ['4' '2' '5' '1' '3' '?']\n",
            "Exp2:  ['4' '2' '5' '3' '1' '?']\n",
            "Exp3:  ['4' '2' '3' '5' '1' '?']\n",
            "Exp4:  ['1' '2' '3' '4' '5' '?']\n",
            "Exp5:  ['2' '4' '3' '1' '5' '?']\n"
          ]
        }
      ]
    },
    {
      "cell_type": "code",
      "metadata": {
        "colab": {
          "base_uri": "https://localhost:8080/"
        },
        "id": "g7CgkYIPC9Jg",
        "outputId": "4ff25b61-0255-48fe-f74c-8e973ef9a7a4"
      },
      "source": [
        "mode = df_wiki['YEARSEXP'].mode()\n",
        "df_wiki['YEARSEXP'] = df_wiki['YEARSEXP'].replace(['?'],mode)\n",
        "mode"
      ],
      "execution_count": null,
      "outputs": [
        {
          "output_type": "execute_result",
          "data": {
            "text/plain": [
              "0    10\n",
              "dtype: object"
            ]
          },
          "metadata": {},
          "execution_count": 7
        }
      ]
    },
    {
      "cell_type": "code",
      "metadata": {
        "colab": {
          "base_uri": "https://localhost:8080/"
        },
        "id": "5ytVbsQ0Gj3U",
        "outputId": "2f5ea7df-0de4-4fa4-db6a-7a4102599645"
      },
      "source": [
        "mode = df_wiki['UOC_POSITION'].mode()\n",
        "df_wiki['UOC_POSITION'] = df_wiki['UOC_POSITION'].replace(['?'],mode)\n",
        "mode"
      ],
      "execution_count": null,
      "outputs": [
        {
          "output_type": "execute_result",
          "data": {
            "text/plain": [
              "0    6\n",
              "dtype: object"
            ]
          },
          "metadata": {},
          "execution_count": 8
        }
      ]
    },
    {
      "cell_type": "code",
      "metadata": {
        "colab": {
          "base_uri": "https://localhost:8080/"
        },
        "id": "h9p4l92vGkjv",
        "outputId": "f8267a76-c80f-4a08-dbab-2f781cb9e02b"
      },
      "source": [
        "mode = df_wiki['OTHER_POSITION'].mode()\n",
        "df_wiki['OTHER_POSITION'] = df_wiki['OTHER_POSITION'].replace(['?'],mode)\n",
        "mode"
      ],
      "execution_count": null,
      "outputs": [
        {
          "output_type": "execute_result",
          "data": {
            "text/plain": [
              "0    2\n",
              "dtype: object"
            ]
          },
          "metadata": {},
          "execution_count": 9
        }
      ]
    },
    {
      "cell_type": "code",
      "metadata": {
        "colab": {
          "base_uri": "https://localhost:8080/"
        },
        "id": "y3Zucab3YYnV",
        "outputId": "f9e4a4ab-86b5-4d9a-c932-424ab5c795d1"
      },
      "source": [
        "df_wiki['OTHERSTATUS'].astype(str)"
      ],
      "execution_count": null,
      "outputs": [
        {
          "output_type": "execute_result",
          "data": {
            "text/plain": [
              "0      ?\n",
              "1      ?\n",
              "2      ?\n",
              "3      ?\n",
              "4      ?\n",
              "      ..\n",
              "908    2\n",
              "909    6\n",
              "910    4\n",
              "911    2\n",
              "912    2\n",
              "Name: OTHERSTATUS, Length: 913, dtype: object"
            ]
          },
          "metadata": {},
          "execution_count": 10
        }
      ]
    },
    {
      "cell_type": "code",
      "metadata": {
        "colab": {
          "base_uri": "https://localhost:8080/"
        },
        "id": "PZag1bnsaIWl",
        "outputId": "4837712d-4342-4d09-9cd2-2b42468e6134"
      },
      "source": [
        "df_wiki[\"OTHERSTATUS\"].replace({\"?\": \"0\"}, inplace=True)\n",
        "print(df_wiki)"
      ],
      "execution_count": null,
      "outputs": [
        {
          "output_type": "stream",
          "name": "stdout",
          "text": [
            "     AGE  GENDER DOMAIN  PhD YEARSEXP  UNIVERSITY  ... Inc4 Exp1 Exp2 Exp3 Exp4 Exp5\n",
            "0     40       0      2    1       14           1  ...    5    4    4    4    1    2\n",
            "1     42       0      5    1       18           1  ...    4    2    2    4    2    4\n",
            "2     37       0      4    1       13           1  ...    5    2    2    2    1    3\n",
            "3     40       0      4    0       13           1  ...    3    4    4    3    3    4\n",
            "4     51       0      6    0        8           1  ...    4    5    5    5    4    4\n",
            "..   ...     ...    ...  ...      ...         ...  ...  ...  ...  ...  ...  ...  ...\n",
            "908   43       0      5    1       21           2  ...    2    ?    ?    ?    ?    ?\n",
            "909   53       0      6    0       25           2  ...    4    4    4    4    1    1\n",
            "910   39       0      5    1        9           2  ...    ?    5    5    5    4    1\n",
            "911   40       0      3    1       10           2  ...    2    4    4    2    1    1\n",
            "912   41       1      3    1       12           2  ...    3    2    3    3    1    1\n",
            "\n",
            "[913 rows x 53 columns]\n"
          ]
        }
      ]
    },
    {
      "cell_type": "code",
      "metadata": {
        "colab": {
          "base_uri": "https://localhost:8080/"
        },
        "id": "uPk_X4D0ahTZ",
        "outputId": "58bd73a6-f79f-49f5-8b09-ff839818b3aa"
      },
      "source": [
        "df_wiki['OTHERSTATUS'].astype(int)"
      ],
      "execution_count": null,
      "outputs": [
        {
          "output_type": "execute_result",
          "data": {
            "text/plain": [
              "0      0\n",
              "1      0\n",
              "2      0\n",
              "3      0\n",
              "4      0\n",
              "      ..\n",
              "908    2\n",
              "909    6\n",
              "910    4\n",
              "911    2\n",
              "912    2\n",
              "Name: OTHERSTATUS, Length: 913, dtype: int64"
            ]
          },
          "metadata": {},
          "execution_count": 12
        }
      ]
    },
    {
      "cell_type": "code",
      "metadata": {
        "colab": {
          "base_uri": "https://localhost:8080/"
        },
        "id": "kCgLm94fFGji",
        "outputId": "f340fed7-e138-4dbb-89a1-bd43def83539"
      },
      "source": [
        "mean = df_wiki['OTHERSTATUS'].mean()\n",
        "df_wiki['OTHERSTATUS'] = df_wiki['OTHERSTATUS'].replace(['?'],mean)\n",
        "mean"
      ],
      "execution_count": null,
      "outputs": [
        {
          "output_type": "execute_result",
          "data": {
            "text/plain": [
              "inf"
            ]
          },
          "metadata": {},
          "execution_count": 13
        }
      ]
    },
    {
      "cell_type": "code",
      "metadata": {
        "colab": {
          "base_uri": "https://localhost:8080/"
        },
        "id": "uboK96_UHSKd",
        "outputId": "27680d45-389d-4409-8482-77f253a1e7d9"
      },
      "source": [
        "mode = df_wiki['USERWIKI'].mode()\n",
        "df_wiki['USERWIKI'] = df_wiki['USERWIKI'].replace(['?'],mode)\n",
        "mode"
      ],
      "execution_count": null,
      "outputs": [
        {
          "output_type": "execute_result",
          "data": {
            "text/plain": [
              "0    0\n",
              "dtype: object"
            ]
          },
          "metadata": {},
          "execution_count": 14
        }
      ]
    },
    {
      "cell_type": "code",
      "metadata": {
        "colab": {
          "base_uri": "https://localhost:8080/"
        },
        "id": "VFfSVScVHXuV",
        "outputId": "3c8ce30c-9690-4d71-e12e-fcf6e105fb9c"
      },
      "source": [
        "mode = df_wiki['PU1'].mode()\n",
        "df_wiki['PU1'] = df_wiki['PU1'].replace(['?'],mode)\n",
        "mode"
      ],
      "execution_count": null,
      "outputs": [
        {
          "output_type": "execute_result",
          "data": {
            "text/plain": [
              "0    3\n",
              "dtype: object"
            ]
          },
          "metadata": {},
          "execution_count": 15
        }
      ]
    },
    {
      "cell_type": "code",
      "metadata": {
        "colab": {
          "base_uri": "https://localhost:8080/"
        },
        "id": "ygqgCJxjHY7r",
        "outputId": "d7e88362-1527-4144-8b39-53c9ef24506d"
      },
      "source": [
        "mode = df_wiki['PU2'].mode()\n",
        "df_wiki['PU2'] = df_wiki['PU2'].replace(['?'],mode)\n",
        "mode"
      ],
      "execution_count": null,
      "outputs": [
        {
          "output_type": "execute_result",
          "data": {
            "text/plain": [
              "0    3\n",
              "dtype: object"
            ]
          },
          "metadata": {},
          "execution_count": 16
        }
      ]
    },
    {
      "cell_type": "code",
      "metadata": {
        "colab": {
          "base_uri": "https://localhost:8080/"
        },
        "id": "A46hPIWSHbPc",
        "outputId": "dbf63d30-7aa8-4d82-a303-0095af918be6"
      },
      "source": [
        "mode = df_wiki['PU3'].mode()\n",
        "df_wiki['PU3'] = df_wiki['PU3'].replace(['?'],mode)\n",
        "mode"
      ],
      "execution_count": null,
      "outputs": [
        {
          "output_type": "execute_result",
          "data": {
            "text/plain": [
              "0    3\n",
              "dtype: object"
            ]
          },
          "metadata": {},
          "execution_count": 17
        }
      ]
    },
    {
      "cell_type": "code",
      "metadata": {
        "colab": {
          "base_uri": "https://localhost:8080/"
        },
        "id": "4FjcLdtiHmkD",
        "outputId": "6cb0472d-53d6-4b4e-deff-8091d3ccc419"
      },
      "source": [
        "mode = df_wiki['PEU1'].mode()\n",
        "df_wiki['PEU1'] = df_wiki['PEU1'].replace(['?'],mode)\n",
        "mode"
      ],
      "execution_count": null,
      "outputs": [
        {
          "output_type": "execute_result",
          "data": {
            "text/plain": [
              "0    5\n",
              "dtype: object"
            ]
          },
          "metadata": {},
          "execution_count": 18
        }
      ]
    },
    {
      "cell_type": "code",
      "metadata": {
        "colab": {
          "base_uri": "https://localhost:8080/"
        },
        "id": "tb92hqPDHnFw",
        "outputId": "4f342ef2-5790-4f61-d719-228030ce7e0f"
      },
      "source": [
        "mode = df_wiki['PEU2'].mode()\n",
        "df_wiki['PEU2'] = df_wiki['PEU2'].replace(['?'],mode)\n",
        "mode"
      ],
      "execution_count": null,
      "outputs": [
        {
          "output_type": "execute_result",
          "data": {
            "text/plain": [
              "0    4\n",
              "dtype: object"
            ]
          },
          "metadata": {},
          "execution_count": 19
        }
      ]
    },
    {
      "cell_type": "code",
      "metadata": {
        "colab": {
          "base_uri": "https://localhost:8080/"
        },
        "id": "aeQYwwKRHoSX",
        "outputId": "c5af11ae-3df8-42e7-f203-3d109fc56792"
      },
      "source": [
        "mode = df_wiki['PEU1'].mode()\n",
        "df_wiki['PEU3'] = df_wiki['PEU3'].replace(['?'],mode)\n",
        "mode"
      ],
      "execution_count": null,
      "outputs": [
        {
          "output_type": "execute_result",
          "data": {
            "text/plain": [
              "0    5\n",
              "dtype: object"
            ]
          },
          "metadata": {},
          "execution_count": 20
        }
      ]
    },
    {
      "cell_type": "code",
      "metadata": {
        "colab": {
          "base_uri": "https://localhost:8080/"
        },
        "id": "gxzOaIszHvOY",
        "outputId": "38382167-98ac-41da-959f-14c3d0e4e978"
      },
      "source": [
        "mode = df_wiki['ENJ1'].mode()\n",
        "df_wiki['ENJ1'] = df_wiki['ENJ1'].replace(['?'],mode)\n",
        "mode"
      ],
      "execution_count": null,
      "outputs": [
        {
          "output_type": "execute_result",
          "data": {
            "text/plain": [
              "0    4\n",
              "dtype: object"
            ]
          },
          "metadata": {},
          "execution_count": 21
        }
      ]
    },
    {
      "cell_type": "code",
      "metadata": {
        "colab": {
          "base_uri": "https://localhost:8080/"
        },
        "id": "tDqrqSYXHo84",
        "outputId": "8c1d2835-6a82-450a-fea8-652747ead6c3"
      },
      "source": [
        "mode = df_wiki['ENJ2'].mode()\n",
        "df_wiki['ENJ2'] = df_wiki['ENJ2'].replace(['?'],mode)\n",
        "mode"
      ],
      "execution_count": null,
      "outputs": [
        {
          "output_type": "execute_result",
          "data": {
            "text/plain": [
              "0    4\n",
              "dtype: object"
            ]
          },
          "metadata": {},
          "execution_count": 22
        }
      ]
    },
    {
      "cell_type": "code",
      "metadata": {
        "colab": {
          "base_uri": "https://localhost:8080/"
        },
        "id": "-vgpdjD3H3st",
        "outputId": "06ea208c-acdf-4952-8aad-9d5b6529cb54"
      },
      "source": [
        "mode = df_wiki['Qu1'].mode()\n",
        "df_wiki['Qu1'] = df_wiki['Qu1'].replace(['?'],mode)\n",
        "mode"
      ],
      "execution_count": null,
      "outputs": [
        {
          "output_type": "execute_result",
          "data": {
            "text/plain": [
              "0    3\n",
              "dtype: object"
            ]
          },
          "metadata": {},
          "execution_count": 23
        }
      ]
    },
    {
      "cell_type": "code",
      "metadata": {
        "colab": {
          "base_uri": "https://localhost:8080/"
        },
        "id": "BKDsLsQjH8u3",
        "outputId": "6f97c4a9-4dd7-47d8-cf04-f91050de5396"
      },
      "source": [
        "mode = df_wiki['Qu2'].mode()\n",
        "df_wiki['Qu2'] = df_wiki['Qu2'].replace(['?'],mode)\n",
        "mode\n"
      ],
      "execution_count": null,
      "outputs": [
        {
          "output_type": "execute_result",
          "data": {
            "text/plain": [
              "0    4\n",
              "dtype: object"
            ]
          },
          "metadata": {},
          "execution_count": 24
        }
      ]
    },
    {
      "cell_type": "code",
      "metadata": {
        "colab": {
          "base_uri": "https://localhost:8080/"
        },
        "id": "arYiqfE0H9a3",
        "outputId": "7f502172-c646-44da-c1ad-e02fc3ef4df9"
      },
      "source": [
        "mode = df_wiki['Qu3'].mode()\n",
        "df_wiki['Qu3'] = df_wiki['Qu3'].replace(['?'],mode)\n",
        "mode"
      ],
      "execution_count": null,
      "outputs": [
        {
          "output_type": "execute_result",
          "data": {
            "text/plain": [
              "0    3\n",
              "dtype: object"
            ]
          },
          "metadata": {},
          "execution_count": 25
        }
      ]
    },
    {
      "cell_type": "code",
      "metadata": {
        "colab": {
          "base_uri": "https://localhost:8080/"
        },
        "id": "MLGH7AkWIANk",
        "outputId": "d4fad4fe-40f1-4baa-8ca7-42582bb9dd5d"
      },
      "source": [
        "mode = df_wiki['Qu4'].mode()\n",
        "df_wiki['Qu4'] = df_wiki['Qu4'].replace(['?'],mode)\n",
        "mode"
      ],
      "execution_count": null,
      "outputs": [
        {
          "output_type": "execute_result",
          "data": {
            "text/plain": [
              "0    3\n",
              "dtype: object"
            ]
          },
          "metadata": {},
          "execution_count": 26
        }
      ]
    },
    {
      "cell_type": "code",
      "metadata": {
        "colab": {
          "base_uri": "https://localhost:8080/"
        },
        "id": "xF-HJrshIDaI",
        "outputId": "b776b384-6b81-445f-f10e-63ff92f8593b"
      },
      "source": [
        "mode = df_wiki['Qu5'].mode()\n",
        "df_wiki['Qu5'] = df_wiki['Qu5'].replace(['?'],mode)\n",
        "mode"
      ],
      "execution_count": null,
      "outputs": [
        {
          "output_type": "execute_result",
          "data": {
            "text/plain": [
              "0    3\n",
              "dtype: object"
            ]
          },
          "metadata": {},
          "execution_count": 27
        }
      ]
    },
    {
      "cell_type": "code",
      "metadata": {
        "colab": {
          "base_uri": "https://localhost:8080/"
        },
        "id": "0EkW3R9wIIaY",
        "outputId": "77b09bf6-0519-4fc9-edd9-1618fb8cd0fb"
      },
      "source": [
        "mode = df_wiki['Vis1'].mode()\n",
        "df_wiki['Vis1'] = df_wiki['Vis1'].replace(['?'],mode)\n",
        "mode"
      ],
      "execution_count": null,
      "outputs": [
        {
          "output_type": "execute_result",
          "data": {
            "text/plain": [
              "0    3\n",
              "dtype: object"
            ]
          },
          "metadata": {},
          "execution_count": 28
        }
      ]
    },
    {
      "cell_type": "code",
      "metadata": {
        "colab": {
          "base_uri": "https://localhost:8080/"
        },
        "id": "YfTGmRuMJwY5",
        "outputId": "5c7cdd82-4a12-4c7d-8992-d14f9946c7c7"
      },
      "source": [
        "mode = df_wiki['Vis2'].mode()\n",
        "df_wiki['Vis2'] = df_wiki['Vis2'].replace(['?'],mode)\n",
        "mode"
      ],
      "execution_count": null,
      "outputs": [
        {
          "output_type": "execute_result",
          "data": {
            "text/plain": [
              "0    3\n",
              "dtype: object"
            ]
          },
          "metadata": {},
          "execution_count": 29
        }
      ]
    },
    {
      "cell_type": "code",
      "metadata": {
        "colab": {
          "base_uri": "https://localhost:8080/"
        },
        "id": "CmwRcMm6JxaG",
        "outputId": "c15a91b4-6e8a-42b4-8945-0fc984970085"
      },
      "source": [
        "mode = df_wiki['Vis3'].mode()\n",
        "df_wiki['Vis3'] = df_wiki['Vis3'].replace(['?'],mode)\n",
        "mode"
      ],
      "execution_count": null,
      "outputs": [
        {
          "output_type": "execute_result",
          "data": {
            "text/plain": [
              "0    1\n",
              "dtype: object"
            ]
          },
          "metadata": {},
          "execution_count": 30
        }
      ]
    },
    {
      "cell_type": "code",
      "metadata": {
        "colab": {
          "base_uri": "https://localhost:8080/"
        },
        "id": "ZZAbK9njJyWs",
        "outputId": "2fec44aa-16e4-433b-c0da-36b34a5e4a76"
      },
      "source": [
        "mode = df_wiki['Im1'].mode()\n",
        "df_wiki['Im1'] = df_wiki['Im1'].replace(['?'],mode)\n",
        "mode"
      ],
      "execution_count": null,
      "outputs": [
        {
          "output_type": "execute_result",
          "data": {
            "text/plain": [
              "0    2\n",
              "dtype: object"
            ]
          },
          "metadata": {},
          "execution_count": 31
        }
      ]
    },
    {
      "cell_type": "code",
      "metadata": {
        "colab": {
          "base_uri": "https://localhost:8080/"
        },
        "id": "kVSiH_blJzy8",
        "outputId": "e6de3818-074f-471d-c577-d0e40a7d9eb6"
      },
      "source": [
        "mode = df_wiki['Im2'].mode()\n",
        "df_wiki['Im2'] = df_wiki['Im2'].replace(['?'],mode)\n",
        "mode"
      ],
      "execution_count": null,
      "outputs": [
        {
          "output_type": "execute_result",
          "data": {
            "text/plain": [
              "0    4\n",
              "dtype: object"
            ]
          },
          "metadata": {},
          "execution_count": 32
        }
      ]
    },
    {
      "cell_type": "code",
      "metadata": {
        "colab": {
          "base_uri": "https://localhost:8080/"
        },
        "id": "mXAVYXloJ0xC",
        "outputId": "1c30f30b-cdf7-4019-b9fa-1fd35a5c9107"
      },
      "source": [
        "mode = df_wiki['Im3'].mode()\n",
        "df_wiki['Im3'] = df_wiki['Im3'].replace(['?'],mode)\n",
        "mode"
      ],
      "execution_count": null,
      "outputs": [
        {
          "output_type": "execute_result",
          "data": {
            "text/plain": [
              "0    3\n",
              "dtype: object"
            ]
          },
          "metadata": {},
          "execution_count": 33
        }
      ]
    },
    {
      "cell_type": "code",
      "metadata": {
        "colab": {
          "base_uri": "https://localhost:8080/"
        },
        "id": "WnB5lxDKJ1oM",
        "outputId": "cb794850-3e81-43d1-929a-ccd0e4dbaa2a"
      },
      "source": [
        "mode = df_wiki['SA1'].mode()\n",
        "df_wiki['SA1'] = df_wiki['SA1'].replace(['?'],mode)\n",
        "mode"
      ],
      "execution_count": null,
      "outputs": [
        {
          "output_type": "execute_result",
          "data": {
            "text/plain": [
              "0    5\n",
              "dtype: object"
            ]
          },
          "metadata": {},
          "execution_count": 34
        }
      ]
    },
    {
      "cell_type": "code",
      "metadata": {
        "colab": {
          "base_uri": "https://localhost:8080/"
        },
        "id": "zFroqmOyJ2yk",
        "outputId": "52cdf6a8-d3ea-42f6-c2fd-23e1f2b5e4e0"
      },
      "source": [
        "mode = df_wiki['SA2'].mode()\n",
        "df_wiki['SA2'] = df_wiki['SA2'].replace(['?'],mode)\n",
        "mode"
      ],
      "execution_count": null,
      "outputs": [
        {
          "output_type": "execute_result",
          "data": {
            "text/plain": [
              "0    5\n",
              "dtype: object"
            ]
          },
          "metadata": {},
          "execution_count": 35
        }
      ]
    },
    {
      "cell_type": "code",
      "metadata": {
        "colab": {
          "base_uri": "https://localhost:8080/"
        },
        "id": "jeIKIqRYJ5xm",
        "outputId": "ad4305f2-3d85-4756-a42b-4c187aeb48d4"
      },
      "source": [
        "mode = df_wiki['SA3'].mode()\n",
        "df_wiki['SA3'] = df_wiki['SA3'].replace(['?'],mode)\n",
        "mode"
      ],
      "execution_count": null,
      "outputs": [
        {
          "output_type": "execute_result",
          "data": {
            "text/plain": [
              "0    5\n",
              "dtype: object"
            ]
          },
          "metadata": {},
          "execution_count": 36
        }
      ]
    },
    {
      "cell_type": "code",
      "metadata": {
        "colab": {
          "base_uri": "https://localhost:8080/"
        },
        "id": "F4vWgAVHJ62N",
        "outputId": "d33f7972-6a0f-497b-acd6-e7335a4b22d4"
      },
      "source": [
        "mode = df_wiki['Use1'].mode()\n",
        "df_wiki['Use1'] = df_wiki['Use1'].replace(['?'],mode)\n",
        "mode"
      ],
      "execution_count": null,
      "outputs": [
        {
          "output_type": "execute_result",
          "data": {
            "text/plain": [
              "0    1\n",
              "dtype: object"
            ]
          },
          "metadata": {},
          "execution_count": 37
        }
      ]
    },
    {
      "cell_type": "code",
      "metadata": {
        "colab": {
          "base_uri": "https://localhost:8080/"
        },
        "id": "DAUKW5YCJ8NZ",
        "outputId": "2c12fa07-4890-4c0e-9b45-d60c6df36589"
      },
      "source": [
        "mode = df_wiki['Use2'].mode()\n",
        "df_wiki['Use2'] = df_wiki['Use2'].replace(['?'],mode)\n",
        "mode"
      ],
      "execution_count": null,
      "outputs": [
        {
          "output_type": "execute_result",
          "data": {
            "text/plain": [
              "0    1\n",
              "dtype: object"
            ]
          },
          "metadata": {},
          "execution_count": 38
        }
      ]
    },
    {
      "cell_type": "code",
      "metadata": {
        "colab": {
          "base_uri": "https://localhost:8080/"
        },
        "id": "u95Umd03J9ff",
        "outputId": "f530b05c-ef8a-4708-d42b-a757c5b11e44"
      },
      "source": [
        "mode = df_wiki['Use2'].mode()\n",
        "df_wiki['Use2'] = df_wiki['Use2'].replace(['?'],mode)\n",
        "mode"
      ],
      "execution_count": null,
      "outputs": [
        {
          "output_type": "execute_result",
          "data": {
            "text/plain": [
              "0    1\n",
              "dtype: object"
            ]
          },
          "metadata": {},
          "execution_count": 39
        }
      ]
    },
    {
      "cell_type": "code",
      "metadata": {
        "colab": {
          "base_uri": "https://localhost:8080/"
        },
        "id": "grgBnBHvJ-tV",
        "outputId": "0a85ae5e-6505-439e-a2e9-debe1f09f757"
      },
      "source": [
        "mode = df_wiki['Use3'].mode()\n",
        "df_wiki['Use3'] = df_wiki['Use3'].replace(['?'],mode)\n",
        "mode"
      ],
      "execution_count": null,
      "outputs": [
        {
          "output_type": "execute_result",
          "data": {
            "text/plain": [
              "0    3\n",
              "dtype: object"
            ]
          },
          "metadata": {},
          "execution_count": 40
        }
      ]
    },
    {
      "cell_type": "code",
      "metadata": {
        "colab": {
          "base_uri": "https://localhost:8080/"
        },
        "id": "CyMAjfzOJ_xt",
        "outputId": "5a734f60-8bcd-4a6d-b5a9-c2cb041abff9"
      },
      "source": [
        "mode = df_wiki['Use4'].mode()\n",
        "df_wiki['Use4'] = df_wiki['Use4'].replace(['?'],mode)\n",
        "mode"
      ],
      "execution_count": null,
      "outputs": [
        {
          "output_type": "execute_result",
          "data": {
            "text/plain": [
              "0    3\n",
              "dtype: object"
            ]
          },
          "metadata": {},
          "execution_count": 41
        }
      ]
    },
    {
      "cell_type": "code",
      "metadata": {
        "colab": {
          "base_uri": "https://localhost:8080/"
        },
        "id": "_qRLFUmLKApc",
        "outputId": "565622c9-2269-42e1-a844-1ffcf6c89fbe"
      },
      "source": [
        "mode = df_wiki['Use5'].mode()\n",
        "df_wiki['Use5'] = df_wiki['Use5'].replace(['?'],mode)\n",
        "mode"
      ],
      "execution_count": null,
      "outputs": [
        {
          "output_type": "execute_result",
          "data": {
            "text/plain": [
              "0    4\n",
              "dtype: object"
            ]
          },
          "metadata": {},
          "execution_count": 42
        }
      ]
    },
    {
      "cell_type": "code",
      "metadata": {
        "colab": {
          "base_uri": "https://localhost:8080/"
        },
        "id": "HGW8n_xWKBez",
        "outputId": "7c8cf6be-d678-4ad0-bd3f-94a8063548c8"
      },
      "source": [
        "mode = df_wiki['Pf1'].mode()\n",
        "df_wiki['Pf1'] = df_wiki['Pf1'].replace(['?'],mode)\n",
        "mode"
      ],
      "execution_count": null,
      "outputs": [
        {
          "output_type": "execute_result",
          "data": {
            "text/plain": [
              "0    1\n",
              "dtype: object"
            ]
          },
          "metadata": {},
          "execution_count": 43
        }
      ]
    },
    {
      "cell_type": "code",
      "metadata": {
        "colab": {
          "base_uri": "https://localhost:8080/"
        },
        "id": "485jTL2qKCkV",
        "outputId": "c31c3fb3-e0b0-47c4-d2cf-ad49b516ad2c"
      },
      "source": [
        "mode = df_wiki['Pf2'].mode()\n",
        "df_wiki['Pf2'] = df_wiki['Pf2'].replace(['?'],mode)\n",
        "mode"
      ],
      "execution_count": null,
      "outputs": [
        {
          "output_type": "execute_result",
          "data": {
            "text/plain": [
              "0    2\n",
              "dtype: object"
            ]
          },
          "metadata": {},
          "execution_count": 44
        }
      ]
    },
    {
      "cell_type": "code",
      "metadata": {
        "colab": {
          "base_uri": "https://localhost:8080/"
        },
        "id": "4o9px3tEKDXy",
        "outputId": "a2248835-a8b4-4eba-c480-6d408e4bbf37"
      },
      "source": [
        "mode = df_wiki['Pf3'].mode()\n",
        "df_wiki['Pf3'] = df_wiki['Pf3'].replace(['?'],mode)\n",
        "mode"
      ],
      "execution_count": null,
      "outputs": [
        {
          "output_type": "execute_result",
          "data": {
            "text/plain": [
              "0    1\n",
              "dtype: object"
            ]
          },
          "metadata": {},
          "execution_count": 45
        }
      ]
    },
    {
      "cell_type": "code",
      "metadata": {
        "colab": {
          "base_uri": "https://localhost:8080/"
        },
        "id": "bvzJOf62KE5g",
        "outputId": "cf0ebde9-52e9-4a72-8981-21a5fb3fc925"
      },
      "source": [
        "mode = df_wiki['JR1'].mode()\n",
        "df_wiki['JR1'] = df_wiki['JR1'].replace(['?'],mode)\n",
        "mode"
      ],
      "execution_count": null,
      "outputs": [
        {
          "output_type": "execute_result",
          "data": {
            "text/plain": [
              "0    4\n",
              "dtype: object"
            ]
          },
          "metadata": {},
          "execution_count": 46
        }
      ]
    },
    {
      "cell_type": "code",
      "metadata": {
        "colab": {
          "base_uri": "https://localhost:8080/"
        },
        "id": "r0e8W-rnKFwP",
        "outputId": "cb65bbbd-9a7b-4250-c476-69dc44e74ffd"
      },
      "source": [
        "mode = df_wiki['JR2'].mode()\n",
        "df_wiki['JR2'] = df_wiki['JR2'].replace(['?'],mode)\n",
        "mode"
      ],
      "execution_count": null,
      "outputs": [
        {
          "output_type": "execute_result",
          "data": {
            "text/plain": [
              "0    3\n",
              "dtype: object"
            ]
          },
          "metadata": {},
          "execution_count": 47
        }
      ]
    },
    {
      "cell_type": "code",
      "metadata": {
        "colab": {
          "base_uri": "https://localhost:8080/"
        },
        "id": "K0HcOUDoKFru",
        "outputId": "84b7fd7a-84bc-4d83-f3ed-c99ef1e81c8a"
      },
      "source": [
        "mode = df_wiki['BI1'].mode()\n",
        "df_wiki['BI1'] = df_wiki['BI1'].replace(['?'],mode)\n",
        "mode"
      ],
      "execution_count": null,
      "outputs": [
        {
          "output_type": "execute_result",
          "data": {
            "text/plain": [
              "0    3\n",
              "dtype: object"
            ]
          },
          "metadata": {},
          "execution_count": 48
        }
      ]
    },
    {
      "cell_type": "code",
      "metadata": {
        "colab": {
          "base_uri": "https://localhost:8080/"
        },
        "id": "NFVkn0S1KIK1",
        "outputId": "4ae0a31a-3e1d-4099-dac2-925fbd43bf17"
      },
      "source": [
        "mode = df_wiki['BI2'].mode()\n",
        "df_wiki['BI2'] = df_wiki['BI2'].replace(['?'],mode)\n",
        "mode"
      ],
      "execution_count": null,
      "outputs": [
        {
          "output_type": "execute_result",
          "data": {
            "text/plain": [
              "0    3\n",
              "dtype: object"
            ]
          },
          "metadata": {},
          "execution_count": 49
        }
      ]
    },
    {
      "cell_type": "code",
      "metadata": {
        "colab": {
          "base_uri": "https://localhost:8080/"
        },
        "id": "Mjrw1pPOKIH7",
        "outputId": "c2dcadef-516b-46d5-e0c8-6d86dd4d2290"
      },
      "source": [
        "mode = df_wiki['Inc1'].mode()\n",
        "df_wiki['Inc1'] = df_wiki['Inc1'].replace(['?'],mode)\n",
        "mode"
      ],
      "execution_count": null,
      "outputs": [
        {
          "output_type": "execute_result",
          "data": {
            "text/plain": [
              "0    4\n",
              "dtype: object"
            ]
          },
          "metadata": {},
          "execution_count": 50
        }
      ]
    },
    {
      "cell_type": "code",
      "metadata": {
        "colab": {
          "base_uri": "https://localhost:8080/"
        },
        "id": "f0N2c_FGKIF_",
        "outputId": "60ce0dae-49e0-4a42-c677-3d78a9f9231e"
      },
      "source": [
        "mode = df_wiki['Inc2'].mode()\n",
        "df_wiki['Inc2'] = df_wiki['Inc2'].replace(['?'],mode)\n",
        "mode"
      ],
      "execution_count": null,
      "outputs": [
        {
          "output_type": "execute_result",
          "data": {
            "text/plain": [
              "0    4\n",
              "dtype: object"
            ]
          },
          "metadata": {},
          "execution_count": 51
        }
      ]
    },
    {
      "cell_type": "code",
      "metadata": {
        "colab": {
          "base_uri": "https://localhost:8080/"
        },
        "id": "hWa4gciMKID8",
        "outputId": "1262c00b-7d8c-4974-e966-aca3ddd4a2f6"
      },
      "source": [
        "mode = df_wiki['Inc3'].mode()\n",
        "df_wiki['Inc3'] = df_wiki['Inc3'].replace(['?'],mode)\n",
        "mode"
      ],
      "execution_count": null,
      "outputs": [
        {
          "output_type": "execute_result",
          "data": {
            "text/plain": [
              "0    3\n",
              "dtype: object"
            ]
          },
          "metadata": {},
          "execution_count": 52
        }
      ]
    },
    {
      "cell_type": "code",
      "metadata": {
        "colab": {
          "base_uri": "https://localhost:8080/"
        },
        "id": "XFtc-T18KH_5",
        "outputId": "9d90e365-b607-4349-e544-e6e471f49cc0"
      },
      "source": [
        "mode = df_wiki['Inc3'].mode()\n",
        "df_wiki['Inc3'] = df_wiki['Inc3'].replace(['?'],mode)\n",
        "mode"
      ],
      "execution_count": null,
      "outputs": [
        {
          "output_type": "execute_result",
          "data": {
            "text/plain": [
              "0    3\n",
              "dtype: object"
            ]
          },
          "metadata": {},
          "execution_count": 53
        }
      ]
    },
    {
      "cell_type": "code",
      "metadata": {
        "colab": {
          "base_uri": "https://localhost:8080/"
        },
        "id": "9oAiTMzjKH8I",
        "outputId": "f154757d-03aa-496c-b8fb-44697564d96c"
      },
      "source": [
        "mode = df_wiki['Inc4'].mode()\n",
        "df_wiki['Inc4'] = df_wiki['Inc4'].replace(['?'],mode)\n",
        "mode"
      ],
      "execution_count": null,
      "outputs": [
        {
          "output_type": "execute_result",
          "data": {
            "text/plain": [
              "0    3\n",
              "dtype: object"
            ]
          },
          "metadata": {},
          "execution_count": 54
        }
      ]
    },
    {
      "cell_type": "code",
      "metadata": {
        "colab": {
          "base_uri": "https://localhost:8080/"
        },
        "id": "_qTbBji8KH37",
        "outputId": "9a03e1ad-c405-469d-deed-65684d37a6f5"
      },
      "source": [
        "mode = df_wiki['Exp1'].mode()\n",
        "df_wiki['Exp1'] = df_wiki['Exp1'].replace(['?'],mode)\n",
        "mode"
      ],
      "execution_count": null,
      "outputs": [
        {
          "output_type": "execute_result",
          "data": {
            "text/plain": [
              "0    4\n",
              "dtype: object"
            ]
          },
          "metadata": {},
          "execution_count": 55
        }
      ]
    },
    {
      "cell_type": "code",
      "metadata": {
        "colab": {
          "base_uri": "https://localhost:8080/"
        },
        "id": "cA2aMrXqKH0I",
        "outputId": "c497c8fd-3115-40d7-a23c-97680800eb7b"
      },
      "source": [
        "mode = df_wiki['Exp2'].mode()\n",
        "df_wiki['Exp2'] = df_wiki['Exp2'].replace(['?'],mode)\n",
        "mode"
      ],
      "execution_count": null,
      "outputs": [
        {
          "output_type": "execute_result",
          "data": {
            "text/plain": [
              "0    4\n",
              "dtype: object"
            ]
          },
          "metadata": {},
          "execution_count": 56
        }
      ]
    },
    {
      "cell_type": "code",
      "metadata": {
        "colab": {
          "base_uri": "https://localhost:8080/"
        },
        "id": "zDiQqBzjKHtL",
        "outputId": "ce30c961-b539-4226-81de-8377fe3c17c7"
      },
      "source": [
        "mode = df_wiki['Exp3'].mode()\n",
        "df_wiki['Exp3'] = df_wiki['Exp3'].replace(['?'],mode)\n",
        "mode"
      ],
      "execution_count": null,
      "outputs": [
        {
          "output_type": "execute_result",
          "data": {
            "text/plain": [
              "0    4\n",
              "dtype: object"
            ]
          },
          "metadata": {},
          "execution_count": 57
        }
      ]
    },
    {
      "cell_type": "code",
      "metadata": {
        "colab": {
          "base_uri": "https://localhost:8080/"
        },
        "id": "vCC2y1mfKSia",
        "outputId": "12cb93d7-46de-4861-e22e-8826c0b3e761"
      },
      "source": [
        "mode = df_wiki['Exp4'].mode()\n",
        "df_wiki['Exp4'] = df_wiki['Exp4'].replace(['?'],mode)\n",
        "mode"
      ],
      "execution_count": null,
      "outputs": [
        {
          "output_type": "execute_result",
          "data": {
            "text/plain": [
              "0    1\n",
              "dtype: object"
            ]
          },
          "metadata": {},
          "execution_count": 58
        }
      ]
    },
    {
      "cell_type": "code",
      "metadata": {
        "colab": {
          "base_uri": "https://localhost:8080/"
        },
        "id": "GtAUSQf3KSfv",
        "outputId": "92884d94-e861-4e59-c40c-8d6d933caf6c"
      },
      "source": [
        "mode = df_wiki['Exp5'].mode()\n",
        "df_wiki['Exp5'] = df_wiki['Exp5'].replace(['?'],mode)\n",
        "mode"
      ],
      "execution_count": null,
      "outputs": [
        {
          "output_type": "execute_result",
          "data": {
            "text/plain": [
              "0    1\n",
              "dtype: object"
            ]
          },
          "metadata": {},
          "execution_count": 59
        }
      ]
    },
    {
      "cell_type": "code",
      "metadata": {
        "id": "YMsGq6viLzGi"
      },
      "source": [
        "df_wiki['YEARSEXP'] = df_wiki.YEARSEXP.astype(int)"
      ],
      "execution_count": null,
      "outputs": []
    },
    {
      "cell_type": "code",
      "metadata": {
        "colab": {
          "base_uri": "https://localhost:8080/"
        },
        "id": "5daUNd-eMP1S",
        "outputId": "647f930d-00b4-40c6-cefb-f9aa22bfe85c"
      },
      "source": [
        "df_wiki.info()"
      ],
      "execution_count": null,
      "outputs": [
        {
          "output_type": "stream",
          "name": "stdout",
          "text": [
            "<class 'pandas.core.frame.DataFrame'>\n",
            "RangeIndex: 913 entries, 0 to 912\n",
            "Data columns (total 53 columns):\n",
            " #   Column          Non-Null Count  Dtype \n",
            "---  ------          --------------  ----- \n",
            " 0   AGE             913 non-null    int64 \n",
            " 1   GENDER          913 non-null    int64 \n",
            " 2   DOMAIN          913 non-null    object\n",
            " 3   PhD             913 non-null    int64 \n",
            " 4   YEARSEXP        913 non-null    int64 \n",
            " 5   UNIVERSITY      913 non-null    int64 \n",
            " 6   UOC_POSITION    913 non-null    object\n",
            " 7   OTHER_POSITION  913 non-null    object\n",
            " 8   OTHERSTATUS     913 non-null    object\n",
            " 9   USERWIKI        913 non-null    object\n",
            " 10  PU1             913 non-null    object\n",
            " 11  PU2             913 non-null    object\n",
            " 12  PU3             913 non-null    object\n",
            " 13  PEU1            913 non-null    object\n",
            " 14  PEU2            913 non-null    object\n",
            " 15  PEU3            913 non-null    object\n",
            " 16  ENJ1            913 non-null    object\n",
            " 17  ENJ2            913 non-null    object\n",
            " 18  Qu1             913 non-null    object\n",
            " 19  Qu2             913 non-null    object\n",
            " 20  Qu3             913 non-null    object\n",
            " 21  Qu4             913 non-null    object\n",
            " 22  Qu5             913 non-null    object\n",
            " 23  Vis1            913 non-null    object\n",
            " 24  Vis2            913 non-null    object\n",
            " 25  Vis3            913 non-null    object\n",
            " 26  Im1             913 non-null    object\n",
            " 27  Im2             913 non-null    object\n",
            " 28  Im3             913 non-null    object\n",
            " 29  SA1             913 non-null    object\n",
            " 30  SA2             913 non-null    object\n",
            " 31  SA3             913 non-null    object\n",
            " 32  Use1            913 non-null    object\n",
            " 33  Use2            913 non-null    object\n",
            " 34  Use3            913 non-null    object\n",
            " 35  Use4            913 non-null    object\n",
            " 36  Use5            913 non-null    object\n",
            " 37  Pf1             913 non-null    object\n",
            " 38  Pf2             913 non-null    object\n",
            " 39  Pf3             913 non-null    object\n",
            " 40  JR1             913 non-null    object\n",
            " 41  JR2             913 non-null    object\n",
            " 42  BI1             913 non-null    object\n",
            " 43  BI2             913 non-null    object\n",
            " 44  Inc1            913 non-null    object\n",
            " 45  Inc2            913 non-null    object\n",
            " 46  Inc3            913 non-null    object\n",
            " 47  Inc4            913 non-null    object\n",
            " 48  Exp1            913 non-null    object\n",
            " 49  Exp2            913 non-null    object\n",
            " 50  Exp3            913 non-null    object\n",
            " 51  Exp4            913 non-null    object\n",
            " 52  Exp5            913 non-null    object\n",
            "dtypes: int64(5), object(48)\n",
            "memory usage: 378.2+ KB\n"
          ]
        }
      ]
    },
    {
      "cell_type": "code",
      "metadata": {
        "id": "XVbm1lOsbtAo",
        "colab": {
          "base_uri": "https://localhost:8080/"
        },
        "outputId": "9b9d891a-bd6c-4e92-9fbc-e95995d6ea49"
      },
      "source": [
        "#Mengecek apakah masih ada missing value berupa ?,NaN,-,dsb yang pada tiap kolom\n",
        "print(\"AGE: \",(df_wiki['AGE'].unique()))\n",
        "print(\"GENDER: \",(df_wiki['GENDER'].unique()))\n",
        "print(\"PhD: \",(df_wiki['PhD'].unique()))\n",
        "print(\"YEARSEXP: \",(df_wiki['YEARSEXP'].unique()))\n",
        "print(\"UNIVERSITY: \",(df_wiki['UNIVERSITY'].unique()))\n",
        "print(\"UOC_POSITION: \",(df_wiki['UOC_POSITION'].unique()))\n",
        "print(\"OTHER_POSITION: \",(df_wiki['OTHER_POSITION'].unique()))\n",
        "print(\"OTHERSTATUS: \",(df_wiki['OTHERSTATUS'].unique()))\n",
        "print(\"USERWIKI: \",(df_wiki['USERWIKI'].unique()))\n",
        "print(\"PU1: \",(df_wiki['PU1'].unique()))\n",
        "print(\"PU2: \",(df_wiki['PU2'].unique()))\n",
        "print(\"PU3: \",(df_wiki['PU3'].unique()))\n",
        "print(\"PEU1: \",(df_wiki['PEU1'].unique()))\n",
        "print(\"PEU2: \",(df_wiki['PEU2'].unique()))\n",
        "print(\"PEU3: \",(df_wiki['PEU3'].unique()))\n",
        "print(\"ENJ1: \",(df_wiki['ENJ1'].unique()))\n",
        "print(\"ENJ2: \",(df_wiki['ENJ2'].unique()))\n",
        "print(\"Qu1: \",(df_wiki['Qu1'].unique()))\n",
        "print(\"Qu2: \",(df_wiki['Qu2'].unique()))\n",
        "print(\"Qu3: \",(df_wiki['Qu3'].unique()))\n",
        "print(\"Qu4: \",(df_wiki['Qu4'].unique()))\n",
        "print(\"Qu5: \",(df_wiki['Qu5'].unique()))\n",
        "print(\"Vis1: \",(df_wiki['Vis1'].unique()))\n",
        "print(\"Vis2: \",(df_wiki['Vis2'].unique()))\n",
        "print(\"Vis3: \",(df_wiki['Vis3'].unique()))\n",
        "print(\"Im1: \",(df_wiki['Im1'].unique()))\n",
        "print(\"Im2: \",(df_wiki['Im2'].unique()))\n",
        "print(\"Im3: \",(df_wiki['Im3'].unique()))\n",
        "print(\"SA1: \",(df_wiki['SA1'].unique()))\n",
        "print(\"SA2: \",(df_wiki['SA2'].unique()))\n",
        "print(\"SA3: \",(df_wiki['SA3'].unique()))\n",
        "print(\"Use1: \",(df_wiki['Use1'].unique()))\n",
        "print(\"Use2: \",(df_wiki['Use2'].unique()))\n",
        "print(\"Use3: \",(df_wiki['Use3'].unique()))\n",
        "print(\"Use4: \",(df_wiki['Use4'].unique()))\n",
        "print(\"Use5: \",(df_wiki['Use5'].unique()))\n",
        "print(\"Pf1: \",(df_wiki['Pf1'].unique()))\n",
        "print(\"Pf2: \",(df_wiki['Pf2'].unique()))\n",
        "print(\"Pf3: \",(df_wiki['Pf3'].unique()))\n",
        "print(\"JR1: \",(df_wiki['JR1'].unique()))\n",
        "print(\"JR2: \",(df_wiki['JR2'].unique()))\n",
        "print(\"BT1: \",(df_wiki['BI1'].unique()))\n",
        "print(\"BT2: \",(df_wiki['BI2'].unique()))\n",
        "print(\"Inc1: \",(df_wiki['Inc1'].unique()))\n",
        "print(\"Inc2: \",(df_wiki['Inc2'].unique()))\n",
        "print(\"Inc3: \",(df_wiki['Inc3'].unique()))\n",
        "print(\"Inc4: \",(df_wiki['Inc4'].unique()))\n",
        "print(\"Exp1: \",(df_wiki['Exp1'].unique()))\n",
        "print(\"Exp2: \",(df_wiki['Exp2'].unique()))\n",
        "print(\"Exp3: \",(df_wiki['Exp3'].unique()))\n",
        "print(\"Exp4: \",(df_wiki['Exp4'].unique()))\n",
        "print(\"Exp5: \",(df_wiki['Exp5'].unique()))"
      ],
      "execution_count": null,
      "outputs": [
        {
          "output_type": "stream",
          "name": "stdout",
          "text": [
            "AGE:  [40 42 37 51 47 43 55 54 50 48 38 56 44 39 33 36 45 35 41 49 46 34 59 32\n",
            " 52 31 62 53 29 30 57 58 63 68 69 24 28 60 26 64 67 65 27 23 25 61]\n",
            "GENDER:  [0 1]\n",
            "PhD:  [1 0]\n",
            "YEARSEXP:  [14 18 13  8 17 11 12 25 15 20  5 10  9  6  7 36 19  4  2 23 16  3 22 24\n",
            " 21  1 35 27 26 30 28  0 37 43 31 39]\n",
            "UNIVERSITY:  [1 2]\n",
            "UOC_POSITION:  ['2' '3' '4' '5' '1' '6']\n",
            "OTHER_POSITION:  ['2' '1']\n",
            "OTHERSTATUS:  ['0' '7' '3' '2' '6' '4' '1' '5']\n",
            "USERWIKI:  ['0' '1']\n",
            "PU1:  ['4' '2' '3' '5' '1']\n",
            "PU2:  ['4' '3' '2' '5' '1']\n",
            "PU3:  ['3' '2' '4' '5' '1']\n",
            "PEU1:  ['5' '4' '3' '2' '1']\n",
            "PEU2:  ['5' '4' '3' '1' '2']\n",
            "PEU3:  ['3' '5' '4' '2' '1']\n",
            "ENJ1:  ['4' '3' '5' '2' '1']\n",
            "ENJ2:  ['4' '3' '5' '2' '1']\n",
            "Qu1:  ['3' '4' '2' '5' '1']\n",
            "Qu2:  ['3' '4' '2' '5' '1']\n",
            "Qu3:  ['2' '3' '4' '5' '1']\n",
            "Qu4:  ['2' '3' '5' '4' '1']\n",
            "Qu5:  ['3' '2' '4' '5' '1']\n",
            "Vis1:  ['3' '2' '4' '5' '1']\n",
            "Vis2:  ['3' '4' '2' '5' '1']\n",
            "Vis3:  ['1' '2' '3' '4' '5']\n",
            "Im1:  ['2' '1' '3' '4' '5']\n",
            "Im2:  ['4' '2' '5' '3' '1']\n",
            "Im3:  ['2' '1' '3' '4' '5']\n",
            "SA1:  ['4' '5' '2' '1' '3']\n",
            "SA2:  ['4' '2' '5' '1' '3']\n",
            "SA3:  ['4' '5' '3' '1' '2']\n",
            "Use1:  ['3' '2' '1' '4' '5']\n",
            "Use2:  ['1' '2' '3' '4' '5']\n",
            "Use3:  ['1' '3' '5' '4' '2']\n",
            "Use4:  ['2' '1' '3' '5' '4']\n",
            "Use5:  ['4' '2' '1' '3' '5']\n",
            "Pf1:  ['1' '3' '4' '5' '2']\n",
            "Pf2:  ['1' '3' '4' '5' '2']\n",
            "Pf3:  ['3' '1' '4' '5' '2']\n",
            "JR1:  ['4' '5' '3' '1' '2']\n",
            "JR2:  ['1' '3' '4' '2' '5']\n",
            "BT1:  ['2' '1' '3' '5' '4']\n",
            "BT2:  ['3' '2' '1' '5' '4']\n",
            "Inc1:  ['5' '4' '3' '1' '2']\n",
            "Inc2:  ['5' '4' '3' '2' '1']\n",
            "Inc3:  ['5' '3' '4' '2' '1']\n",
            "Inc4:  ['5' '4' '3' '1' '2']\n",
            "Exp1:  ['4' '2' '5' '1' '3']\n",
            "Exp2:  ['4' '2' '5' '3' '1']\n",
            "Exp3:  ['4' '2' '3' '5' '1']\n",
            "Exp4:  ['1' '2' '3' '4' '5']\n",
            "Exp5:  ['2' '4' '3' '1' '5']\n"
          ]
        }
      ]
    },
    {
      "cell_type": "code",
      "metadata": {
        "id": "zq6EEJRdcpkc",
        "colab": {
          "base_uri": "https://localhost:8080/",
          "height": 226
        },
        "outputId": "34699ad8-d676-482a-910d-3bd3bb81f4dd"
      },
      "source": [
        "df_wiki.head()"
      ],
      "execution_count": null,
      "outputs": [
        {
          "output_type": "execute_result",
          "data": {
            "text/html": [
              "<div>\n",
              "<style scoped>\n",
              "    .dataframe tbody tr th:only-of-type {\n",
              "        vertical-align: middle;\n",
              "    }\n",
              "\n",
              "    .dataframe tbody tr th {\n",
              "        vertical-align: top;\n",
              "    }\n",
              "\n",
              "    .dataframe thead th {\n",
              "        text-align: right;\n",
              "    }\n",
              "</style>\n",
              "<table border=\"1\" class=\"dataframe\">\n",
              "  <thead>\n",
              "    <tr style=\"text-align: right;\">\n",
              "      <th></th>\n",
              "      <th>AGE</th>\n",
              "      <th>GENDER</th>\n",
              "      <th>DOMAIN</th>\n",
              "      <th>PhD</th>\n",
              "      <th>YEARSEXP</th>\n",
              "      <th>UNIVERSITY</th>\n",
              "      <th>UOC_POSITION</th>\n",
              "      <th>OTHER_POSITION</th>\n",
              "      <th>OTHERSTATUS</th>\n",
              "      <th>USERWIKI</th>\n",
              "      <th>PU1</th>\n",
              "      <th>PU2</th>\n",
              "      <th>PU3</th>\n",
              "      <th>PEU1</th>\n",
              "      <th>PEU2</th>\n",
              "      <th>PEU3</th>\n",
              "      <th>ENJ1</th>\n",
              "      <th>ENJ2</th>\n",
              "      <th>Qu1</th>\n",
              "      <th>Qu2</th>\n",
              "      <th>Qu3</th>\n",
              "      <th>Qu4</th>\n",
              "      <th>Qu5</th>\n",
              "      <th>Vis1</th>\n",
              "      <th>Vis2</th>\n",
              "      <th>Vis3</th>\n",
              "      <th>Im1</th>\n",
              "      <th>Im2</th>\n",
              "      <th>Im3</th>\n",
              "      <th>SA1</th>\n",
              "      <th>SA2</th>\n",
              "      <th>SA3</th>\n",
              "      <th>Use1</th>\n",
              "      <th>Use2</th>\n",
              "      <th>Use3</th>\n",
              "      <th>Use4</th>\n",
              "      <th>Use5</th>\n",
              "      <th>Pf1</th>\n",
              "      <th>Pf2</th>\n",
              "      <th>Pf3</th>\n",
              "      <th>JR1</th>\n",
              "      <th>JR2</th>\n",
              "      <th>BI1</th>\n",
              "      <th>BI2</th>\n",
              "      <th>Inc1</th>\n",
              "      <th>Inc2</th>\n",
              "      <th>Inc3</th>\n",
              "      <th>Inc4</th>\n",
              "      <th>Exp1</th>\n",
              "      <th>Exp2</th>\n",
              "      <th>Exp3</th>\n",
              "      <th>Exp4</th>\n",
              "      <th>Exp5</th>\n",
              "    </tr>\n",
              "  </thead>\n",
              "  <tbody>\n",
              "    <tr>\n",
              "      <th>0</th>\n",
              "      <td>40</td>\n",
              "      <td>0</td>\n",
              "      <td>2</td>\n",
              "      <td>1</td>\n",
              "      <td>14</td>\n",
              "      <td>1</td>\n",
              "      <td>2</td>\n",
              "      <td>2</td>\n",
              "      <td>0</td>\n",
              "      <td>0</td>\n",
              "      <td>4</td>\n",
              "      <td>4</td>\n",
              "      <td>3</td>\n",
              "      <td>5</td>\n",
              "      <td>5</td>\n",
              "      <td>3</td>\n",
              "      <td>4</td>\n",
              "      <td>4</td>\n",
              "      <td>3</td>\n",
              "      <td>3</td>\n",
              "      <td>2</td>\n",
              "      <td>2</td>\n",
              "      <td>3</td>\n",
              "      <td>3</td>\n",
              "      <td>3</td>\n",
              "      <td>1</td>\n",
              "      <td>2</td>\n",
              "      <td>4</td>\n",
              "      <td>2</td>\n",
              "      <td>4</td>\n",
              "      <td>4</td>\n",
              "      <td>4</td>\n",
              "      <td>3</td>\n",
              "      <td>1</td>\n",
              "      <td>1</td>\n",
              "      <td>2</td>\n",
              "      <td>4</td>\n",
              "      <td>1</td>\n",
              "      <td>1</td>\n",
              "      <td>3</td>\n",
              "      <td>4</td>\n",
              "      <td>1</td>\n",
              "      <td>2</td>\n",
              "      <td>3</td>\n",
              "      <td>5</td>\n",
              "      <td>5</td>\n",
              "      <td>5</td>\n",
              "      <td>5</td>\n",
              "      <td>4</td>\n",
              "      <td>4</td>\n",
              "      <td>4</td>\n",
              "      <td>1</td>\n",
              "      <td>2</td>\n",
              "    </tr>\n",
              "    <tr>\n",
              "      <th>1</th>\n",
              "      <td>42</td>\n",
              "      <td>0</td>\n",
              "      <td>5</td>\n",
              "      <td>1</td>\n",
              "      <td>18</td>\n",
              "      <td>1</td>\n",
              "      <td>2</td>\n",
              "      <td>2</td>\n",
              "      <td>0</td>\n",
              "      <td>0</td>\n",
              "      <td>2</td>\n",
              "      <td>3</td>\n",
              "      <td>3</td>\n",
              "      <td>4</td>\n",
              "      <td>4</td>\n",
              "      <td>3</td>\n",
              "      <td>3</td>\n",
              "      <td>4</td>\n",
              "      <td>4</td>\n",
              "      <td>4</td>\n",
              "      <td>3</td>\n",
              "      <td>3</td>\n",
              "      <td>2</td>\n",
              "      <td>3</td>\n",
              "      <td>3</td>\n",
              "      <td>1</td>\n",
              "      <td>1</td>\n",
              "      <td>2</td>\n",
              "      <td>1</td>\n",
              "      <td>4</td>\n",
              "      <td>4</td>\n",
              "      <td>4</td>\n",
              "      <td>2</td>\n",
              "      <td>2</td>\n",
              "      <td>1</td>\n",
              "      <td>1</td>\n",
              "      <td>2</td>\n",
              "      <td>1</td>\n",
              "      <td>1</td>\n",
              "      <td>1</td>\n",
              "      <td>4</td>\n",
              "      <td>3</td>\n",
              "      <td>2</td>\n",
              "      <td>2</td>\n",
              "      <td>4</td>\n",
              "      <td>4</td>\n",
              "      <td>3</td>\n",
              "      <td>4</td>\n",
              "      <td>2</td>\n",
              "      <td>2</td>\n",
              "      <td>4</td>\n",
              "      <td>2</td>\n",
              "      <td>4</td>\n",
              "    </tr>\n",
              "    <tr>\n",
              "      <th>2</th>\n",
              "      <td>37</td>\n",
              "      <td>0</td>\n",
              "      <td>4</td>\n",
              "      <td>1</td>\n",
              "      <td>13</td>\n",
              "      <td>1</td>\n",
              "      <td>3</td>\n",
              "      <td>2</td>\n",
              "      <td>0</td>\n",
              "      <td>0</td>\n",
              "      <td>2</td>\n",
              "      <td>2</td>\n",
              "      <td>2</td>\n",
              "      <td>4</td>\n",
              "      <td>4</td>\n",
              "      <td>3</td>\n",
              "      <td>3</td>\n",
              "      <td>3</td>\n",
              "      <td>2</td>\n",
              "      <td>2</td>\n",
              "      <td>2</td>\n",
              "      <td>5</td>\n",
              "      <td>3</td>\n",
              "      <td>2</td>\n",
              "      <td>3</td>\n",
              "      <td>2</td>\n",
              "      <td>2</td>\n",
              "      <td>4</td>\n",
              "      <td>3</td>\n",
              "      <td>4</td>\n",
              "      <td>2</td>\n",
              "      <td>4</td>\n",
              "      <td>1</td>\n",
              "      <td>1</td>\n",
              "      <td>1</td>\n",
              "      <td>1</td>\n",
              "      <td>1</td>\n",
              "      <td>3</td>\n",
              "      <td>3</td>\n",
              "      <td>3</td>\n",
              "      <td>4</td>\n",
              "      <td>3</td>\n",
              "      <td>1</td>\n",
              "      <td>1</td>\n",
              "      <td>5</td>\n",
              "      <td>3</td>\n",
              "      <td>5</td>\n",
              "      <td>5</td>\n",
              "      <td>2</td>\n",
              "      <td>2</td>\n",
              "      <td>2</td>\n",
              "      <td>1</td>\n",
              "      <td>3</td>\n",
              "    </tr>\n",
              "    <tr>\n",
              "      <th>3</th>\n",
              "      <td>40</td>\n",
              "      <td>0</td>\n",
              "      <td>4</td>\n",
              "      <td>0</td>\n",
              "      <td>13</td>\n",
              "      <td>1</td>\n",
              "      <td>3</td>\n",
              "      <td>2</td>\n",
              "      <td>0</td>\n",
              "      <td>0</td>\n",
              "      <td>3</td>\n",
              "      <td>3</td>\n",
              "      <td>4</td>\n",
              "      <td>3</td>\n",
              "      <td>3</td>\n",
              "      <td>3</td>\n",
              "      <td>4</td>\n",
              "      <td>3</td>\n",
              "      <td>3</td>\n",
              "      <td>4</td>\n",
              "      <td>3</td>\n",
              "      <td>3</td>\n",
              "      <td>3</td>\n",
              "      <td>3</td>\n",
              "      <td>4</td>\n",
              "      <td>3</td>\n",
              "      <td>2</td>\n",
              "      <td>2</td>\n",
              "      <td>3</td>\n",
              "      <td>5</td>\n",
              "      <td>5</td>\n",
              "      <td>5</td>\n",
              "      <td>3</td>\n",
              "      <td>3</td>\n",
              "      <td>3</td>\n",
              "      <td>3</td>\n",
              "      <td>3</td>\n",
              "      <td>4</td>\n",
              "      <td>4</td>\n",
              "      <td>4</td>\n",
              "      <td>5</td>\n",
              "      <td>4</td>\n",
              "      <td>3</td>\n",
              "      <td>3</td>\n",
              "      <td>3</td>\n",
              "      <td>4</td>\n",
              "      <td>4</td>\n",
              "      <td>3</td>\n",
              "      <td>4</td>\n",
              "      <td>4</td>\n",
              "      <td>3</td>\n",
              "      <td>3</td>\n",
              "      <td>4</td>\n",
              "    </tr>\n",
              "    <tr>\n",
              "      <th>4</th>\n",
              "      <td>51</td>\n",
              "      <td>0</td>\n",
              "      <td>6</td>\n",
              "      <td>0</td>\n",
              "      <td>8</td>\n",
              "      <td>1</td>\n",
              "      <td>3</td>\n",
              "      <td>2</td>\n",
              "      <td>0</td>\n",
              "      <td>1</td>\n",
              "      <td>4</td>\n",
              "      <td>3</td>\n",
              "      <td>5</td>\n",
              "      <td>5</td>\n",
              "      <td>4</td>\n",
              "      <td>3</td>\n",
              "      <td>4</td>\n",
              "      <td>4</td>\n",
              "      <td>4</td>\n",
              "      <td>5</td>\n",
              "      <td>4</td>\n",
              "      <td>3</td>\n",
              "      <td>4</td>\n",
              "      <td>4</td>\n",
              "      <td>4</td>\n",
              "      <td>4</td>\n",
              "      <td>3</td>\n",
              "      <td>2</td>\n",
              "      <td>3</td>\n",
              "      <td>5</td>\n",
              "      <td>5</td>\n",
              "      <td>5</td>\n",
              "      <td>3</td>\n",
              "      <td>3</td>\n",
              "      <td>5</td>\n",
              "      <td>5</td>\n",
              "      <td>5</td>\n",
              "      <td>5</td>\n",
              "      <td>5</td>\n",
              "      <td>5</td>\n",
              "      <td>3</td>\n",
              "      <td>3</td>\n",
              "      <td>5</td>\n",
              "      <td>5</td>\n",
              "      <td>5</td>\n",
              "      <td>5</td>\n",
              "      <td>4</td>\n",
              "      <td>4</td>\n",
              "      <td>5</td>\n",
              "      <td>5</td>\n",
              "      <td>5</td>\n",
              "      <td>4</td>\n",
              "      <td>4</td>\n",
              "    </tr>\n",
              "  </tbody>\n",
              "</table>\n",
              "</div>"
            ],
            "text/plain": [
              "   AGE  GENDER DOMAIN  PhD  YEARSEXP  UNIVERSITY  ... Inc4 Exp1 Exp2 Exp3 Exp4 Exp5\n",
              "0   40       0      2    1        14           1  ...    5    4    4    4    1    2\n",
              "1   42       0      5    1        18           1  ...    4    2    2    4    2    4\n",
              "2   37       0      4    1        13           1  ...    5    2    2    2    1    3\n",
              "3   40       0      4    0        13           1  ...    3    4    4    3    3    4\n",
              "4   51       0      6    0         8           1  ...    4    5    5    5    4    4\n",
              "\n",
              "[5 rows x 53 columns]"
            ]
          },
          "metadata": {},
          "execution_count": 63
        }
      ]
    },
    {
      "cell_type": "markdown",
      "metadata": {
        "id": "g9WiGngEcuDa"
      },
      "source": [
        "## Cek Kualitas Data\n",
        "Untuk mencari noise dan ouliers"
      ]
    },
    {
      "cell_type": "code",
      "metadata": {
        "id": "TAXhX1hE18RV",
        "colab": {
          "base_uri": "https://localhost:8080/"
        },
        "outputId": "822fb086-8190-4844-a79e-990d4dfbe3d5"
      },
      "source": [
        "#look for null values in dataframe\n",
        "df_wiki.isnull().values.any()"
      ],
      "execution_count": null,
      "outputs": [
        {
          "output_type": "execute_result",
          "data": {
            "text/plain": [
              "False"
            ]
          },
          "metadata": {},
          "execution_count": 64
        }
      ]
    },
    {
      "cell_type": "code",
      "metadata": {
        "id": "v1RmtOIa1__F",
        "colab": {
          "base_uri": "https://localhost:8080/"
        },
        "outputId": "819a803f-cfa3-49e5-b5a4-1b077841b100"
      },
      "source": [
        "#look for duplicate rows based on all coulumns\n",
        "df_wiki[df_wiki.duplicated()].any()"
      ],
      "execution_count": null,
      "outputs": [
        {
          "output_type": "execute_result",
          "data": {
            "text/plain": [
              "AGE               False\n",
              "GENDER            False\n",
              "DOMAIN            False\n",
              "PhD               False\n",
              "YEARSEXP          False\n",
              "UNIVERSITY        False\n",
              "UOC_POSITION      False\n",
              "OTHER_POSITION    False\n",
              "OTHERSTATUS       False\n",
              "USERWIKI          False\n",
              "PU1               False\n",
              "PU2               False\n",
              "PU3               False\n",
              "PEU1              False\n",
              "PEU2              False\n",
              "PEU3              False\n",
              "ENJ1              False\n",
              "ENJ2              False\n",
              "Qu1               False\n",
              "Qu2               False\n",
              "Qu3               False\n",
              "Qu4               False\n",
              "Qu5               False\n",
              "Vis1              False\n",
              "Vis2              False\n",
              "Vis3              False\n",
              "Im1               False\n",
              "Im2               False\n",
              "Im3               False\n",
              "SA1               False\n",
              "SA2               False\n",
              "SA3               False\n",
              "Use1              False\n",
              "Use2              False\n",
              "Use3              False\n",
              "Use4              False\n",
              "Use5              False\n",
              "Pf1               False\n",
              "Pf2               False\n",
              "Pf3               False\n",
              "JR1               False\n",
              "JR2               False\n",
              "BI1               False\n",
              "BI2               False\n",
              "Inc1              False\n",
              "Inc2              False\n",
              "Inc3              False\n",
              "Inc4              False\n",
              "Exp1              False\n",
              "Exp2              False\n",
              "Exp3              False\n",
              "Exp4              False\n",
              "Exp5              False\n",
              "dtype: bool"
            ]
          },
          "metadata": {},
          "execution_count": 65
        }
      ]
    },
    {
      "cell_type": "code",
      "metadata": {
        "id": "Rji8F9hIgnb3"
      },
      "source": [
        "#data lengkap yg ini-> col_numeric = ['AGE','GENDER','DOMAIN','PhD\tYEARSEXP','UNIVERSITY','UOC_POSITION','OTHER_POSITION','OTHERSTATUS','USERWIKI','PU1','PU2','PU3','PEU1','PEU2','PEU3','ENJ1','ENJ2','Qu1','Qu2','Qu3','Qu4','Qu5','Vis1','Vis2','Vis3','Im1','Im2','Im3','SA1','SA2','SA3','Use1','Use2','Use3','Use4','Use5','Pf1','Pf2','Pf3','JR1','JR2','BI1','BI2','Inc1','Inc2','Inc3','Inc4','Exp1','Exp2','Exp3','Exp4','Exp5']\n",
        "col_numeric = ['AGE','YEARSEXP']"
      ],
      "execution_count": null,
      "outputs": []
    },
    {
      "cell_type": "code",
      "metadata": {
        "id": "qPDxHMiictLX",
        "colab": {
          "base_uri": "https://localhost:8080/",
          "height": 549
        },
        "outputId": "c47023ae-f4b4-4d44-c6ad-70e25d2691cd"
      },
      "source": [
        "#Cek data yang outlier(data yang angkanya jauh dari data lainnya)\n",
        "fig = plt.figure(figsize=(20, 50))\n",
        "\n",
        "for i in range(1, len(col_numeric)+1):\n",
        "    ax = fig.add_subplot(9,1,i)\n",
        "    sns.set_style('whitegrid')\n",
        "    sns.boxplot(df_wiki[col_numeric[i-1]], orient='h')\n",
        "    plt.tight_layout()"
      ],
      "execution_count": null,
      "outputs": [
        {
          "output_type": "stream",
          "name": "stderr",
          "text": [
            "/usr/local/lib/python3.7/dist-packages/seaborn/_decorators.py:43: FutureWarning: Pass the following variable as a keyword arg: x. From version 0.12, the only valid positional argument will be `data`, and passing other arguments without an explicit keyword will result in an error or misinterpretation.\n",
            "  FutureWarning\n",
            "/usr/local/lib/python3.7/dist-packages/seaborn/_decorators.py:43: FutureWarning: Pass the following variable as a keyword arg: x. From version 0.12, the only valid positional argument will be `data`, and passing other arguments without an explicit keyword will result in an error or misinterpretation.\n",
            "  FutureWarning\n"
          ]
        },
        {
          "output_type": "display_data",
          "data": {
            "image/png": "[encoded data removed]",
            "text/plain": [
              "<Figure size 1440x3600 with 2 Axes>"
            ]
          },
          "metadata": {
            "needs_background": "light"
          }
        }
      ]
    },
    {
      "cell_type": "code",
      "metadata": {
        "id": "t4K1Bcv2jcU5",
        "colab": {
          "base_uri": "https://localhost:8080/"
        },
        "outputId": "f780a401-6910-446c-c8f0-dc0af5e5ebb6"
      },
      "source": [
        "#Mencari Quartile AGE\n",
        "Q1_age = df_wiki['AGE'].quantile(0.25)\n",
        "Q3_age = df_wiki['AGE'].quantile(0.75)\n",
        "IQR_age = Q3_age - Q1_age\n",
        "\n",
        "#Mencari Quartile YEARSEXP\n",
        "Q1_yearsexp = df_wiki['YEARSEXP'].quantile(0.25)\n",
        "Q3_yearsexp = df_wiki['YEARSEXP'].quantile(0.75)\n",
        "IQR_yearsexp = Q3_yearsexp - Q1_yearsexp\n",
        "\n",
        "print(IQR_age)\n",
        "print(IQR_yearsexp)"
      ],
      "execution_count": null,
      "outputs": [
        {
          "output_type": "stream",
          "name": "stdout",
          "text": [
            "11.0\n",
            "10.0\n"
          ]
        }
      ]
    },
    {
      "cell_type": "code",
      "metadata": {
        "id": "s-FOVNtejhSs"
      },
      "source": [
        "#Mencari Nilai Minimal dan Maksimum AGE\n",
        "upper_limit_age = Q3_age + 1.5 * IQR_age\n",
        "lower_limit_age = Q1_age - 1.5 * IQR_age\n",
        "\n",
        "#Mencari Nilai Minimal dan Maksimum YEARSEXP\n",
        "upper_limit_yearsexp = Q3_yearsexp + 1.5 * IQR_yearsexp\n",
        "lower_limit_yearsexp = Q1_yearsexp - 1.5 * IQR_yearsexp"
      ],
      "execution_count": null,
      "outputs": []
    },
    {
      "cell_type": "markdown",
      "metadata": {
        "id": "-_zQwzSIRaC2"
      },
      "source": [
        "## DATA CLEANING"
      ]
    },
    {
      "cell_type": "code",
      "metadata": {
        "id": "6a5fYx2TjqQu"
      },
      "source": [
        "#Menghilangkan outliers age\n",
        "new_df_wiki = df_wiki.copy()\n",
        "new_df_wiki['AGE'] = np.where(\n",
        "    new_df_wiki['AGE'] > upper_limit_age,\n",
        "    upper_limit_age,\n",
        "    np.where(\n",
        "        new_df_wiki['AGE'] < lower_limit_age,\n",
        "        lower_limit_age,\n",
        "        new_df_wiki['AGE']\n",
        "    )\n",
        ")\n",
        "\n",
        "#Menghilangkan outliers yearsexp\n",
        "new_df_wiki = df_wiki.copy()\n",
        "new_df_wiki['YEARSEXP'] = np.where(\n",
        "    new_df_wiki['YEARSEXP'] > upper_limit_yearsexp,\n",
        "    upper_limit_yearsexp,\n",
        "    np.where(\n",
        "        new_df_wiki['YEARSEXP'] < lower_limit_yearsexp,\n",
        "        lower_limit_yearsexp,\n",
        "        new_df_wiki['YEARSEXP']\n",
        "    )\n",
        ")"
      ],
      "execution_count": null,
      "outputs": []
    },
    {
      "cell_type": "code",
      "metadata": {
        "id": "momvGAoMRe7K"
      },
      "source": [
        "col_numeric2 = ['AGE','YEARSEXP']"
      ],
      "execution_count": null,
      "outputs": []
    },
    {
      "cell_type": "code",
      "metadata": {
        "id": "kUpmiBwvkPkU",
        "colab": {
          "base_uri": "https://localhost:8080/",
          "height": 594
        },
        "outputId": "6cf3a470-9b3d-403c-edf3-9bc9789b6416"
      },
      "source": [
        "#Mengecek fitur yang memiliki nilai outlier\n",
        "fig = plt.figure(figsize=(10, 30))\n",
        "\n",
        "for i in range(1, len(col_numeric2)+1):\n",
        "    ax = fig.add_subplot(9,1,i)\n",
        "    sns.set_style('whitegrid')\n",
        "    sns.boxplot(new_df_wiki[col_numeric2[i-1]], orient='h')\n",
        "    plt.tight_layout()"
      ],
      "execution_count": null,
      "outputs": [
        {
          "output_type": "stream",
          "name": "stderr",
          "text": [
            "/usr/local/lib/python3.7/dist-packages/seaborn/_decorators.py:43: FutureWarning: Pass the following variable as a keyword arg: x. From version 0.12, the only valid positional argument will be `data`, and passing other arguments without an explicit keyword will result in an error or misinterpretation.\n",
            "  FutureWarning\n",
            "/usr/local/lib/python3.7/dist-packages/seaborn/_decorators.py:43: FutureWarning: Pass the following variable as a keyword arg: x. From version 0.12, the only valid positional argument will be `data`, and passing other arguments without an explicit keyword will result in an error or misinterpretation.\n",
            "  FutureWarning\n"
          ]
        },
        {
          "output_type": "display_data",
          "data": {
            "image/png": "[encoded data removed]",
            "text/plain": [
              "<Figure size 720x2160 with 2 Axes>"
            ]
          },
          "metadata": {}
        }
      ]
    },
    {
      "cell_type": "markdown",
      "metadata": {
        "id": "njtB4tUGRllu"
      },
      "source": [
        "# Eksplorasi Data"
      ]
    },
    {
      "cell_type": "markdown",
      "metadata": {
        "id": "PRd7TJjvRm98"
      },
      "source": [
        "## Summary Statistics"
      ]
    },
    {
      "cell_type": "code",
      "metadata": {
        "id": "gz6siD6KkgLF",
        "colab": {
          "base_uri": "https://localhost:8080/"
        },
        "outputId": "8ec665aa-f25e-46bb-819e-2014109e1e08"
      },
      "source": [
        "df_wiki.info()"
      ],
      "execution_count": null,
      "outputs": [
        {
          "output_type": "stream",
          "name": "stdout",
          "text": [
            "<class 'pandas.core.frame.DataFrame'>\n",
            "RangeIndex: 913 entries, 0 to 912\n",
            "Data columns (total 53 columns):\n",
            " #   Column          Non-Null Count  Dtype \n",
            "---  ------          --------------  ----- \n",
            " 0   AGE             913 non-null    int64 \n",
            " 1   GENDER          913 non-null    int64 \n",
            " 2   DOMAIN          913 non-null    object\n",
            " 3   PhD             913 non-null    int64 \n",
            " 4   YEARSEXP        913 non-null    int64 \n",
            " 5   UNIVERSITY      913 non-null    int64 \n",
            " 6   UOC_POSITION    913 non-null    object\n",
            " 7   OTHER_POSITION  913 non-null    object\n",
            " 8   OTHERSTATUS     913 non-null    object\n",
            " 9   USERWIKI        913 non-null    object\n",
            " 10  PU1             913 non-null    object\n",
            " 11  PU2             913 non-null    object\n",
            " 12  PU3             913 non-null    object\n",
            " 13  PEU1            913 non-null    object\n",
            " 14  PEU2            913 non-null    object\n",
            " 15  PEU3            913 non-null    object\n",
            " 16  ENJ1            913 non-null    object\n",
            " 17  ENJ2            913 non-null    object\n",
            " 18  Qu1             913 non-null    object\n",
            " 19  Qu2             913 non-null    object\n",
            " 20  Qu3             913 non-null    object\n",
            " 21  Qu4             913 non-null    object\n",
            " 22  Qu5             913 non-null    object\n",
            " 23  Vis1            913 non-null    object\n",
            " 24  Vis2            913 non-null    object\n",
            " 25  Vis3            913 non-null    object\n",
            " 26  Im1             913 non-null    object\n",
            " 27  Im2             913 non-null    object\n",
            " 28  Im3             913 non-null    object\n",
            " 29  SA1             913 non-null    object\n",
            " 30  SA2             913 non-null    object\n",
            " 31  SA3             913 non-null    object\n",
            " 32  Use1            913 non-null    object\n",
            " 33  Use2            913 non-null    object\n",
            " 34  Use3            913 non-null    object\n",
            " 35  Use4            913 non-null    object\n",
            " 36  Use5            913 non-null    object\n",
            " 37  Pf1             913 non-null    object\n",
            " 38  Pf2             913 non-null    object\n",
            " 39  Pf3             913 non-null    object\n",
            " 40  JR1             913 non-null    object\n",
            " 41  JR2             913 non-null    object\n",
            " 42  BI1             913 non-null    object\n",
            " 43  BI2             913 non-null    object\n",
            " 44  Inc1            913 non-null    object\n",
            " 45  Inc2            913 non-null    object\n",
            " 46  Inc3            913 non-null    object\n",
            " 47  Inc4            913 non-null    object\n",
            " 48  Exp1            913 non-null    object\n",
            " 49  Exp2            913 non-null    object\n",
            " 50  Exp3            913 non-null    object\n",
            " 51  Exp4            913 non-null    object\n",
            " 52  Exp5            913 non-null    object\n",
            "dtypes: int64(5), object(48)\n",
            "memory usage: 378.2+ KB\n"
          ]
        }
      ]
    },
    {
      "cell_type": "code",
      "metadata": {
        "id": "detUrNAJ3bAw"
      },
      "source": [
        "df_num = df_wiki[['AGE','GENDER','DOMAIN','PhD','YEARSEXP','UNIVERSITY','UOC_POSITION','OTHER_POSITION','OTHERSTATUS','USERWIKI','PU1','PU2','PU3','PEU1','PEU2','PEU3','ENJ1','ENJ2','Qu1','Qu2','Qu3','Qu4','Qu5','Vis1','Vis2','Vis3','Im1','Im2','Im3','SA1','SA2','SA3','Use1','Use2','Use3','Use4','Use5','Pf1','Pf2','Pf3','JR1','JR2','BI1','BI2','Inc1','Inc2','Inc3','Inc4','Exp1','Exp2','Exp3','Exp4','Exp5']]"
      ],
      "execution_count": null,
      "outputs": []
    },
    {
      "cell_type": "code",
      "metadata": {
        "id": "UgjUUWnv2JD7",
        "colab": {
          "base_uri": "https://localhost:8080/",
          "height": 300
        },
        "outputId": "65563c8d-a8c5-4ea2-ee9b-cd30c0660b21"
      },
      "source": [
        "df_wiki.describe()"
      ],
      "execution_count": null,
      "outputs": [
        {
          "output_type": "execute_result",
          "data": {
            "text/html": [
              "<div>\n",
              "<style scoped>\n",
              "    .dataframe tbody tr th:only-of-type {\n",
              "        vertical-align: middle;\n",
              "    }\n",
              "\n",
              "    .dataframe tbody tr th {\n",
              "        vertical-align: top;\n",
              "    }\n",
              "\n",
              "    .dataframe thead th {\n",
              "        text-align: right;\n",
              "    }\n",
              "</style>\n",
              "<table border=\"1\" class=\"dataframe\">\n",
              "  <thead>\n",
              "    <tr style=\"text-align: right;\">\n",
              "      <th></th>\n",
              "      <th>AGE</th>\n",
              "      <th>GENDER</th>\n",
              "      <th>PhD</th>\n",
              "      <th>YEARSEXP</th>\n",
              "      <th>UNIVERSITY</th>\n",
              "    </tr>\n",
              "  </thead>\n",
              "  <tbody>\n",
              "    <tr>\n",
              "      <th>count</th>\n",
              "      <td>913.000000</td>\n",
              "      <td>913.000000</td>\n",
              "      <td>913.000000</td>\n",
              "      <td>913.000000</td>\n",
              "      <td>913.000000</td>\n",
              "    </tr>\n",
              "    <tr>\n",
              "      <th>mean</th>\n",
              "      <td>42.246440</td>\n",
              "      <td>0.424973</td>\n",
              "      <td>0.464403</td>\n",
              "      <td>10.852136</td>\n",
              "      <td>1.123768</td>\n",
              "    </tr>\n",
              "    <tr>\n",
              "      <th>std</th>\n",
              "      <td>8.058418</td>\n",
              "      <td>0.494610</td>\n",
              "      <td>0.499005</td>\n",
              "      <td>7.357941</td>\n",
              "      <td>0.329497</td>\n",
              "    </tr>\n",
              "    <tr>\n",
              "      <th>min</th>\n",
              "      <td>23.000000</td>\n",
              "      <td>0.000000</td>\n",
              "      <td>0.000000</td>\n",
              "      <td>0.000000</td>\n",
              "      <td>1.000000</td>\n",
              "    </tr>\n",
              "    <tr>\n",
              "      <th>25%</th>\n",
              "      <td>36.000000</td>\n",
              "      <td>0.000000</td>\n",
              "      <td>0.000000</td>\n",
              "      <td>5.000000</td>\n",
              "      <td>1.000000</td>\n",
              "    </tr>\n",
              "    <tr>\n",
              "      <th>50%</th>\n",
              "      <td>42.000000</td>\n",
              "      <td>0.000000</td>\n",
              "      <td>0.000000</td>\n",
              "      <td>10.000000</td>\n",
              "      <td>1.000000</td>\n",
              "    </tr>\n",
              "    <tr>\n",
              "      <th>75%</th>\n",
              "      <td>47.000000</td>\n",
              "      <td>1.000000</td>\n",
              "      <td>1.000000</td>\n",
              "      <td>15.000000</td>\n",
              "      <td>1.000000</td>\n",
              "    </tr>\n",
              "    <tr>\n",
              "      <th>max</th>\n",
              "      <td>69.000000</td>\n",
              "      <td>1.000000</td>\n",
              "      <td>1.000000</td>\n",
              "      <td>43.000000</td>\n",
              "      <td>2.000000</td>\n",
              "    </tr>\n",
              "  </tbody>\n",
              "</table>\n",
              "</div>"
            ],
            "text/plain": [
              "              AGE      GENDER         PhD    YEARSEXP  UNIVERSITY\n",
              "count  913.000000  913.000000  913.000000  913.000000  913.000000\n",
              "mean    42.246440    0.424973    0.464403   10.852136    1.123768\n",
              "std      8.058418    0.494610    0.499005    7.357941    0.329497\n",
              "min     23.000000    0.000000    0.000000    0.000000    1.000000\n",
              "25%     36.000000    0.000000    0.000000    5.000000    1.000000\n",
              "50%     42.000000    0.000000    0.000000   10.000000    1.000000\n",
              "75%     47.000000    1.000000    1.000000   15.000000    1.000000\n",
              "max     69.000000    1.000000    1.000000   43.000000    2.000000"
            ]
          },
          "metadata": {},
          "execution_count": 75
        }
      ]
    },
    {
      "cell_type": "markdown",
      "metadata": {
        "id": "3U3Ea7zakwt5"
      },
      "source": [
        "## Standard Deviansi"
      ]
    },
    {
      "cell_type": "markdown",
      "metadata": {
        "id": "1SzVu30X45vR"
      },
      "source": [
        "\n",
        "\n",
        "---\n",
        "\n",
        "\n",
        "numpy.std(arr, axis = None) : Compute the standard deviation of the given data (array elements) along the specified axis(if any)..\n",
        "\n",
        "Standard Deviation (SD) is measured as the spread of data distribution in the given data set.\n",
        "\n",
        "\n",
        "---\n",
        "\n"
      ]
    },
    {
      "cell_type": "markdown",
      "metadata": {
        "id": "nCSMjgJX49hs"
      },
      "source": [
        "![image.png](data:image/png;base64,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)"
      ]
    },
    {
      "cell_type": "code",
      "metadata": {
        "id": "s0fckyx1kGNN",
        "colab": {
          "base_uri": "https://localhost:8080/"
        },
        "outputId": "02673e6e-16d6-48a6-f884-d18e77fed0b7"
      },
      "source": [
        "df_num.std()"
      ],
      "execution_count": null,
      "outputs": [
        {
          "output_type": "execute_result",
          "data": {
            "text/plain": [
              "AGE           8.058418\n",
              "GENDER        0.494610\n",
              "PhD           0.499005\n",
              "YEARSEXP      7.357941\n",
              "UNIVERSITY    0.329497\n",
              "dtype: float64"
            ]
          },
          "metadata": {},
          "execution_count": 76
        }
      ]
    },
    {
      "cell_type": "markdown",
      "metadata": {
        "id": "Oxn5mp7q3nrr"
      },
      "source": [
        "# EDA"
      ]
    },
    {
      "cell_type": "markdown",
      "metadata": {
        "id": "71-vZk9SkPyD"
      },
      "source": [
        "## Univariate Analysis"
      ]
    },
    {
      "cell_type": "code",
      "metadata": {
        "id": "o020ORkYkRDo",
        "colab": {
          "base_uri": "https://localhost:8080/"
        },
        "outputId": "9284f0a6-b46f-439d-db8c-085e6e4aab59"
      },
      "source": [
        "fig = plt.figure(figsize=(6,4))\n",
        "df_wiki['AGE'].value_counts().sort_index().plot.line()"
      ],
      "execution_count": null,
      "outputs": [
        {
          "output_type": "execute_result",
          "data": {
            "text/plain": [
              "<matplotlib.axes._subplots.AxesSubplot at 0x7f532cda4c50>"
            ]
          },
          "metadata": {},
          "execution_count": 77
        },
        {
          "output_type": "display_data",
          "data": {
            "image/png": "[encoded data removed]",
            "text/plain": [
              "<Figure size 432x288 with 1 Axes>"
            ]
          },
          "metadata": {}
        }
      ]
    },
    {
      "cell_type": "code",
      "metadata": {
        "id": "oDLypx467bUH",
        "colab": {
          "base_uri": "https://localhost:8080/"
        },
        "outputId": "34e295fe-0bdf-47bd-fe34-82253d6f49de"
      },
      "source": [
        "fig = plt.figure(figsize=(6,4))\n",
        "df_wiki['PhD'].value_counts().plot.bar()"
      ],
      "execution_count": null,
      "outputs": [
        {
          "output_type": "execute_result",
          "data": {
            "text/plain": [
              "<matplotlib.axes._subplots.AxesSubplot at 0x7f532cdbcb10>"
            ]
          },
          "metadata": {},
          "execution_count": 78
        },
        {
          "output_type": "display_data",
          "data": {
            "image/png": "[encoded data removed]",
            "text/plain": [
              "<Figure size 432x288 with 1 Axes>"
            ]
          },
          "metadata": {}
        }
      ]
    },
    {
      "cell_type": "markdown",
      "metadata": {
        "id": "31XUn-y17pPz"
      },
      "source": [
        "## Bivariate Analysis"
      ]
    },
    {
      "cell_type": "code",
      "metadata": {
        "id": "Hu7gt1uu7sD2"
      },
      "source": [
        "biv = df_wiki.head(50)[['AGE','YEARSEXP']]"
      ],
      "execution_count": null,
      "outputs": []
    },
    {
      "cell_type": "code",
      "metadata": {
        "id": "qQyEwSKulLrn",
        "colab": {
          "base_uri": "https://localhost:8080/",
          "height": 282
        },
        "outputId": "af4ea545-7cd4-48fd-89c9-6a52d8fee915"
      },
      "source": [
        "biv.plot.line()"
      ],
      "execution_count": null,
      "outputs": [
        {
          "output_type": "execute_result",
          "data": {
            "text/plain": [
              "<matplotlib.axes._subplots.AxesSubplot at 0x7f5324490490>"
            ]
          },
          "metadata": {},
          "execution_count": 80
        },
        {
          "output_type": "display_data",
          "data": {
            "image/png": "[encoded data removed]",
            "text/plain": [
              "<Figure size 432x288 with 1 Axes>"
            ]
          },
          "metadata": {}
        }
      ]
    },
    {
      "cell_type": "markdown",
      "metadata": {
        "id": "Bz1YY6Oy8KYV"
      },
      "source": [
        "## Multivariate Analysis"
      ]
    },
    {
      "cell_type": "code",
      "metadata": {
        "id": "D_b6RqMLtauJ",
        "colab": {
          "base_uri": "https://localhost:8080/",
          "height": 504
        },
        "outputId": "0cf0b420-5c7a-47a9-e652-b1f7e84cc4b4"
      },
      "source": [
        "fig = plt.figure(figsize=(12,8))\n",
        "f = df_wiki.corr()\n",
        "sns.heatmap(f, annot=True)"
      ],
      "execution_count": null,
      "outputs": [
        {
          "output_type": "execute_result",
          "data": {
            "text/plain": [
              "<matplotlib.axes._subplots.AxesSubplot at 0x7f5324429d10>"
            ]
          },
          "metadata": {},
          "execution_count": 81
        },
        {
          "output_type": "display_data",
          "data": {
            "image/png": "[encoded data removed]",
            "text/plain": [
              "<Figure size 864x576 with 2 Axes>"
            ]
          },
          "metadata": {}
        }
      ]
    },
    {
      "cell_type": "markdown",
      "metadata": {
        "id": "dscKqYypB7lm"
      },
      "source": [
        "\n",
        "\n",
        "---\n",
        "\n",
        "\n",
        "Each cell in this plot is the intersection of two variables; its color and label together indicate the amount of correlation between the two variables (how likely both variables are the increase or decrease at the same time). For example, in this dataset Agility and Acceleration are highly correlated, while Aggression and Balanced are very uncorrelated.\n",
        "\n",
        "A correlation plot is a specific kind of heatmap. A heatmap maps one particular fact (in this case, correlation) about every pair of variables you chose from a dataset.\n",
        "\n",
        "\n",
        "---\n",
        "\n"
      ]
    },
    {
      "cell_type": "markdown",
      "metadata": {
        "id": "v0yeHSnsm9XO"
      },
      "source": [
        "# NORMALISASI"
      ]
    },
    {
      "cell_type": "markdown",
      "metadata": {
        "id": "1_n7MWC9gXgz"
      },
      "source": [
        "Tidak dilakukan normalisasi karena angka dalam dataset tidak terlalu bervariasi"
      ]
    },
    {
      "cell_type": "code",
      "metadata": {
        "id": "_91-hz8Xbbzn",
        "colab": {
          "base_uri": "https://localhost:8080/"
        },
        "outputId": "1ea62d14-47e7-4ebf-b73b-39a4713ead63"
      },
      "source": [
        "#Mengecek apakah masih ada missing value berupa ?,NaN,-,dsb yang pada tiap kolom\n",
        "print(\"AGE: \",(df_wiki['AGE'].unique()))\n",
        "print(\"GENDER: \",(df_wiki['GENDER'].unique()))\n",
        "print(\"PhD: \",(df_wiki['PhD'].unique()))\n",
        "print(\"YEARSEXP: \",(df_wiki['YEARSEXP'].unique()))\n",
        "print(\"UNIVERSITY: \",(df_wiki['UNIVERSITY'].unique()))\n",
        "print(\"UOC_POSITION: \",(df_wiki['UOC_POSITION'].unique()))\n",
        "print(\"OTHER_POSITION: \",(df_wiki['OTHER_POSITION'].unique()))\n",
        "print(\"OTHERSTATUS: \",(df_wiki['OTHERSTATUS'].unique()))\n",
        "print(\"USERWIKI: \",(df_wiki['USERWIKI'].unique()))\n",
        "print(\"PU1: \",(df_wiki['PU1'].unique()))\n",
        "print(\"PU2: \",(df_wiki['PU2'].unique()))\n",
        "print(\"PU3: \",(df_wiki['PU3'].unique()))\n",
        "print(\"PEU1: \",(df_wiki['PEU1'].unique()))\n",
        "print(\"PEU2: \",(df_wiki['PEU2'].unique()))\n",
        "print(\"PEU3: \",(df_wiki['PEU3'].unique()))\n",
        "print(\"ENJ1: \",(df_wiki['ENJ1'].unique()))\n",
        "print(\"ENJ2: \",(df_wiki['ENJ2'].unique()))\n",
        "print(\"Qu1: \",(df_wiki['Qu1'].unique()))\n",
        "print(\"Qu2: \",(df_wiki['Qu2'].unique()))\n",
        "print(\"Qu3: \",(df_wiki['Qu3'].unique()))\n",
        "print(\"Qu4: \",(df_wiki['Qu4'].unique()))\n",
        "print(\"Qu5: \",(df_wiki['Qu5'].unique()))\n",
        "print(\"Vis1: \",(df_wiki['Vis1'].unique()))\n",
        "print(\"Vis2: \",(df_wiki['Vis2'].unique()))\n",
        "print(\"Vis3: \",(df_wiki['Vis3'].unique()))\n",
        "print(\"Im1: \",(df_wiki['Im1'].unique()))\n",
        "print(\"Im2: \",(df_wiki['Im2'].unique()))\n",
        "print(\"Im3: \",(df_wiki['Im3'].unique()))\n",
        "print(\"SA1: \",(df_wiki['SA1'].unique()))\n",
        "print(\"SA2: \",(df_wiki['SA2'].unique()))\n",
        "print(\"SA3: \",(df_wiki['SA3'].unique()))\n",
        "print(\"Use1: \",(df_wiki['Use1'].unique()))\n",
        "print(\"Use2: \",(df_wiki['Use2'].unique()))\n",
        "print(\"Use3: \",(df_wiki['Use3'].unique()))\n",
        "print(\"Use4: \",(df_wiki['Use4'].unique()))\n",
        "print(\"Use5: \",(df_wiki['Use5'].unique()))\n",
        "print(\"Pf1: \",(df_wiki['Pf1'].unique()))\n",
        "print(\"Pf2: \",(df_wiki['Pf2'].unique()))\n",
        "print(\"Pf3: \",(df_wiki['Pf3'].unique()))\n",
        "print(\"JR1: \",(df_wiki['JR1'].unique()))\n",
        "print(\"JR2: \",(df_wiki['JR2'].unique()))\n",
        "print(\"BT1: \",(df_wiki['BI1'].unique()))\n",
        "print(\"BT2: \",(df_wiki['BI2'].unique()))\n",
        "print(\"Inc1: \",(df_wiki['Inc1'].unique()))\n",
        "print(\"Inc2: \",(df_wiki['Inc2'].unique()))\n",
        "print(\"Inc3: \",(df_wiki['Inc3'].unique()))\n",
        "print(\"Inc4: \",(df_wiki['Inc4'].unique()))\n",
        "print(\"Exp1: \",(df_wiki['Exp1'].unique()))\n",
        "print(\"Exp2: \",(df_wiki['Exp2'].unique()))\n",
        "print(\"Exp3: \",(df_wiki['Exp3'].unique()))\n",
        "print(\"Exp4: \",(df_wiki['Exp4'].unique()))\n",
        "print(\"Exp5: \",(df_wiki['Exp5'].unique()))"
      ],
      "execution_count": null,
      "outputs": [
        {
          "output_type": "stream",
          "name": "stdout",
          "text": [
            "AGE:  [40 42 37 51 47 43 55 54 50 48 38 56 44 39 33 36 45 35 41 49 46 34 59 32\n",
            " 52 31 62 53 29 30 57 58 63 68 69 24 28 60 26 64 67 65 27 23 25 61]\n",
            "GENDER:  [0 1]\n",
            "PhD:  [1 0]\n",
            "YEARSEXP:  [14 18 13  8 17 11 12 25 15 20  5 10  9  6  7 36 19  4  2 23 16  3 22 24\n",
            " 21  1 35 27 26 30 28  0 37 43 31 39]\n",
            "UNIVERSITY:  [1 2]\n",
            "UOC_POSITION:  ['2' '3' '4' '5' '1' '6']\n",
            "OTHER_POSITION:  ['2' '1']\n",
            "OTHERSTATUS:  ['0' '7' '3' '2' '6' '4' '1' '5']\n",
            "USERWIKI:  ['0' '1']\n",
            "PU1:  ['4' '2' '3' '5' '1']\n",
            "PU2:  ['4' '3' '2' '5' '1']\n",
            "PU3:  ['3' '2' '4' '5' '1']\n",
            "PEU1:  ['5' '4' '3' '2' '1']\n",
            "PEU2:  ['5' '4' '3' '1' '2']\n",
            "PEU3:  ['3' '5' '4' '2' '1']\n",
            "ENJ1:  ['4' '3' '5' '2' '1']\n",
            "ENJ2:  ['4' '3' '5' '2' '1']\n",
            "Qu1:  ['3' '4' '2' '5' '1']\n",
            "Qu2:  ['3' '4' '2' '5' '1']\n",
            "Qu3:  ['2' '3' '4' '5' '1']\n",
            "Qu4:  ['2' '3' '5' '4' '1']\n",
            "Qu5:  ['3' '2' '4' '5' '1']\n",
            "Vis1:  ['3' '2' '4' '5' '1']\n",
            "Vis2:  ['3' '4' '2' '5' '1']\n",
            "Vis3:  ['1' '2' '3' '4' '5']\n",
            "Im1:  ['2' '1' '3' '4' '5']\n",
            "Im2:  ['4' '2' '5' '3' '1']\n",
            "Im3:  ['2' '1' '3' '4' '5']\n",
            "SA1:  ['4' '5' '2' '1' '3']\n",
            "SA2:  ['4' '2' '5' '1' '3']\n",
            "SA3:  ['4' '5' '3' '1' '2']\n",
            "Use1:  ['3' '2' '1' '4' '5']\n",
            "Use2:  ['1' '2' '3' '4' '5']\n",
            "Use3:  ['1' '3' '5' '4' '2']\n",
            "Use4:  ['2' '1' '3' '5' '4']\n",
            "Use5:  ['4' '2' '1' '3' '5']\n",
            "Pf1:  ['1' '3' '4' '5' '2']\n",
            "Pf2:  ['1' '3' '4' '5' '2']\n",
            "Pf3:  ['3' '1' '4' '5' '2']\n",
            "JR1:  ['4' '5' '3' '1' '2']\n",
            "JR2:  ['1' '3' '4' '2' '5']\n",
            "BT1:  ['2' '1' '3' '5' '4']\n",
            "BT2:  ['3' '2' '1' '5' '4']\n",
            "Inc1:  ['5' '4' '3' '1' '2']\n",
            "Inc2:  ['5' '4' '3' '2' '1']\n",
            "Inc3:  ['5' '3' '4' '2' '1']\n",
            "Inc4:  ['5' '4' '3' '1' '2']\n",
            "Exp1:  ['4' '2' '5' '1' '3']\n",
            "Exp2:  ['4' '2' '5' '3' '1']\n",
            "Exp3:  ['4' '2' '3' '5' '1']\n",
            "Exp4:  ['1' '2' '3' '4' '5']\n",
            "Exp5:  ['2' '4' '3' '1' '5']\n"
          ]
        }
      ]
    },
    {
      "cell_type": "code",
      "metadata": {
        "id": "d3WrTnTniGwx",
        "colab": {
          "base_uri": "https://localhost:8080/",
          "height": 444
        },
        "outputId": "2f24c65f-e7f7-4394-e729-a6e2326c4cd4"
      },
      "source": [
        "df_wiki"
      ],
      "execution_count": null,
      "outputs": [
        {
          "output_type": "execute_result",
          "data": {
            "text/html": [
              "<div>\n",
              "<style scoped>\n",
              "    .dataframe tbody tr th:only-of-type {\n",
              "        vertical-align: middle;\n",
              "    }\n",
              "\n",
              "    .dataframe tbody tr th {\n",
              "        vertical-align: top;\n",
              "    }\n",
              "\n",
              "    .dataframe thead th {\n",
              "        text-align: right;\n",
              "    }\n",
              "</style>\n",
              "<table border=\"1\" class=\"dataframe\">\n",
              "  <thead>\n",
              "    <tr style=\"text-align: right;\">\n",
              "      <th></th>\n",
              "      <th>AGE</th>\n",
              "      <th>GENDER</th>\n",
              "      <th>DOMAIN</th>\n",
              "      <th>PhD</th>\n",
              "      <th>YEARSEXP</th>\n",
              "      <th>UNIVERSITY</th>\n",
              "      <th>UOC_POSITION</th>\n",
              "      <th>OTHER_POSITION</th>\n",
              "      <th>OTHERSTATUS</th>\n",
              "      <th>USERWIKI</th>\n",
              "      <th>PU1</th>\n",
              "      <th>PU2</th>\n",
              "      <th>PU3</th>\n",
              "      <th>PEU1</th>\n",
              "      <th>PEU2</th>\n",
              "      <th>PEU3</th>\n",
              "      <th>ENJ1</th>\n",
              "      <th>ENJ2</th>\n",
              "      <th>Qu1</th>\n",
              "      <th>Qu2</th>\n",
              "      <th>Qu3</th>\n",
              "      <th>Qu4</th>\n",
              "      <th>Qu5</th>\n",
              "      <th>Vis1</th>\n",
              "      <th>Vis2</th>\n",
              "      <th>Vis3</th>\n",
              "      <th>Im1</th>\n",
              "      <th>Im2</th>\n",
              "      <th>Im3</th>\n",
              "      <th>SA1</th>\n",
              "      <th>SA2</th>\n",
              "      <th>SA3</th>\n",
              "      <th>Use1</th>\n",
              "      <th>Use2</th>\n",
              "      <th>Use3</th>\n",
              "      <th>Use4</th>\n",
              "      <th>Use5</th>\n",
              "      <th>Pf1</th>\n",
              "      <th>Pf2</th>\n",
              "      <th>Pf3</th>\n",
              "      <th>JR1</th>\n",
              "      <th>JR2</th>\n",
              "      <th>BI1</th>\n",
              "      <th>BI2</th>\n",
              "      <th>Inc1</th>\n",
              "      <th>Inc2</th>\n",
              "      <th>Inc3</th>\n",
              "      <th>Inc4</th>\n",
              "      <th>Exp1</th>\n",
              "      <th>Exp2</th>\n",
              "      <th>Exp3</th>\n",
              "      <th>Exp4</th>\n",
              "      <th>Exp5</th>\n",
              "    </tr>\n",
              "  </thead>\n",
              "  <tbody>\n",
              "    <tr>\n",
              "      <th>0</th>\n",
              "      <td>40</td>\n",
              "      <td>0</td>\n",
              "      <td>2</td>\n",
              "      <td>1</td>\n",
              "      <td>14</td>\n",
              "      <td>1</td>\n",
              "      <td>2</td>\n",
              "      <td>2</td>\n",
              "      <td>0</td>\n",
              "      <td>0</td>\n",
              "      <td>4</td>\n",
              "      <td>4</td>\n",
              "      <td>3</td>\n",
              "      <td>5</td>\n",
              "      <td>5</td>\n",
              "      <td>3</td>\n",
              "      <td>4</td>\n",
              "      <td>4</td>\n",
              "      <td>3</td>\n",
              "      <td>3</td>\n",
              "      <td>2</td>\n",
              "      <td>2</td>\n",
              "      <td>3</td>\n",
              "      <td>3</td>\n",
              "      <td>3</td>\n",
              "      <td>1</td>\n",
              "      <td>2</td>\n",
              "      <td>4</td>\n",
              "      <td>2</td>\n",
              "      <td>4</td>\n",
              "      <td>4</td>\n",
              "      <td>4</td>\n",
              "      <td>3</td>\n",
              "      <td>1</td>\n",
              "      <td>1</td>\n",
              "      <td>2</td>\n",
              "      <td>4</td>\n",
              "      <td>1</td>\n",
              "      <td>1</td>\n",
              "      <td>3</td>\n",
              "      <td>4</td>\n",
              "      <td>1</td>\n",
              "      <td>2</td>\n",
              "      <td>3</td>\n",
              "      <td>5</td>\n",
              "      <td>5</td>\n",
              "      <td>5</td>\n",
              "      <td>5</td>\n",
              "      <td>4</td>\n",
              "      <td>4</td>\n",
              "      <td>4</td>\n",
              "      <td>1</td>\n",
              "      <td>2</td>\n",
              "    </tr>\n",
              "    <tr>\n",
              "      <th>1</th>\n",
              "      <td>42</td>\n",
              "      <td>0</td>\n",
              "      <td>5</td>\n",
              "      <td>1</td>\n",
              "      <td>18</td>\n",
              "      <td>1</td>\n",
              "      <td>2</td>\n",
              "      <td>2</td>\n",
              "      <td>0</td>\n",
              "      <td>0</td>\n",
              "      <td>2</td>\n",
              "      <td>3</td>\n",
              "      <td>3</td>\n",
              "      <td>4</td>\n",
              "      <td>4</td>\n",
              "      <td>3</td>\n",
              "      <td>3</td>\n",
              "      <td>4</td>\n",
              "      <td>4</td>\n",
              "      <td>4</td>\n",
              "      <td>3</td>\n",
              "      <td>3</td>\n",
              "      <td>2</td>\n",
              "      <td>3</td>\n",
              "      <td>3</td>\n",
              "      <td>1</td>\n",
              "      <td>1</td>\n",
              "      <td>2</td>\n",
              "      <td>1</td>\n",
              "      <td>4</td>\n",
              "      <td>4</td>\n",
              "      <td>4</td>\n",
              "      <td>2</td>\n",
              "      <td>2</td>\n",
              "      <td>1</td>\n",
              "      <td>1</td>\n",
              "      <td>2</td>\n",
              "      <td>1</td>\n",
              "      <td>1</td>\n",
              "      <td>1</td>\n",
              "      <td>4</td>\n",
              "      <td>3</td>\n",
              "      <td>2</td>\n",
              "      <td>2</td>\n",
              "      <td>4</td>\n",
              "      <td>4</td>\n",
              "      <td>3</td>\n",
              "      <td>4</td>\n",
              "      <td>2</td>\n",
              "      <td>2</td>\n",
              "      <td>4</td>\n",
              "      <td>2</td>\n",
              "      <td>4</td>\n",
              "    </tr>\n",
              "    <tr>\n",
              "      <th>2</th>\n",
              "      <td>37</td>\n",
              "      <td>0</td>\n",
              "      <td>4</td>\n",
              "      <td>1</td>\n",
              "      <td>13</td>\n",
              "      <td>1</td>\n",
              "      <td>3</td>\n",
              "      <td>2</td>\n",
              "      <td>0</td>\n",
              "      <td>0</td>\n",
              "      <td>2</td>\n",
              "      <td>2</td>\n",
              "      <td>2</td>\n",
              "      <td>4</td>\n",
              "      <td>4</td>\n",
              "      <td>3</td>\n",
              "      <td>3</td>\n",
              "      <td>3</td>\n",
              "      <td>2</td>\n",
              "      <td>2</td>\n",
              "      <td>2</td>\n",
              "      <td>5</td>\n",
              "      <td>3</td>\n",
              "      <td>2</td>\n",
              "      <td>3</td>\n",
              "      <td>2</td>\n",
              "      <td>2</td>\n",
              "      <td>4</td>\n",
              "      <td>3</td>\n",
              "      <td>4</td>\n",
              "      <td>2</td>\n",
              "      <td>4</td>\n",
              "      <td>1</td>\n",
              "      <td>1</td>\n",
              "      <td>1</td>\n",
              "      <td>1</td>\n",
              "      <td>1</td>\n",
              "      <td>3</td>\n",
              "      <td>3</td>\n",
              "      <td>3</td>\n",
              "      <td>4</td>\n",
              "      <td>3</td>\n",
              "      <td>1</td>\n",
              "      <td>1</td>\n",
              "      <td>5</td>\n",
              "      <td>3</td>\n",
              "      <td>5</td>\n",
              "      <td>5</td>\n",
              "      <td>2</td>\n",
              "      <td>2</td>\n",
              "      <td>2</td>\n",
              "      <td>1</td>\n",
              "      <td>3</td>\n",
              "    </tr>\n",
              "    <tr>\n",
              "      <th>3</th>\n",
              "      <td>40</td>\n",
              "      <td>0</td>\n",
              "      <td>4</td>\n",
              "      <td>0</td>\n",
              "      <td>13</td>\n",
              "      <td>1</td>\n",
              "      <td>3</td>\n",
              "      <td>2</td>\n",
              "      <td>0</td>\n",
              "      <td>0</td>\n",
              "      <td>3</td>\n",
              "      <td>3</td>\n",
              "      <td>4</td>\n",
              "      <td>3</td>\n",
              "      <td>3</td>\n",
              "      <td>3</td>\n",
              "      <td>4</td>\n",
              "      <td>3</td>\n",
              "      <td>3</td>\n",
              "      <td>4</td>\n",
              "      <td>3</td>\n",
              "      <td>3</td>\n",
              "      <td>3</td>\n",
              "      <td>3</td>\n",
              "      <td>4</td>\n",
              "      <td>3</td>\n",
              "      <td>2</td>\n",
              "      <td>2</td>\n",
              "      <td>3</td>\n",
              "      <td>5</td>\n",
              "      <td>5</td>\n",
              "      <td>5</td>\n",
              "      <td>3</td>\n",
              "      <td>3</td>\n",
              "      <td>3</td>\n",
              "      <td>3</td>\n",
              "      <td>3</td>\n",
              "      <td>4</td>\n",
              "      <td>4</td>\n",
              "      <td>4</td>\n",
              "      <td>5</td>\n",
              "      <td>4</td>\n",
              "      <td>3</td>\n",
              "      <td>3</td>\n",
              "      <td>3</td>\n",
              "      <td>4</td>\n",
              "      <td>4</td>\n",
              "      <td>3</td>\n",
              "      <td>4</td>\n",
              "      <td>4</td>\n",
              "      <td>3</td>\n",
              "      <td>3</td>\n",
              "      <td>4</td>\n",
              "    </tr>\n",
              "    <tr>\n",
              "      <th>4</th>\n",
              "      <td>51</td>\n",
              "      <td>0</td>\n",
              "      <td>6</td>\n",
              "      <td>0</td>\n",
              "      <td>8</td>\n",
              "      <td>1</td>\n",
              "      <td>3</td>\n",
              "      <td>2</td>\n",
              "      <td>0</td>\n",
              "      <td>1</td>\n",
              "      <td>4</td>\n",
              "      <td>3</td>\n",
              "      <td>5</td>\n",
              "      <td>5</td>\n",
              "      <td>4</td>\n",
              "      <td>3</td>\n",
              "      <td>4</td>\n",
              "      <td>4</td>\n",
              "      <td>4</td>\n",
              "      <td>5</td>\n",
              "      <td>4</td>\n",
              "      <td>3</td>\n",
              "      <td>4</td>\n",
              "      <td>4</td>\n",
              "      <td>4</td>\n",
              "      <td>4</td>\n",
              "      <td>3</td>\n",
              "      <td>2</td>\n",
              "      <td>3</td>\n",
              "      <td>5</td>\n",
              "      <td>5</td>\n",
              "      <td>5</td>\n",
              "      <td>3</td>\n",
              "      <td>3</td>\n",
              "      <td>5</td>\n",
              "      <td>5</td>\n",
              "      <td>5</td>\n",
              "      <td>5</td>\n",
              "      <td>5</td>\n",
              "      <td>5</td>\n",
              "      <td>3</td>\n",
              "      <td>3</td>\n",
              "      <td>5</td>\n",
              "      <td>5</td>\n",
              "      <td>5</td>\n",
              "      <td>5</td>\n",
              "      <td>4</td>\n",
              "      <td>4</td>\n",
              "      <td>5</td>\n",
              "      <td>5</td>\n",
              "      <td>5</td>\n",
              "      <td>4</td>\n",
              "      <td>4</td>\n",
              "    </tr>\n",
              "    <tr>\n",
              "      <th>...</th>\n",
              "      <td>...</td>\n",
              "      <td>...</td>\n",
              "      <td>...</td>\n",
              "      <td>...</td>\n",
              "      <td>...</td>\n",
              "      <td>...</td>\n",
              "      <td>...</td>\n",
              "      <td>...</td>\n",
              "      <td>...</td>\n",
              "      <td>...</td>\n",
              "      <td>...</td>\n",
              "      <td>...</td>\n",
              "      <td>...</td>\n",
              "      <td>...</td>\n",
              "      <td>...</td>\n",
              "      <td>...</td>\n",
              "      <td>...</td>\n",
              "      <td>...</td>\n",
              "      <td>...</td>\n",
              "      <td>...</td>\n",
              "      <td>...</td>\n",
              "      <td>...</td>\n",
              "      <td>...</td>\n",
              "      <td>...</td>\n",
              "      <td>...</td>\n",
              "      <td>...</td>\n",
              "      <td>...</td>\n",
              "      <td>...</td>\n",
              "      <td>...</td>\n",
              "      <td>...</td>\n",
              "      <td>...</td>\n",
              "      <td>...</td>\n",
              "      <td>...</td>\n",
              "      <td>...</td>\n",
              "      <td>...</td>\n",
              "      <td>...</td>\n",
              "      <td>...</td>\n",
              "      <td>...</td>\n",
              "      <td>...</td>\n",
              "      <td>...</td>\n",
              "      <td>...</td>\n",
              "      <td>...</td>\n",
              "      <td>...</td>\n",
              "      <td>...</td>\n",
              "      <td>...</td>\n",
              "      <td>...</td>\n",
              "      <td>...</td>\n",
              "      <td>...</td>\n",
              "      <td>...</td>\n",
              "      <td>...</td>\n",
              "      <td>...</td>\n",
              "      <td>...</td>\n",
              "      <td>...</td>\n",
              "    </tr>\n",
              "    <tr>\n",
              "      <th>908</th>\n",
              "      <td>43</td>\n",
              "      <td>0</td>\n",
              "      <td>5</td>\n",
              "      <td>1</td>\n",
              "      <td>21</td>\n",
              "      <td>2</td>\n",
              "      <td>6</td>\n",
              "      <td>2</td>\n",
              "      <td>2</td>\n",
              "      <td>0</td>\n",
              "      <td>3</td>\n",
              "      <td>3</td>\n",
              "      <td>3</td>\n",
              "      <td>5</td>\n",
              "      <td>5</td>\n",
              "      <td>2</td>\n",
              "      <td>4</td>\n",
              "      <td>5</td>\n",
              "      <td>3</td>\n",
              "      <td>3</td>\n",
              "      <td>4</td>\n",
              "      <td>5</td>\n",
              "      <td>2</td>\n",
              "      <td>2</td>\n",
              "      <td>2</td>\n",
              "      <td>1</td>\n",
              "      <td>2</td>\n",
              "      <td>2</td>\n",
              "      <td>2</td>\n",
              "      <td>3</td>\n",
              "      <td>3</td>\n",
              "      <td>4</td>\n",
              "      <td>1</td>\n",
              "      <td>1</td>\n",
              "      <td>2</td>\n",
              "      <td>2</td>\n",
              "      <td>2</td>\n",
              "      <td>1</td>\n",
              "      <td>2</td>\n",
              "      <td>1</td>\n",
              "      <td>5</td>\n",
              "      <td>4</td>\n",
              "      <td>2</td>\n",
              "      <td>2</td>\n",
              "      <td>2</td>\n",
              "      <td>2</td>\n",
              "      <td>2</td>\n",
              "      <td>2</td>\n",
              "      <td>4</td>\n",
              "      <td>4</td>\n",
              "      <td>4</td>\n",
              "      <td>1</td>\n",
              "      <td>1</td>\n",
              "    </tr>\n",
              "    <tr>\n",
              "      <th>909</th>\n",
              "      <td>53</td>\n",
              "      <td>0</td>\n",
              "      <td>6</td>\n",
              "      <td>0</td>\n",
              "      <td>25</td>\n",
              "      <td>2</td>\n",
              "      <td>6</td>\n",
              "      <td>2</td>\n",
              "      <td>6</td>\n",
              "      <td>0</td>\n",
              "      <td>3</td>\n",
              "      <td>3</td>\n",
              "      <td>4</td>\n",
              "      <td>5</td>\n",
              "      <td>4</td>\n",
              "      <td>3</td>\n",
              "      <td>4</td>\n",
              "      <td>4</td>\n",
              "      <td>4</td>\n",
              "      <td>4</td>\n",
              "      <td>4</td>\n",
              "      <td>3</td>\n",
              "      <td>3</td>\n",
              "      <td>2</td>\n",
              "      <td>3</td>\n",
              "      <td>3</td>\n",
              "      <td>2</td>\n",
              "      <td>4</td>\n",
              "      <td>2</td>\n",
              "      <td>5</td>\n",
              "      <td>4</td>\n",
              "      <td>5</td>\n",
              "      <td>3</td>\n",
              "      <td>2</td>\n",
              "      <td>3</td>\n",
              "      <td>3</td>\n",
              "      <td>5</td>\n",
              "      <td>2</td>\n",
              "      <td>2</td>\n",
              "      <td>4</td>\n",
              "      <td>3</td>\n",
              "      <td>3</td>\n",
              "      <td>4</td>\n",
              "      <td>4</td>\n",
              "      <td>4</td>\n",
              "      <td>3</td>\n",
              "      <td>3</td>\n",
              "      <td>4</td>\n",
              "      <td>4</td>\n",
              "      <td>4</td>\n",
              "      <td>4</td>\n",
              "      <td>1</td>\n",
              "      <td>1</td>\n",
              "    </tr>\n",
              "    <tr>\n",
              "      <th>910</th>\n",
              "      <td>39</td>\n",
              "      <td>0</td>\n",
              "      <td>5</td>\n",
              "      <td>1</td>\n",
              "      <td>9</td>\n",
              "      <td>2</td>\n",
              "      <td>6</td>\n",
              "      <td>2</td>\n",
              "      <td>4</td>\n",
              "      <td>0</td>\n",
              "      <td>3</td>\n",
              "      <td>3</td>\n",
              "      <td>3</td>\n",
              "      <td>5</td>\n",
              "      <td>4</td>\n",
              "      <td>3</td>\n",
              "      <td>3</td>\n",
              "      <td>4</td>\n",
              "      <td>3</td>\n",
              "      <td>3</td>\n",
              "      <td>2</td>\n",
              "      <td>5</td>\n",
              "      <td>2</td>\n",
              "      <td>2</td>\n",
              "      <td>4</td>\n",
              "      <td>1</td>\n",
              "      <td>1</td>\n",
              "      <td>2</td>\n",
              "      <td>3</td>\n",
              "      <td>4</td>\n",
              "      <td>5</td>\n",
              "      <td>4</td>\n",
              "      <td>3</td>\n",
              "      <td>1</td>\n",
              "      <td>1</td>\n",
              "      <td>1</td>\n",
              "      <td>3</td>\n",
              "      <td>5</td>\n",
              "      <td>5</td>\n",
              "      <td>3</td>\n",
              "      <td>3</td>\n",
              "      <td>1</td>\n",
              "      <td>2</td>\n",
              "      <td>2</td>\n",
              "      <td>5</td>\n",
              "      <td>4</td>\n",
              "      <td>3</td>\n",
              "      <td>3</td>\n",
              "      <td>5</td>\n",
              "      <td>5</td>\n",
              "      <td>5</td>\n",
              "      <td>4</td>\n",
              "      <td>1</td>\n",
              "    </tr>\n",
              "    <tr>\n",
              "      <th>911</th>\n",
              "      <td>40</td>\n",
              "      <td>0</td>\n",
              "      <td>3</td>\n",
              "      <td>1</td>\n",
              "      <td>10</td>\n",
              "      <td>2</td>\n",
              "      <td>6</td>\n",
              "      <td>2</td>\n",
              "      <td>2</td>\n",
              "      <td>0</td>\n",
              "      <td>3</td>\n",
              "      <td>3</td>\n",
              "      <td>5</td>\n",
              "      <td>5</td>\n",
              "      <td>4</td>\n",
              "      <td>2</td>\n",
              "      <td>4</td>\n",
              "      <td>4</td>\n",
              "      <td>4</td>\n",
              "      <td>4</td>\n",
              "      <td>3</td>\n",
              "      <td>2</td>\n",
              "      <td>5</td>\n",
              "      <td>3</td>\n",
              "      <td>2</td>\n",
              "      <td>5</td>\n",
              "      <td>4</td>\n",
              "      <td>5</td>\n",
              "      <td>4</td>\n",
              "      <td>5</td>\n",
              "      <td>5</td>\n",
              "      <td>5</td>\n",
              "      <td>3</td>\n",
              "      <td>1</td>\n",
              "      <td>5</td>\n",
              "      <td>5</td>\n",
              "      <td>4</td>\n",
              "      <td>1</td>\n",
              "      <td>2</td>\n",
              "      <td>4</td>\n",
              "      <td>4</td>\n",
              "      <td>2</td>\n",
              "      <td>5</td>\n",
              "      <td>5</td>\n",
              "      <td>1</td>\n",
              "      <td>5</td>\n",
              "      <td>2</td>\n",
              "      <td>2</td>\n",
              "      <td>4</td>\n",
              "      <td>4</td>\n",
              "      <td>2</td>\n",
              "      <td>1</td>\n",
              "      <td>1</td>\n",
              "    </tr>\n",
              "    <tr>\n",
              "      <th>912</th>\n",
              "      <td>41</td>\n",
              "      <td>1</td>\n",
              "      <td>3</td>\n",
              "      <td>1</td>\n",
              "      <td>12</td>\n",
              "      <td>2</td>\n",
              "      <td>6</td>\n",
              "      <td>2</td>\n",
              "      <td>2</td>\n",
              "      <td>0</td>\n",
              "      <td>3</td>\n",
              "      <td>4</td>\n",
              "      <td>3</td>\n",
              "      <td>5</td>\n",
              "      <td>5</td>\n",
              "      <td>5</td>\n",
              "      <td>4</td>\n",
              "      <td>4</td>\n",
              "      <td>3</td>\n",
              "      <td>3</td>\n",
              "      <td>3</td>\n",
              "      <td>2</td>\n",
              "      <td>3</td>\n",
              "      <td>2</td>\n",
              "      <td>3</td>\n",
              "      <td>1</td>\n",
              "      <td>3</td>\n",
              "      <td>5</td>\n",
              "      <td>4</td>\n",
              "      <td>4</td>\n",
              "      <td>4</td>\n",
              "      <td>4</td>\n",
              "      <td>2</td>\n",
              "      <td>1</td>\n",
              "      <td>3</td>\n",
              "      <td>3</td>\n",
              "      <td>3</td>\n",
              "      <td>1</td>\n",
              "      <td>1</td>\n",
              "      <td>4</td>\n",
              "      <td>4</td>\n",
              "      <td>4</td>\n",
              "      <td>3</td>\n",
              "      <td>3</td>\n",
              "      <td>3</td>\n",
              "      <td>4</td>\n",
              "      <td>3</td>\n",
              "      <td>3</td>\n",
              "      <td>2</td>\n",
              "      <td>3</td>\n",
              "      <td>3</td>\n",
              "      <td>1</td>\n",
              "      <td>1</td>\n",
              "    </tr>\n",
              "  </tbody>\n",
              "</table>\n",
              "<p>913 rows × 53 columns</p>\n",
              "</div>"
            ],
            "text/plain": [
              "     AGE  GENDER DOMAIN  PhD  YEARSEXP  ...  Exp1 Exp2 Exp3 Exp4 Exp5\n",
              "0     40       0      2    1        14  ...     4    4    4    1    2\n",
              "1     42       0      5    1        18  ...     2    2    4    2    4\n",
              "2     37       0      4    1        13  ...     2    2    2    1    3\n",
              "3     40       0      4    0        13  ...     4    4    3    3    4\n",
              "4     51       0      6    0         8  ...     5    5    5    4    4\n",
              "..   ...     ...    ...  ...       ...  ...   ...  ...  ...  ...  ...\n",
              "908   43       0      5    1        21  ...     4    4    4    1    1\n",
              "909   53       0      6    0        25  ...     4    4    4    1    1\n",
              "910   39       0      5    1         9  ...     5    5    5    4    1\n",
              "911   40       0      3    1        10  ...     4    4    2    1    1\n",
              "912   41       1      3    1        12  ...     2    3    3    1    1\n",
              "\n",
              "[913 rows x 53 columns]"
            ]
          },
          "metadata": {},
          "execution_count": 83
        }
      ]
    },
    {
      "cell_type": "code",
      "metadata": {
        "id": "RQempCJajB-u",
        "colab": {
          "base_uri": "https://localhost:8080/",
          "height": 381
        },
        "outputId": "8598979c-dddb-4506-b7c0-398cdf6b191a"
      },
      "source": [
        "from sklearn import preprocessing\n",
        "\n",
        "cols = new_df_wiki.columns\n",
        "min_max_scaler = preprocessing.MinMaxScaler()\n",
        "np_scaled = min_max_scaler.fit_transform(new_df_wiki)\n",
        "df_normalized = pd.DataFrame(np_scaled, columns = cols)\n",
        "df_normalized"
      ],
      "execution_count": null,
      "outputs": [
        {
          "output_type": "error",
          "ename": "ValueError",
          "evalue": "ignored",
          "traceback": [
            "\u001b[0;31m---------------------------------------------------------------------------\u001b[0m",
            "\u001b[0;31mValueError\u001b[0m                                Traceback (most recent call last)",
            "\u001b[0;32m<ipython-input-86-e63e6d8c8e49>\u001b[0m in \u001b[0;36m<module>\u001b[0;34m()\u001b[0m\n\u001b[1;32m      3\u001b[0m \u001b[0mcols\u001b[0m \u001b[0;34m=\u001b[0m \u001b[0mnew_df_wiki\u001b[0m\u001b[0;34m.\u001b[0m\u001b[0mcolumns\u001b[0m\u001b[0;34m\u001b[0m\u001b[0;34m\u001b[0m\u001b[0m\n\u001b[1;32m      4\u001b[0m \u001b[0mmin_max_scaler\u001b[0m \u001b[0;34m=\u001b[0m \u001b[0mpreprocessing\u001b[0m\u001b[0;34m.\u001b[0m\u001b[0mMinMaxScaler\u001b[0m\u001b[0;34m(\u001b[0m\u001b[0;34m)\u001b[0m\u001b[0;34m\u001b[0m\u001b[0;34m\u001b[0m\u001b[0m\n\u001b[0;32m----> 5\u001b[0;31m \u001b[0mnp_scaled\u001b[0m \u001b[0;34m=\u001b[0m \u001b[0mmin_max_scaler\u001b[0m\u001b[0;34m.\u001b[0m\u001b[0mfit_transform\u001b[0m\u001b[0;34m(\u001b[0m\u001b[0mnew_df_wiki\u001b[0m\u001b[0;34m)\u001b[0m\u001b[0;34m\u001b[0m\u001b[0;34m\u001b[0m\u001b[0m\n\u001b[0m\u001b[1;32m      6\u001b[0m \u001b[0mdf_normalized\u001b[0m \u001b[0;34m=\u001b[0m \u001b[0mpd\u001b[0m\u001b[0;34m.\u001b[0m\u001b[0mDataFrame\u001b[0m\u001b[0;34m(\u001b[0m\u001b[0mnp_scaled\u001b[0m\u001b[0;34m,\u001b[0m \u001b[0mcolumns\u001b[0m \u001b[0;34m=\u001b[0m \u001b[0mcols\u001b[0m\u001b[0;34m)\u001b[0m\u001b[0;34m\u001b[0m\u001b[0;34m\u001b[0m\u001b[0m\n\u001b[1;32m      7\u001b[0m \u001b[0mdf_normalized\u001b[0m\u001b[0;34m\u001b[0m\u001b[0;34m\u001b[0m\u001b[0m\n",
            "\u001b[0;32m/usr/local/lib/python3.7/dist-packages/sklearn/base.py\u001b[0m in \u001b[0;36mfit_transform\u001b[0;34m(self, X, y, **fit_params)\u001b[0m\n\u001b[1;32m    569\u001b[0m         \u001b[0;32mif\u001b[0m \u001b[0my\u001b[0m \u001b[0;32mis\u001b[0m \u001b[0;32mNone\u001b[0m\u001b[0;34m:\u001b[0m\u001b[0;34m\u001b[0m\u001b[0;34m\u001b[0m\u001b[0m\n\u001b[1;32m    570\u001b[0m             \u001b[0;31m# fit method of arity 1 (unsupervised transformation)\u001b[0m\u001b[0;34m\u001b[0m\u001b[0;34m\u001b[0m\u001b[0;34m\u001b[0m\u001b[0m\n\u001b[0;32m--> 571\u001b[0;31m             \u001b[0;32mreturn\u001b[0m \u001b[0mself\u001b[0m\u001b[0;34m.\u001b[0m\u001b[0mfit\u001b[0m\u001b[0;34m(\u001b[0m\u001b[0mX\u001b[0m\u001b[0;34m,\u001b[0m \u001b[0;34m**\u001b[0m\u001b[0mfit_params\u001b[0m\u001b[0;34m)\u001b[0m\u001b[0;34m.\u001b[0m\u001b[0mtransform\u001b[0m\u001b[0;34m(\u001b[0m\u001b[0mX\u001b[0m\u001b[0;34m)\u001b[0m\u001b[0;34m\u001b[0m\u001b[0;34m\u001b[0m\u001b[0m\n\u001b[0m\u001b[1;32m    572\u001b[0m         \u001b[0;32melse\u001b[0m\u001b[0;34m:\u001b[0m\u001b[0;34m\u001b[0m\u001b[0;34m\u001b[0m\u001b[0m\n\u001b[1;32m    573\u001b[0m             \u001b[0;31m# fit method of arity 2 (supervised transformation)\u001b[0m\u001b[0;34m\u001b[0m\u001b[0;34m\u001b[0m\u001b[0;34m\u001b[0m\u001b[0m\n",
            "\u001b[0;32m/usr/local/lib/python3.7/dist-packages/sklearn/preprocessing/_data.py\u001b[0m in \u001b[0;36mfit\u001b[0;34m(self, X, y)\u001b[0m\n\u001b[1;32m    337\u001b[0m         \u001b[0;31m# Reset internal state before fitting\u001b[0m\u001b[0;34m\u001b[0m\u001b[0;34m\u001b[0m\u001b[0;34m\u001b[0m\u001b[0m\n\u001b[1;32m    338\u001b[0m         \u001b[0mself\u001b[0m\u001b[0;34m.\u001b[0m\u001b[0m_reset\u001b[0m\u001b[0;34m(\u001b[0m\u001b[0;34m)\u001b[0m\u001b[0;34m\u001b[0m\u001b[0;34m\u001b[0m\u001b[0m\n\u001b[0;32m--> 339\u001b[0;31m         \u001b[0;32mreturn\u001b[0m \u001b[0mself\u001b[0m\u001b[0;34m.\u001b[0m\u001b[0mpartial_fit\u001b[0m\u001b[0;34m(\u001b[0m\u001b[0mX\u001b[0m\u001b[0;34m,\u001b[0m \u001b[0my\u001b[0m\u001b[0;34m)\u001b[0m\u001b[0;34m\u001b[0m\u001b[0;34m\u001b[0m\u001b[0m\n\u001b[0m\u001b[1;32m    340\u001b[0m \u001b[0;34m\u001b[0m\u001b[0m\n\u001b[1;32m    341\u001b[0m     \u001b[0;32mdef\u001b[0m \u001b[0mpartial_fit\u001b[0m\u001b[0;34m(\u001b[0m\u001b[0mself\u001b[0m\u001b[0;34m,\u001b[0m \u001b[0mX\u001b[0m\u001b[0;34m,\u001b[0m \u001b[0my\u001b[0m\u001b[0;34m=\u001b[0m\u001b[0;32mNone\u001b[0m\u001b[0;34m)\u001b[0m\u001b[0;34m:\u001b[0m\u001b[0;34m\u001b[0m\u001b[0;34m\u001b[0m\u001b[0m\n",
            "\u001b[0;32m/usr/local/lib/python3.7/dist-packages/sklearn/preprocessing/_data.py\u001b[0m in \u001b[0;36mpartial_fit\u001b[0;34m(self, X, y)\u001b[0m\n\u001b[1;32m    371\u001b[0m         X = check_array(X,\n\u001b[1;32m    372\u001b[0m                         \u001b[0mestimator\u001b[0m\u001b[0;34m=\u001b[0m\u001b[0mself\u001b[0m\u001b[0;34m,\u001b[0m \u001b[0mdtype\u001b[0m\u001b[0;34m=\u001b[0m\u001b[0mFLOAT_DTYPES\u001b[0m\u001b[0;34m,\u001b[0m\u001b[0;34m\u001b[0m\u001b[0;34m\u001b[0m\u001b[0m\n\u001b[0;32m--> 373\u001b[0;31m                         force_all_finite=\"allow-nan\")\n\u001b[0m\u001b[1;32m    374\u001b[0m \u001b[0;34m\u001b[0m\u001b[0m\n\u001b[1;32m    375\u001b[0m         \u001b[0mdata_min\u001b[0m \u001b[0;34m=\u001b[0m \u001b[0mnp\u001b[0m\u001b[0;34m.\u001b[0m\u001b[0mnanmin\u001b[0m\u001b[0;34m(\u001b[0m\u001b[0mX\u001b[0m\u001b[0;34m,\u001b[0m \u001b[0maxis\u001b[0m\u001b[0;34m=\u001b[0m\u001b[0;36m0\u001b[0m\u001b[0;34m)\u001b[0m\u001b[0;34m\u001b[0m\u001b[0;34m\u001b[0m\u001b[0m\n",
            "\u001b[0;32m/usr/local/lib/python3.7/dist-packages/sklearn/utils/validation.py\u001b[0m in \u001b[0;36mcheck_array\u001b[0;34m(array, accept_sparse, accept_large_sparse, dtype, order, copy, force_all_finite, ensure_2d, allow_nd, ensure_min_samples, ensure_min_features, warn_on_dtype, estimator)\u001b[0m\n\u001b[1;32m    529\u001b[0m                     \u001b[0marray\u001b[0m \u001b[0;34m=\u001b[0m \u001b[0marray\u001b[0m\u001b[0;34m.\u001b[0m\u001b[0mastype\u001b[0m\u001b[0;34m(\u001b[0m\u001b[0mdtype\u001b[0m\u001b[0;34m,\u001b[0m \u001b[0mcasting\u001b[0m\u001b[0;34m=\u001b[0m\u001b[0;34m\"unsafe\"\u001b[0m\u001b[0;34m,\u001b[0m \u001b[0mcopy\u001b[0m\u001b[0;34m=\u001b[0m\u001b[0;32mFalse\u001b[0m\u001b[0;34m)\u001b[0m\u001b[0;34m\u001b[0m\u001b[0;34m\u001b[0m\u001b[0m\n\u001b[1;32m    530\u001b[0m                 \u001b[0;32melse\u001b[0m\u001b[0;34m:\u001b[0m\u001b[0;34m\u001b[0m\u001b[0;34m\u001b[0m\u001b[0m\n\u001b[0;32m--> 531\u001b[0;31m                     \u001b[0marray\u001b[0m \u001b[0;34m=\u001b[0m \u001b[0mnp\u001b[0m\u001b[0;34m.\u001b[0m\u001b[0masarray\u001b[0m\u001b[0;34m(\u001b[0m\u001b[0marray\u001b[0m\u001b[0;34m,\u001b[0m \u001b[0morder\u001b[0m\u001b[0;34m=\u001b[0m\u001b[0morder\u001b[0m\u001b[0;34m,\u001b[0m \u001b[0mdtype\u001b[0m\u001b[0;34m=\u001b[0m\u001b[0mdtype\u001b[0m\u001b[0;34m)\u001b[0m\u001b[0;34m\u001b[0m\u001b[0;34m\u001b[0m\u001b[0m\n\u001b[0m\u001b[1;32m    532\u001b[0m             \u001b[0;32mexcept\u001b[0m \u001b[0mComplexWarning\u001b[0m\u001b[0;34m:\u001b[0m\u001b[0;34m\u001b[0m\u001b[0;34m\u001b[0m\u001b[0m\n\u001b[1;32m    533\u001b[0m                 raise ValueError(\"Complex data not supported\\n\"\n",
            "\u001b[0;32m/usr/local/lib/python3.7/dist-packages/numpy/core/_asarray.py\u001b[0m in \u001b[0;36masarray\u001b[0;34m(a, dtype, order)\u001b[0m\n\u001b[1;32m     81\u001b[0m \u001b[0;34m\u001b[0m\u001b[0m\n\u001b[1;32m     82\u001b[0m     \"\"\"\n\u001b[0;32m---> 83\u001b[0;31m     \u001b[0;32mreturn\u001b[0m \u001b[0marray\u001b[0m\u001b[0;34m(\u001b[0m\u001b[0ma\u001b[0m\u001b[0;34m,\u001b[0m \u001b[0mdtype\u001b[0m\u001b[0;34m,\u001b[0m \u001b[0mcopy\u001b[0m\u001b[0;34m=\u001b[0m\u001b[0;32mFalse\u001b[0m\u001b[0;34m,\u001b[0m \u001b[0morder\u001b[0m\u001b[0;34m=\u001b[0m\u001b[0morder\u001b[0m\u001b[0;34m)\u001b[0m\u001b[0;34m\u001b[0m\u001b[0;34m\u001b[0m\u001b[0m\n\u001b[0m\u001b[1;32m     84\u001b[0m \u001b[0;34m\u001b[0m\u001b[0m\n\u001b[1;32m     85\u001b[0m \u001b[0;34m\u001b[0m\u001b[0m\n",
            "\u001b[0;32m/usr/local/lib/python3.7/dist-packages/pandas/core/generic.py\u001b[0m in \u001b[0;36m__array__\u001b[0;34m(self, dtype)\u001b[0m\n\u001b[1;32m   1779\u001b[0m \u001b[0;34m\u001b[0m\u001b[0m\n\u001b[1;32m   1780\u001b[0m     \u001b[0;32mdef\u001b[0m \u001b[0m__array__\u001b[0m\u001b[0;34m(\u001b[0m\u001b[0mself\u001b[0m\u001b[0;34m,\u001b[0m \u001b[0mdtype\u001b[0m\u001b[0;34m=\u001b[0m\u001b[0;32mNone\u001b[0m\u001b[0;34m)\u001b[0m \u001b[0;34m->\u001b[0m \u001b[0mnp\u001b[0m\u001b[0;34m.\u001b[0m\u001b[0mndarray\u001b[0m\u001b[0;34m:\u001b[0m\u001b[0;34m\u001b[0m\u001b[0;34m\u001b[0m\u001b[0m\n\u001b[0;32m-> 1781\u001b[0;31m         \u001b[0;32mreturn\u001b[0m \u001b[0mnp\u001b[0m\u001b[0;34m.\u001b[0m\u001b[0masarray\u001b[0m\u001b[0;34m(\u001b[0m\u001b[0mself\u001b[0m\u001b[0;34m.\u001b[0m\u001b[0m_values\u001b[0m\u001b[0;34m,\u001b[0m \u001b[0mdtype\u001b[0m\u001b[0;34m=\u001b[0m\u001b[0mdtype\u001b[0m\u001b[0;34m)\u001b[0m\u001b[0;34m\u001b[0m\u001b[0;34m\u001b[0m\u001b[0m\n\u001b[0m\u001b[1;32m   1782\u001b[0m \u001b[0;34m\u001b[0m\u001b[0m\n\u001b[1;32m   1783\u001b[0m     \u001b[0;32mdef\u001b[0m \u001b[0m__array_wrap__\u001b[0m\u001b[0;34m(\u001b[0m\u001b[0mself\u001b[0m\u001b[0;34m,\u001b[0m \u001b[0mresult\u001b[0m\u001b[0;34m,\u001b[0m \u001b[0mcontext\u001b[0m\u001b[0;34m=\u001b[0m\u001b[0;32mNone\u001b[0m\u001b[0;34m)\u001b[0m\u001b[0;34m:\u001b[0m\u001b[0;34m\u001b[0m\u001b[0;34m\u001b[0m\u001b[0m\n",
            "\u001b[0;32m/usr/local/lib/python3.7/dist-packages/numpy/core/_asarray.py\u001b[0m in \u001b[0;36masarray\u001b[0;34m(a, dtype, order)\u001b[0m\n\u001b[1;32m     81\u001b[0m \u001b[0;34m\u001b[0m\u001b[0m\n\u001b[1;32m     82\u001b[0m     \"\"\"\n\u001b[0;32m---> 83\u001b[0;31m     \u001b[0;32mreturn\u001b[0m \u001b[0marray\u001b[0m\u001b[0;34m(\u001b[0m\u001b[0ma\u001b[0m\u001b[0;34m,\u001b[0m \u001b[0mdtype\u001b[0m\u001b[0;34m,\u001b[0m \u001b[0mcopy\u001b[0m\u001b[0;34m=\u001b[0m\u001b[0;32mFalse\u001b[0m\u001b[0;34m,\u001b[0m \u001b[0morder\u001b[0m\u001b[0;34m=\u001b[0m\u001b[0morder\u001b[0m\u001b[0;34m)\u001b[0m\u001b[0;34m\u001b[0m\u001b[0;34m\u001b[0m\u001b[0m\n\u001b[0m\u001b[1;32m     84\u001b[0m \u001b[0;34m\u001b[0m\u001b[0m\n\u001b[1;32m     85\u001b[0m \u001b[0;34m\u001b[0m\u001b[0m\n",
            "\u001b[0;31mValueError\u001b[0m: could not convert string to float: '?'"
          ]
        }
      ]
    }
  ]
}